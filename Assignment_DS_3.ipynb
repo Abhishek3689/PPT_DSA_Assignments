{
 "cells": [
  {
   "cell_type": "markdown",
   "id": "20aa51a5-9696-44d1-9665-b7d97cb37675",
   "metadata": {},
   "source": [
    "\n",
    "1. Scenario: A company wants to analyze the sales performance of its products in different regions. They have collected the following data:\n",
    "  - Region A: [10, 15, 12, 8, 14]\n",
    "  - Region B: [18, 20, 16, 22, 25]\n",
    "  - Calculate the mean sales for each region."
   ]
  },
  {
   "cell_type": "code",
   "execution_count": 1,
   "id": "7acd225a-5109-4ddc-a50e-58c89bc4b999",
   "metadata": {},
   "outputs": [],
   "source": [
    "import pandas as pd\n",
    "import numpy as np"
   ]
  },
  {
   "cell_type": "code",
   "execution_count": 2,
   "id": "beb61e9b-80f0-418a-95d6-a9b4ab959a6d",
   "metadata": {},
   "outputs": [],
   "source": [
    "Region_A = [10, 15, 12, 8, 14]\n",
    "Region_B = [18, 20, 16, 22, 25]"
   ]
  },
  {
   "cell_type": "code",
   "execution_count": 3,
   "id": "d821a85f-c5f7-4a32-a1b9-79d74dc46884",
   "metadata": {},
   "outputs": [],
   "source": [
    "mean_A=np.mean(Region_A)\n",
    "mean_B=np.mean(Region_B)"
   ]
  },
  {
   "cell_type": "code",
   "execution_count": 4,
   "id": "a34f9bd6-08cc-4214-ab88-3b2301322b8d",
   "metadata": {},
   "outputs": [
    {
     "name": "stdout",
     "output_type": "stream",
     "text": [
      "Mean of Region A is 11.8\n",
      "Mean of Region B is 20.2\n"
     ]
    }
   ],
   "source": [
    "print(f\"Mean of Region A is {mean_A}\")\n",
    "print(f\"Mean of Region B is {mean_B}\")"
   ]
  },
  {
   "cell_type": "markdown",
   "id": "32f390ca-2826-4dd2-aceb-d5652d24757f",
   "metadata": {},
   "source": [
    "2. Scenario: A survey is conducted to measure customer satisfaction on a scale of 1 to 5. The data collected is as follows:\n",
    "   - [4, 5, 2, 3, 5, 4, 3, 2, 4, 5]\n",
    "   - Calculate the mode of the survey responses.\n"
   ]
  },
  {
   "cell_type": "code",
   "execution_count": 5,
   "id": "90b4e9cc-79f0-47da-b7df-d43aa93f5525",
   "metadata": {},
   "outputs": [],
   "source": [
    "Ratings=[4, 5, 2, 3, 5, 4, 3, 2, 4, 5]"
   ]
  },
  {
   "cell_type": "code",
   "execution_count": 6,
   "id": "f2ae31fb-05f9-4b37-8289-29d399ba529c",
   "metadata": {},
   "outputs": [],
   "source": [
    "df=pd.DataFrame(Ratings,columns=['Customer_Satisfaction'])"
   ]
  },
  {
   "cell_type": "code",
   "execution_count": 7,
   "id": "c9bf1b5e-97b7-46bc-b43b-3ebde0d4398d",
   "metadata": {},
   "outputs": [],
   "source": [
    "mode=df['Customer_Satisfaction'].mode()[0]"
   ]
  },
  {
   "cell_type": "code",
   "execution_count": 8,
   "id": "09b40ca2-1335-4373-896c-c1a0845cda84",
   "metadata": {},
   "outputs": [
    {
     "name": "stdout",
     "output_type": "stream",
     "text": [
      " Mode of Customer Satisfaction is 4\n"
     ]
    }
   ],
   "source": [
    "print(f\" Mode of Customer Satisfaction is {mode}\")"
   ]
  },
  {
   "cell_type": "markdown",
   "id": "b8223cc6-885c-461a-84cc-f26921db4498",
   "metadata": {},
   "source": [
    "3. Scenario: A company wants to compare the salaries of two departments. The salary data for Department A and Department B are as follows:\n",
    "   - Department A: [5000, 6000, 5500, 7000]\n",
    "   - Department B: [4500, 5500, 5800, 6000, 5200]\n",
    "   - Calculate the median salary for each department.\n"
   ]
  },
  {
   "cell_type": "code",
   "execution_count": 9,
   "id": "c1483809-2752-4266-8dc2-e0eee5ba44ff",
   "metadata": {},
   "outputs": [],
   "source": [
    "Department_A= [5000, 6000, 5500, 7000]\n",
    "Department_B=[4500, 5500, 5800, 6000, 5200]"
   ]
  },
  {
   "cell_type": "code",
   "execution_count": 10,
   "id": "4844a24b-67a1-4f1f-8527-272188389ae6",
   "metadata": {},
   "outputs": [],
   "source": [
    "median_A=np.median(Department_A)\n",
    "median_B=np.median(Department_B)"
   ]
  },
  {
   "cell_type": "code",
   "execution_count": 11,
   "id": "7f0f2235-0048-4198-9722-277576d9dc10",
   "metadata": {},
   "outputs": [
    {
     "name": "stdout",
     "output_type": "stream",
     "text": [
      "Median of Department_A is 5750.0\n",
      "Median of Department_B is 5500.0\n"
     ]
    }
   ],
   "source": [
    "print(\"Median of Department_A is {}\".format(median_A))\n",
    "print(\"Median of Department_B is {}\".format(median_B))"
   ]
  },
  {
   "cell_type": "markdown",
   "id": "1f160295-a714-485c-af08-aa45e92cca09",
   "metadata": {},
   "source": [
    "4. Scenario: A data analyst wants to determine the variability in the daily stock prices of a company. The data collected is as follows:\n",
    "   - [25.5, 24.8, 26.1, 25.3, 24.9]\n",
    "   - Calculate the range of the stock prices\n"
   ]
  },
  {
   "cell_type": "code",
   "execution_count": 12,
   "id": "ba3f4a18-7bdd-4c7e-96a0-d5e17e2f35a8",
   "metadata": {},
   "outputs": [],
   "source": [
    "Stock_price=[25.5, 24.8, 26.1, 25.3, 24.9]"
   ]
  },
  {
   "cell_type": "code",
   "execution_count": 13,
   "id": "270b7101-8c88-4e9c-8424-62533fdc92d3",
   "metadata": {},
   "outputs": [],
   "source": [
    "Range=max(Stock_price)-min(Stock_price)"
   ]
  },
  {
   "cell_type": "code",
   "execution_count": 14,
   "id": "56a9a469-af56-40f2-b276-534e45698b33",
   "metadata": {},
   "outputs": [
    {
     "data": {
      "text/plain": [
       "1.3000000000000007"
      ]
     },
     "execution_count": 14,
     "metadata": {},
     "output_type": "execute_result"
    }
   ],
   "source": [
    "Range"
   ]
  },
  {
   "cell_type": "markdown",
   "id": "d3d7be21-6f6a-492b-b31d-bce84ab1cc80",
   "metadata": {},
   "source": [
    "5. Scenario: A study is conducted to compare the performance of two different teaching methods. The test scores of the students in each group are as follows:\n",
    "   - Group A: [85, 90, 92, 88, 91]\n",
    "   - Group B: [82, 88, 90, 86, 87]\n",
    "   - Perform a t-test to determine if there is a significant difference in the mean scores between the two groups\n"
   ]
  },
  {
   "cell_type": "code",
   "execution_count": 15,
   "id": "91146ea7-e22a-49ea-a49e-fb1f077b96c6",
   "metadata": {},
   "outputs": [],
   "source": [
    "Group_A= [85, 90, 92, 88, 91]\n",
    "Group_B= [82, 88, 90, 86, 87]\n"
   ]
  },
  {
   "cell_type": "code",
   "execution_count": 16,
   "id": "a0175c3b-18a7-4e19-9341-4b5589b44181",
   "metadata": {},
   "outputs": [],
   "source": [
    "mean_A=np.mean(Group_A)\n",
    "mean_B=np.mean(Group_B)"
   ]
  },
  {
   "cell_type": "code",
   "execution_count": 17,
   "id": "ba909c8f-ed3f-4b94-89c1-24546e5b5f9e",
   "metadata": {},
   "outputs": [
    {
     "name": "stdout",
     "output_type": "stream",
     "text": [
      "Mean A is 89.2 and mean of B is 86.6\n"
     ]
    }
   ],
   "source": [
    "print(f\"Mean A is {mean_A} and mean of B is {mean_B}\")"
   ]
  },
  {
   "cell_type": "code",
   "execution_count": 18,
   "id": "5bc715e0-0e0a-40c6-82c0-42f80f5f652d",
   "metadata": {},
   "outputs": [],
   "source": [
    "## lets consider significance level to  be 5%\n",
    "## Confidence Iterval=95%"
   ]
  },
  {
   "cell_type": "code",
   "execution_count": 19,
   "id": "f07b47cd-6715-4649-b168-c999db069ae1",
   "metadata": {},
   "outputs": [],
   "source": [
    "## lets check from t-table what is critical value corresponds to 0.025 as two tailed (significace level/2)"
   ]
  },
  {
   "cell_type": "code",
   "execution_count": 20,
   "id": "f1a5be96-5d5f-4dfc-a4a1-2c42b7ddafce",
   "metadata": {},
   "outputs": [],
   "source": [
    "## Critical value found fro table is 2.776 \n",
    "Critical_value=2.776"
   ]
  },
  {
   "cell_type": "code",
   "execution_count": 21,
   "id": "f4027956-daf1-4454-9606-d87525eae7c0",
   "metadata": {},
   "outputs": [],
   "source": [
    "std_A=np.std(Group_A)\n",
    "std_B=np.std(Group_B)"
   ]
  },
  {
   "cell_type": "code",
   "execution_count": 22,
   "id": "87c15738-db3b-4030-9dea-f5b909f982aa",
   "metadata": {},
   "outputs": [
    {
     "name": "stdout",
     "output_type": "stream",
     "text": [
      "STD of A is 2.4819347291981715 and for B is 2.6532998322843198\n"
     ]
    }
   ],
   "source": [
    "print(f\"STD of A is {std_A} and for B is {std_B}\")"
   ]
  },
  {
   "cell_type": "code",
   "execution_count": 23,
   "id": "e9c6217c-f4fd-4bee-871c-691b6d0eef14",
   "metadata": {},
   "outputs": [],
   "source": [
    "t_stats=(mean_A-mean_B)/(std_A/np.sqrt(5)+std_B/np.sqrt(5))"
   ]
  },
  {
   "cell_type": "code",
   "execution_count": 24,
   "id": "bea5f203-f59f-4435-83fa-512b3ca0a232",
   "metadata": {},
   "outputs": [
    {
     "data": {
      "text/plain": [
       "1.132134602985125"
      ]
     },
     "execution_count": 24,
     "metadata": {},
     "output_type": "execute_result"
    }
   ],
   "source": [
    "t_stats"
   ]
  },
  {
   "cell_type": "code",
   "execution_count": 25,
   "id": "fdbda846-361f-4267-bcdc-46b43018d329",
   "metadata": {},
   "outputs": [
    {
     "name": "stdout",
     "output_type": "stream",
     "text": [
      "There is not much significance difference so we accept the null hypothesis\n"
     ]
    }
   ],
   "source": [
    "if t_stats>Critical_value:\n",
    "    print(\"There is significant difference between samples and we reject the null hypothesis\")\n",
    "else:\n",
    "    print(\"There is not much significance difference so we accept the null hypothesis\")"
   ]
  },
  {
   "cell_type": "markdown",
   "id": "ecb81576-4a94-4d0c-b781-4df0b08f21a2",
   "metadata": {},
   "source": [
    "6. Scenario: A company wants to analyze the relationship between advertising expenditure and sales. The data collected is as follows:\n",
    "   - Advertising Expenditure (in thousands): [10, 15, 12, 8, 14]\n",
    "   - Sales (in thousands): [25, 30, 28, 20, 26]\n",
    "   - Calculate the correlation coefficient between advertising expenditure and sales.\n"
   ]
  },
  {
   "cell_type": "code",
   "execution_count": 26,
   "id": "4ef475ad-5c53-4644-a777-d63fab88ffed",
   "metadata": {},
   "outputs": [],
   "source": [
    "Advertising_Expenditure = [10, 15, 12, 8, 14]\n",
    "Sales = [25, 30, 28, 20, 26]"
   ]
  },
  {
   "cell_type": "code",
   "execution_count": 27,
   "id": "da08f371-be65-45b3-9e26-ae704d57b74e",
   "metadata": {},
   "outputs": [],
   "source": [
    "df_advert_sales=pd.DataFrame({'Advertising_Expenditure':Advertising_Expenditure,'Sales':Sales})"
   ]
  },
  {
   "cell_type": "code",
   "execution_count": 28,
   "id": "fc4ac0cc-0cdb-4e49-a450-cbbcc1f43417",
   "metadata": {},
   "outputs": [
    {
     "data": {
      "text/html": [
       "<div>\n",
       "<style scoped>\n",
       "    .dataframe tbody tr th:only-of-type {\n",
       "        vertical-align: middle;\n",
       "    }\n",
       "\n",
       "    .dataframe tbody tr th {\n",
       "        vertical-align: top;\n",
       "    }\n",
       "\n",
       "    .dataframe thead th {\n",
       "        text-align: right;\n",
       "    }\n",
       "</style>\n",
       "<table border=\"1\" class=\"dataframe\">\n",
       "  <thead>\n",
       "    <tr style=\"text-align: right;\">\n",
       "      <th></th>\n",
       "      <th>Advertising_Expenditure</th>\n",
       "      <th>Sales</th>\n",
       "    </tr>\n",
       "  </thead>\n",
       "  <tbody>\n",
       "    <tr>\n",
       "      <th>Advertising_Expenditure</th>\n",
       "      <td>1.000000</td>\n",
       "      <td>0.875751</td>\n",
       "    </tr>\n",
       "    <tr>\n",
       "      <th>Sales</th>\n",
       "      <td>0.875751</td>\n",
       "      <td>1.000000</td>\n",
       "    </tr>\n",
       "  </tbody>\n",
       "</table>\n",
       "</div>"
      ],
      "text/plain": [
       "                         Advertising_Expenditure     Sales\n",
       "Advertising_Expenditure                 1.000000  0.875751\n",
       "Sales                                   0.875751  1.000000"
      ]
     },
     "execution_count": 28,
     "metadata": {},
     "output_type": "execute_result"
    }
   ],
   "source": [
    "df_advert_sales.corr()"
   ]
  },
  {
   "cell_type": "markdown",
   "id": "058b21b1-fbd8-4e54-8e4a-524583522116",
   "metadata": {},
   "source": [
    "7. Scenario: A survey is conducted to measure the heights of a group of people. The data collected is as follows:\n",
    "   - [160, 170, 165, 155, 175, 180, 170]\n",
    "   - Calculate the standard deviation of the heights.\n"
   ]
  },
  {
   "cell_type": "code",
   "execution_count": 29,
   "id": "a6e7f11e-e910-4b0c-b1cd-e001bee20158",
   "metadata": {},
   "outputs": [],
   "source": [
    "mean= sum([160, 170, 165, 155, 175, 180, 170])/7"
   ]
  },
  {
   "cell_type": "code",
   "execution_count": 30,
   "id": "ab46a24e-4022-4ba6-a362-78504c530da4",
   "metadata": {},
   "outputs": [],
   "source": [
    "var=((160-mean)**2+(170-mean)**2+(165-mean)**2+(155-mean)**2+(175-mean)**2+(180-mean)**2+(170-mean)**2)/7"
   ]
  },
  {
   "cell_type": "code",
   "execution_count": 31,
   "id": "f75c471f-d6d3-449b-925f-50f010580709",
   "metadata": {},
   "outputs": [],
   "source": [
    "std=np.sqrt(var)"
   ]
  },
  {
   "cell_type": "code",
   "execution_count": 32,
   "id": "7982dceb-92da-492c-893b-1cbd897c6077",
   "metadata": {},
   "outputs": [
    {
     "name": "stdout",
     "output_type": "stream",
     "text": [
      "Standard Deviation of heights is 7.953949089757174\n"
     ]
    }
   ],
   "source": [
    "print(\"Standard Deviation of heights is {}\".format(std))"
   ]
  },
  {
   "cell_type": "code",
   "execution_count": 33,
   "id": "3cf79669-8f8f-439d-9139-6cf3958db413",
   "metadata": {},
   "outputs": [
    {
     "data": {
      "text/plain": [
       "7.953949089757174"
      ]
     },
     "execution_count": 33,
     "metadata": {},
     "output_type": "execute_result"
    }
   ],
   "source": [
    "np.std([160, 170, 165, 155, 175, 180, 170])"
   ]
  },
  {
   "cell_type": "markdown",
   "id": "22aeb99a-85ae-4b90-97d5-16a40b085cea",
   "metadata": {},
   "source": [
    "8. Scenario: A company wants to analyze the relationship between employee tenure and job satisfaction. The data collected is as follows:\n",
    "   - Employee Tenure (in years): [2, 3, 5, 4, 6, 2, 4]\n",
    "   - Job Satisfaction (on a scale of 1 to 10): [7, 8, 6, 9, 5, 7, 6]\n",
    "   - Perform a linear regression analysis to predict job satisfaction based on employee tenure.\n"
   ]
  },
  {
   "cell_type": "code",
   "execution_count": 34,
   "id": "3e25fa6a-5f93-4234-9f75-2bb5e55a1df5",
   "metadata": {},
   "outputs": [],
   "source": [
    "Employee_Tenure = [2, 3, 5, 4, 6, 2, 4]\n",
    "Job_Satisfaction = [7, 8, 6, 9, 5, 7, 6]"
   ]
  },
  {
   "cell_type": "code",
   "execution_count": 35,
   "id": "197b4bf2-cfaf-42fc-b1d8-ee1c98c538c6",
   "metadata": {},
   "outputs": [],
   "source": [
    "from sklearn.linear_model import LinearRegression"
   ]
  },
  {
   "cell_type": "code",
   "execution_count": 36,
   "id": "4a3753a5-05a3-4676-a1a4-fc74b91de437",
   "metadata": {},
   "outputs": [],
   "source": [
    "df=pd.DataFrame({'Employee_Tenure':Employee_Tenure,'Job_Satisfaction':Job_Satisfaction})"
   ]
  },
  {
   "cell_type": "code",
   "execution_count": 37,
   "id": "d22aaf61-d3bb-425c-8723-130ea294b981",
   "metadata": {},
   "outputs": [
    {
     "data": {
      "text/html": [
       "<div>\n",
       "<style scoped>\n",
       "    .dataframe tbody tr th:only-of-type {\n",
       "        vertical-align: middle;\n",
       "    }\n",
       "\n",
       "    .dataframe tbody tr th {\n",
       "        vertical-align: top;\n",
       "    }\n",
       "\n",
       "    .dataframe thead th {\n",
       "        text-align: right;\n",
       "    }\n",
       "</style>\n",
       "<table border=\"1\" class=\"dataframe\">\n",
       "  <thead>\n",
       "    <tr style=\"text-align: right;\">\n",
       "      <th></th>\n",
       "      <th>Employee_Tenure</th>\n",
       "      <th>Job_Satisfaction</th>\n",
       "    </tr>\n",
       "  </thead>\n",
       "  <tbody>\n",
       "    <tr>\n",
       "      <th>0</th>\n",
       "      <td>2</td>\n",
       "      <td>7</td>\n",
       "    </tr>\n",
       "    <tr>\n",
       "      <th>1</th>\n",
       "      <td>3</td>\n",
       "      <td>8</td>\n",
       "    </tr>\n",
       "    <tr>\n",
       "      <th>2</th>\n",
       "      <td>5</td>\n",
       "      <td>6</td>\n",
       "    </tr>\n",
       "    <tr>\n",
       "      <th>3</th>\n",
       "      <td>4</td>\n",
       "      <td>9</td>\n",
       "    </tr>\n",
       "    <tr>\n",
       "      <th>4</th>\n",
       "      <td>6</td>\n",
       "      <td>5</td>\n",
       "    </tr>\n",
       "    <tr>\n",
       "      <th>5</th>\n",
       "      <td>2</td>\n",
       "      <td>7</td>\n",
       "    </tr>\n",
       "    <tr>\n",
       "      <th>6</th>\n",
       "      <td>4</td>\n",
       "      <td>6</td>\n",
       "    </tr>\n",
       "  </tbody>\n",
       "</table>\n",
       "</div>"
      ],
      "text/plain": [
       "   Employee_Tenure  Job_Satisfaction\n",
       "0                2                 7\n",
       "1                3                 8\n",
       "2                5                 6\n",
       "3                4                 9\n",
       "4                6                 5\n",
       "5                2                 7\n",
       "6                4                 6"
      ]
     },
     "execution_count": 37,
     "metadata": {},
     "output_type": "execute_result"
    }
   ],
   "source": [
    "df"
   ]
  },
  {
   "cell_type": "code",
   "execution_count": 38,
   "id": "86b95810-9a6c-47ea-bd69-c547cd9c7ef1",
   "metadata": {},
   "outputs": [],
   "source": [
    "LR=LinearRegression()"
   ]
  },
  {
   "cell_type": "code",
   "execution_count": 39,
   "id": "5e926d94-ee85-4f97-8112-7431162dd095",
   "metadata": {},
   "outputs": [],
   "source": [
    "X=df[['Employee_Tenure']]"
   ]
  },
  {
   "cell_type": "code",
   "execution_count": 40,
   "id": "731148e8-2dfc-43e1-8cc4-b47859f4035b",
   "metadata": {},
   "outputs": [],
   "source": [
    "y=df['Job_Satisfaction']"
   ]
  },
  {
   "cell_type": "code",
   "execution_count": 41,
   "id": "a413633a-ec47-4a12-b653-5519c523e7ef",
   "metadata": {},
   "outputs": [
    {
     "data": {
      "text/html": [
       "<style>#sk-container-id-1 {color: black;background-color: white;}#sk-container-id-1 pre{padding: 0;}#sk-container-id-1 div.sk-toggleable {background-color: white;}#sk-container-id-1 label.sk-toggleable__label {cursor: pointer;display: block;width: 100%;margin-bottom: 0;padding: 0.3em;box-sizing: border-box;text-align: center;}#sk-container-id-1 label.sk-toggleable__label-arrow:before {content: \"▸\";float: left;margin-right: 0.25em;color: #696969;}#sk-container-id-1 label.sk-toggleable__label-arrow:hover:before {color: black;}#sk-container-id-1 div.sk-estimator:hover label.sk-toggleable__label-arrow:before {color: black;}#sk-container-id-1 div.sk-toggleable__content {max-height: 0;max-width: 0;overflow: hidden;text-align: left;background-color: #f0f8ff;}#sk-container-id-1 div.sk-toggleable__content pre {margin: 0.2em;color: black;border-radius: 0.25em;background-color: #f0f8ff;}#sk-container-id-1 input.sk-toggleable__control:checked~div.sk-toggleable__content {max-height: 200px;max-width: 100%;overflow: auto;}#sk-container-id-1 input.sk-toggleable__control:checked~label.sk-toggleable__label-arrow:before {content: \"▾\";}#sk-container-id-1 div.sk-estimator input.sk-toggleable__control:checked~label.sk-toggleable__label {background-color: #d4ebff;}#sk-container-id-1 div.sk-label input.sk-toggleable__control:checked~label.sk-toggleable__label {background-color: #d4ebff;}#sk-container-id-1 input.sk-hidden--visually {border: 0;clip: rect(1px 1px 1px 1px);clip: rect(1px, 1px, 1px, 1px);height: 1px;margin: -1px;overflow: hidden;padding: 0;position: absolute;width: 1px;}#sk-container-id-1 div.sk-estimator {font-family: monospace;background-color: #f0f8ff;border: 1px dotted black;border-radius: 0.25em;box-sizing: border-box;margin-bottom: 0.5em;}#sk-container-id-1 div.sk-estimator:hover {background-color: #d4ebff;}#sk-container-id-1 div.sk-parallel-item::after {content: \"\";width: 100%;border-bottom: 1px solid gray;flex-grow: 1;}#sk-container-id-1 div.sk-label:hover label.sk-toggleable__label {background-color: #d4ebff;}#sk-container-id-1 div.sk-serial::before {content: \"\";position: absolute;border-left: 1px solid gray;box-sizing: border-box;top: 0;bottom: 0;left: 50%;z-index: 0;}#sk-container-id-1 div.sk-serial {display: flex;flex-direction: column;align-items: center;background-color: white;padding-right: 0.2em;padding-left: 0.2em;position: relative;}#sk-container-id-1 div.sk-item {position: relative;z-index: 1;}#sk-container-id-1 div.sk-parallel {display: flex;align-items: stretch;justify-content: center;background-color: white;position: relative;}#sk-container-id-1 div.sk-item::before, #sk-container-id-1 div.sk-parallel-item::before {content: \"\";position: absolute;border-left: 1px solid gray;box-sizing: border-box;top: 0;bottom: 0;left: 50%;z-index: -1;}#sk-container-id-1 div.sk-parallel-item {display: flex;flex-direction: column;z-index: 1;position: relative;background-color: white;}#sk-container-id-1 div.sk-parallel-item:first-child::after {align-self: flex-end;width: 50%;}#sk-container-id-1 div.sk-parallel-item:last-child::after {align-self: flex-start;width: 50%;}#sk-container-id-1 div.sk-parallel-item:only-child::after {width: 0;}#sk-container-id-1 div.sk-dashed-wrapped {border: 1px dashed gray;margin: 0 0.4em 0.5em 0.4em;box-sizing: border-box;padding-bottom: 0.4em;background-color: white;}#sk-container-id-1 div.sk-label label {font-family: monospace;font-weight: bold;display: inline-block;line-height: 1.2em;}#sk-container-id-1 div.sk-label-container {text-align: center;}#sk-container-id-1 div.sk-container {/* jupyter's `normalize.less` sets `[hidden] { display: none; }` but bootstrap.min.css set `[hidden] { display: none !important; }` so we also need the `!important` here to be able to override the default hidden behavior on the sphinx rendered scikit-learn.org. See: https://github.com/scikit-learn/scikit-learn/issues/21755 */display: inline-block !important;position: relative;}#sk-container-id-1 div.sk-text-repr-fallback {display: none;}</style><div id=\"sk-container-id-1\" class=\"sk-top-container\"><div class=\"sk-text-repr-fallback\"><pre>LinearRegression()</pre><b>In a Jupyter environment, please rerun this cell to show the HTML representation or trust the notebook. <br />On GitHub, the HTML representation is unable to render, please try loading this page with nbviewer.org.</b></div><div class=\"sk-container\" hidden><div class=\"sk-item\"><div class=\"sk-estimator sk-toggleable\"><input class=\"sk-toggleable__control sk-hidden--visually\" id=\"sk-estimator-id-1\" type=\"checkbox\" checked><label for=\"sk-estimator-id-1\" class=\"sk-toggleable__label sk-toggleable__label-arrow\">LinearRegression</label><div class=\"sk-toggleable__content\"><pre>LinearRegression()</pre></div></div></div></div></div>"
      ],
      "text/plain": [
       "LinearRegression()"
      ]
     },
     "execution_count": 41,
     "metadata": {},
     "output_type": "execute_result"
    }
   ],
   "source": [
    "LR.fit(X,y)"
   ]
  },
  {
   "cell_type": "code",
   "execution_count": 42,
   "id": "c031b646-d0c4-4342-b5f1-dfbead6f9bae",
   "metadata": {},
   "outputs": [],
   "source": [
    "## Lets Consider Employee Tenure for 1 and 7 years to predict Job Satisfaction\n",
    "predict_data=pd.DataFrame({'Employee_Tenure':[1,7]})"
   ]
  },
  {
   "cell_type": "code",
   "execution_count": 43,
   "id": "0c0a6afa-2f49-4776-8047-af26e6a83e14",
   "metadata": {},
   "outputs": [
    {
     "data": {
      "text/plain": [
       "array([8.12765957, 5.31914894])"
      ]
     },
     "execution_count": 43,
     "metadata": {},
     "output_type": "execute_result"
    }
   ],
   "source": [
    "LR.predict(predict_data)"
   ]
  },
  {
   "cell_type": "markdown",
   "id": "a9d6f87d-2e6c-4b64-8c77-a713d646d54a",
   "metadata": {},
   "source": [
    "9. Scenario: A study is conducted to compare the effectiveness of two different medications. The recovery times of the patients in each group are as follows:\n",
    "   - Medication A: [10, 12, 14, 11, 13]\n",
    "   - Medication B: [15, 17, 16, 14, 18]\n",
    "   - Perform an analysis of variance (ANOVA) to determine if there is a significant difference in the mean recovery times between the two medications\n"
   ]
  },
  {
   "cell_type": "code",
   "execution_count": 44,
   "id": "30eb8553-330a-4d74-b0ec-46b48a5e39ee",
   "metadata": {},
   "outputs": [],
   "source": [
    "import scipy.stats as stat"
   ]
  },
  {
   "cell_type": "code",
   "execution_count": 45,
   "id": "7741032c-8fe3-4343-909d-c421c99d9c18",
   "metadata": {},
   "outputs": [],
   "source": [
    "Medication_A=[10, 12, 14, 11, 13]\n",
    "Medication_B=[15, 17, 16, 14, 18]"
   ]
  },
  {
   "cell_type": "code",
   "execution_count": 46,
   "id": "e1c56a14-baf8-4ae1-895c-e08bde9b3da6",
   "metadata": {},
   "outputs": [],
   "source": [
    "## State Null and alternate Hypothesis \n",
    "## H0:u1=u2 meaning mean recovery time is same for both medicine\n",
    "## H1:u1!=u2"
   ]
  },
  {
   "cell_type": "code",
   "execution_count": 47,
   "id": "20782f98-7899-46e4-8924-4027c239abc6",
   "metadata": {},
   "outputs": [],
   "source": [
    "## Consider Significance level of 5%\n",
    "## Confidence Interval :95%"
   ]
  },
  {
   "cell_type": "code",
   "execution_count": 48,
   "id": "8f5b4b36-8d53-4fd9-9589-6cc225343c79",
   "metadata": {},
   "outputs": [],
   "source": [
    "alpha=.05"
   ]
  },
  {
   "cell_type": "code",
   "execution_count": 49,
   "id": "5b6141f1-8b1c-402c-9dec-75ddcee74382",
   "metadata": {},
   "outputs": [],
   "source": [
    "## Calculate Degree of Freedom"
   ]
  },
  {
   "cell_type": "code",
   "execution_count": 50,
   "id": "95d71235-0697-4ccc-8a79-5818f158ce63",
   "metadata": {},
   "outputs": [],
   "source": [
    "N=10  \n",
    "a=2\n",
    "n=5"
   ]
  },
  {
   "cell_type": "code",
   "execution_count": 51,
   "id": "adf2c563-5b19-4d76-b4d9-6629ae3aabc4",
   "metadata": {},
   "outputs": [
    {
     "data": {
      "text/plain": [
       "1"
      ]
     },
     "execution_count": 51,
     "metadata": {},
     "output_type": "execute_result"
    }
   ],
   "source": [
    "df_between=a-1\n",
    "df_between"
   ]
  },
  {
   "cell_type": "code",
   "execution_count": 52,
   "id": "31ace941-5a9d-440e-ae8f-3f34e441c303",
   "metadata": {},
   "outputs": [
    {
     "data": {
      "text/plain": [
       "8"
      ]
     },
     "execution_count": 52,
     "metadata": {},
     "output_type": "execute_result"
    }
   ],
   "source": [
    "df_within=N-a\n",
    "df_within"
   ]
  },
  {
   "cell_type": "code",
   "execution_count": 53,
   "id": "e633eda4-9564-437c-a436-b5aa5f77b3d8",
   "metadata": {},
   "outputs": [],
   "source": [
    "## Decision Boundary\n",
    "## We need to calculate critical value at alpha=.05 from F-Table considering df_between and df_within"
   ]
  },
  {
   "cell_type": "code",
   "execution_count": 54,
   "id": "d0ef1a6f-1f68-4da9-97b2-c21ada3e9e5c",
   "metadata": {},
   "outputs": [],
   "source": [
    "Critical_value=5.32"
   ]
  },
  {
   "cell_type": "code",
   "execution_count": 55,
   "id": "bde95552-8f35-4aab-9aab-e7e7a4b537b7",
   "metadata": {},
   "outputs": [],
   "source": [
    "## Calculate F _test statistic"
   ]
  },
  {
   "cell_type": "code",
   "execution_count": 56,
   "id": "7359d8ff-9ad1-4419-adb0-795e7606d9bf",
   "metadata": {},
   "outputs": [],
   "source": [
    "sum_of_squares_between=((sum(Medication_A)**2 +sum(Medication_B)**2)/5)-(sum(Medication_A)+sum(Medication_B))**2/10"
   ]
  },
  {
   "cell_type": "code",
   "execution_count": 57,
   "id": "9d521173-bbff-45ec-9c12-c33b7004b308",
   "metadata": {},
   "outputs": [
    {
     "data": {
      "text/plain": [
       "40.0"
      ]
     },
     "execution_count": 57,
     "metadata": {},
     "output_type": "execute_result"
    }
   ],
   "source": [
    "sum_of_squares_between"
   ]
  },
  {
   "cell_type": "code",
   "execution_count": 58,
   "id": "fdd1b4a5-2d1c-4e97-b09e-97c1abddba73",
   "metadata": {},
   "outputs": [],
   "source": [
    "sum_of_squares_within=(10**2+12**2+14**2+11**2+13**2+15**2+17**2+16**2+14**2+18**2)-(sum(Medication_A)**2 +sum(Medication_B)**2)/5"
   ]
  },
  {
   "cell_type": "code",
   "execution_count": 59,
   "id": "0f85b699-2e00-4df8-b779-0753b17b4951",
   "metadata": {},
   "outputs": [
    {
     "data": {
      "text/plain": [
       "20.0"
      ]
     },
     "execution_count": 59,
     "metadata": {},
     "output_type": "execute_result"
    }
   ],
   "source": [
    "sum_of_squares_within"
   ]
  },
  {
   "cell_type": "code",
   "execution_count": 60,
   "id": "c6ed03eb-50fd-47f4-a697-cda2120348c8",
   "metadata": {},
   "outputs": [],
   "source": [
    "Mean_Square_between=sum_of_squares_between/df_between\n",
    "Mean_Square_within=sum_of_squares_within/df_within"
   ]
  },
  {
   "cell_type": "code",
   "execution_count": 61,
   "id": "08b7a250-529a-4bc1-8076-eb1631fab2b8",
   "metadata": {},
   "outputs": [],
   "source": [
    "F_test=Mean_Square_between/Mean_Square_within"
   ]
  },
  {
   "cell_type": "code",
   "execution_count": 62,
   "id": "7c91d9c1-6368-43bf-a9a7-334f5f83094c",
   "metadata": {},
   "outputs": [
    {
     "data": {
      "text/plain": [
       "16.0"
      ]
     },
     "execution_count": 62,
     "metadata": {},
     "output_type": "execute_result"
    }
   ],
   "source": [
    "F_test"
   ]
  },
  {
   "cell_type": "code",
   "execution_count": 63,
   "id": "39837e2a-b046-415e-9030-340a0564527a",
   "metadata": {},
   "outputs": [],
   "source": [
    "## Clearly F_test is greater than critical value so we reject the null hypothesis"
   ]
  },
  {
   "cell_type": "code",
   "execution_count": 64,
   "id": "b8b0ee22-fcaf-49a5-9655-b9226b15835f",
   "metadata": {},
   "outputs": [
    {
     "name": "stdout",
     "output_type": "stream",
     "text": [
      "Null Hypthesis is rejected and recovery time for second medication is higher\n"
     ]
    }
   ],
   "source": [
    "if F_test>Critical_value:\n",
    "    print(\"Null Hypthesis is rejected and recovery time for second medication is higher\")\n",
    "else:\n",
    "    print(\"Null Hypothesis is accepted and recovery time is same for both medicine\")"
   ]
  },
  {
   "cell_type": "markdown",
   "id": "5edf6d2a-3661-4cd8-b64d-45043ab01f98",
   "metadata": {},
   "source": [
    "10. Scenario: A company wants to analyze customer feedback ratings on a scale of 1 to 10. The data collected is\n",
    "\n",
    " as follows:\n",
    "- [8, 9, 7, 6, 8, 10, 9, 8, 7, 8]\n",
    "- Calculate the 75th percentile of the feedback ratings.\n"
   ]
  },
  {
   "cell_type": "code",
   "execution_count": 65,
   "id": "4cb97a01-fd74-41a6-9184-07e7da4ec001",
   "metadata": {},
   "outputs": [],
   "source": [
    "data=[8, 9, 7, 6, 8, 10, 9, 8, 7, 8]"
   ]
  },
  {
   "cell_type": "code",
   "execution_count": 66,
   "id": "e4beaa3e-9075-4253-ae8d-ae568fc7f966",
   "metadata": {},
   "outputs": [],
   "source": [
    "percentile_75=np.percentile(data,75)"
   ]
  },
  {
   "cell_type": "code",
   "execution_count": 67,
   "id": "0bdb7e76-7601-4d53-9457-3c66f0d65d48",
   "metadata": {},
   "outputs": [
    {
     "data": {
      "text/plain": [
       "8.75"
      ]
     },
     "execution_count": 67,
     "metadata": {},
     "output_type": "execute_result"
    }
   ],
   "source": [
    "percentile_75"
   ]
  },
  {
   "cell_type": "markdown",
   "id": "12271336-259a-4cde-8218-95870a19bcce",
   "metadata": {},
   "source": [
    "11. Scenario: A quality control department wants to test the weight consistency of a product. The weights of a sample of products are as follows:\n",
    "- [10.2, 9.8, 10.0, 10.5, 10.3, 10.1]\n",
    "- Perform a hypothesis test to determine if the mean weight differs significantly from 10 grams.\n"
   ]
  },
  {
   "cell_type": "code",
   "execution_count": 68,
   "id": "0009f61d-9914-4502-b20e-d6dd3110a0cb",
   "metadata": {},
   "outputs": [],
   "source": [
    "data=[10.2, 9.8, 10.0, 10.5, 10.3, 10.1]"
   ]
  },
  {
   "cell_type": "code",
   "execution_count": 69,
   "id": "1e25a34e-b671-4c26-9b91-fae275a7e1a1",
   "metadata": {},
   "outputs": [],
   "source": [
    "mean_data=np.mean(data)"
   ]
  },
  {
   "cell_type": "code",
   "execution_count": 70,
   "id": "33f42fd9-171d-45db-a6ff-b8b18705a4d4",
   "metadata": {},
   "outputs": [
    {
     "data": {
      "text/plain": [
       "10.15"
      ]
     },
     "execution_count": 70,
     "metadata": {},
     "output_type": "execute_result"
    }
   ],
   "source": [
    "mean_data"
   ]
  },
  {
   "cell_type": "code",
   "execution_count": 71,
   "id": "b3dc9eba-c17b-4411-85dc-0581c4f27ba4",
   "metadata": {},
   "outputs": [],
   "source": [
    "std_data=np.std(data)"
   ]
  },
  {
   "cell_type": "code",
   "execution_count": 72,
   "id": "8a950268-c328-4edc-b27d-5caa8f770d35",
   "metadata": {},
   "outputs": [
    {
     "data": {
      "text/plain": [
       "0.22173557826083437"
      ]
     },
     "execution_count": 72,
     "metadata": {},
     "output_type": "execute_result"
    }
   ],
   "source": [
    "std_data"
   ]
  },
  {
   "cell_type": "code",
   "execution_count": 73,
   "id": "9659e52a-907c-4587-95a4-f371d249b872",
   "metadata": {},
   "outputs": [],
   "source": [
    "## H0:u1=10\n",
    "## H1:u1!=10"
   ]
  },
  {
   "cell_type": "code",
   "execution_count": 74,
   "id": "010b44c8-257a-4999-917a-03b5b4fa6f68",
   "metadata": {},
   "outputs": [],
   "source": [
    "## Consider significance level of 5%\n",
    "aplha=.05"
   ]
  },
  {
   "cell_type": "code",
   "execution_count": 75,
   "id": "e2d86b00-8c55-4bae-9c8e-f3a97b91a125",
   "metadata": {},
   "outputs": [],
   "source": [
    "## Degree of freedom\n",
    "df=5"
   ]
  },
  {
   "cell_type": "code",
   "execution_count": 76,
   "id": "9dfbe7e9-1db4-496c-87f5-0f13799527c5",
   "metadata": {},
   "outputs": [],
   "source": [
    "## At alpha :0.05 critical value from t_table\n",
    "critical_value=2.571"
   ]
  },
  {
   "cell_type": "code",
   "execution_count": 77,
   "id": "40774466-f853-4e5b-82bd-5cc3d8e0f923",
   "metadata": {},
   "outputs": [],
   "source": [
    "## Calculate T_value"
   ]
  },
  {
   "cell_type": "code",
   "execution_count": 78,
   "id": "466c78a2-ef7e-4b36-9775-dae9c990a2a3",
   "metadata": {},
   "outputs": [],
   "source": [
    "t_value=(mean_data-10)/(std_data/np.sqrt(6))"
   ]
  },
  {
   "cell_type": "code",
   "execution_count": 79,
   "id": "45b485d1-3ed9-44c4-af83-040d7960d0a2",
   "metadata": {},
   "outputs": [
    {
     "data": {
      "text/plain": [
       "1.657034312216987"
      ]
     },
     "execution_count": 79,
     "metadata": {},
     "output_type": "execute_result"
    }
   ],
   "source": [
    "t_value"
   ]
  },
  {
   "cell_type": "code",
   "execution_count": 80,
   "id": "0c2fdca6-eda1-4bdd-b95d-1d3c4c33d9a1",
   "metadata": {},
   "outputs": [
    {
     "name": "stdout",
     "output_type": "stream",
     "text": [
      "We fail to reject the null hypotesis and  do not have enough evidence to conclude that the mean weight significantly differs from 10 grams\n"
     ]
    }
   ],
   "source": [
    "##\n",
    "if t_value>critical_value:\n",
    "    print(\"we reject the null hypothesis and there is significant diference in mean\")\n",
    "else:\n",
    "    print(\"We fail to reject the null hypotesis and  do not have enough evidence to conclude that the mean weight significantly differs from 10 grams\")"
   ]
  },
  {
   "cell_type": "markdown",
   "id": "28505003-8296-4e75-8246-6e42fb27299e",
   "metadata": {},
   "source": [
    "12. Scenario: A company wants to analyze the click-through rates of two different website designs. The number of clicks for each design is as follows:\n",
    "- Design A: [100, 120, 110, 90, 95]\n",
    "- Design B: [80, 85, 90, 95, 100]\n",
    "- Perform a chi-square test to determine if there is a significant difference in the click-through rates between the two designs\n"
   ]
  },
  {
   "cell_type": "code",
   "execution_count": 81,
   "id": "43cdcd80-d7d2-466b-86d3-48dbcbc62c90",
   "metadata": {},
   "outputs": [],
   "source": [
    "Design_A= [100, 120, 110, 90, 95]\n",
    "Design_B= [80, 85, 90, 95, 100]"
   ]
  },
  {
   "cell_type": "code",
   "execution_count": 82,
   "id": "caf6e41e-383f-454d-882d-fb7b8e009b87",
   "metadata": {},
   "outputs": [],
   "source": [
    "import scipy.stats as stat"
   ]
  },
  {
   "cell_type": "code",
   "execution_count": 83,
   "id": "0c3a2e00-ff25-42b4-ad20-20d5c2416932",
   "metadata": {},
   "outputs": [],
   "source": [
    "## H0:u1=u2\n",
    "## H1:u1!=u2"
   ]
  },
  {
   "cell_type": "code",
   "execution_count": 84,
   "id": "78f0a4e1-ce8a-4958-a567-abba66639d2c",
   "metadata": {},
   "outputs": [],
   "source": [
    "## Significance level:0.05\n",
    "alpha=.05"
   ]
  },
  {
   "cell_type": "code",
   "execution_count": 85,
   "id": "0184a397-3353-45ed-b030-5994da6c0ddb",
   "metadata": {},
   "outputs": [],
   "source": [
    "## Degree of Freedom\n",
    "df=2-1  ## 2 categories"
   ]
  },
  {
   "cell_type": "code",
   "execution_count": 86,
   "id": "04b1d5fe-fa52-4bb4-8a09-0a45715a72d3",
   "metadata": {},
   "outputs": [],
   "source": [
    "## Critcal Value from chi square table for alpha=0.05 and df=1  is\n",
    "critical_value=3.841"
   ]
  },
  {
   "cell_type": "code",
   "execution_count": 87,
   "id": "a4b49de9-07f7-4d02-a933-b4a2842e7722",
   "metadata": {},
   "outputs": [],
   "source": [
    "## Calculate Chi Square Statistic\n",
    "chi_sq_statistic=((100-80)**2/100+(120-85)**2/120+(110-90)**2/110+(90-95)**2/90+(95-100)**2/95)"
   ]
  },
  {
   "cell_type": "code",
   "execution_count": 88,
   "id": "64f8d339-1b38-403c-aaea-bc4b01c7f9c7",
   "metadata": {},
   "outputs": [
    {
     "data": {
      "text/plain": [
       "18.38563264221159"
      ]
     },
     "execution_count": 88,
     "metadata": {},
     "output_type": "execute_result"
    }
   ],
   "source": [
    "chi_sq_statistic"
   ]
  },
  {
   "cell_type": "code",
   "execution_count": 89,
   "id": "ed9bccb6-f9ad-4150-8637-ed58bd8b0f0d",
   "metadata": {},
   "outputs": [
    {
     "name": "stdout",
     "output_type": "stream",
     "text": [
      "We Reject the null hypothesis and there is significant diference in the click through rates\n"
     ]
    }
   ],
   "source": [
    "if chi_sq_statistic>critical_value:\n",
    "    print(\"We Reject the null hypothesis and there is significant diference in the click through rates\")\n",
    "else:\n",
    "    print(\"We Accept the null hypothesis and there is not any significant diference in the click through rates\")"
   ]
  },
  {
   "cell_type": "markdown",
   "id": "0b9707d3-3db3-4f9b-9ce9-43108b268010",
   "metadata": {},
   "source": [
    "13. Scenario: A survey is conducted to measure customer satisfaction with a product on a scale of 1 to 10. The data collected is as follows:\n",
    "- [7, 9, 6, 8, 10, 7, 8, 9, 7, 8]\n",
    "- Calculate the 95% confidence interval for the population mean satisfaction score.\n"
   ]
  },
  {
   "cell_type": "code",
   "execution_count": 90,
   "id": "0ad7253e-d94e-4396-a568-60606b79f9f3",
   "metadata": {},
   "outputs": [],
   "source": [
    "data= [7, 9, 6, 8, 10, 7, 8, 9, 7, 8]"
   ]
  },
  {
   "cell_type": "code",
   "execution_count": 91,
   "id": "b3969582-6169-4787-8fb3-f9dd24f24619",
   "metadata": {},
   "outputs": [],
   "source": [
    "mean_data=np.mean(data)"
   ]
  },
  {
   "cell_type": "code",
   "execution_count": 92,
   "id": "e10b3a49-8258-490a-bd27-29cc5d5da42c",
   "metadata": {},
   "outputs": [],
   "source": [
    "std_data=np.std(data)"
   ]
  },
  {
   "cell_type": "code",
   "execution_count": 93,
   "id": "fd33b094-be3e-4e04-9bdb-6cadac0234ca",
   "metadata": {},
   "outputs": [],
   "source": [
    "standard_error=std_data/np.sqrt(len(data))"
   ]
  },
  {
   "cell_type": "code",
   "execution_count": 94,
   "id": "37e03eb2-3f68-4a0d-8ebd-3028e189abc5",
   "metadata": {},
   "outputs": [
    {
     "data": {
      "text/plain": [
       "0.3591656999213594"
      ]
     },
     "execution_count": 94,
     "metadata": {},
     "output_type": "execute_result"
    }
   ],
   "source": [
    "standard_error"
   ]
  },
  {
   "cell_type": "code",
   "execution_count": 95,
   "id": "b4d7b0bc-d2f5-4162-9d1e-6aa8747da4a7",
   "metadata": {},
   "outputs": [],
   "source": [
    "## For confidence interval of 95% critical value for two tail is found to be\n",
    "critical_value=1.96"
   ]
  },
  {
   "cell_type": "code",
   "execution_count": 96,
   "id": "4ce65b68-93ae-42fa-b70c-61556dd93144",
   "metadata": {},
   "outputs": [],
   "source": [
    "#Calculate the margin of error (ME) by multiplying the critical value by the standard error:\n",
    "ME = critical_value * standard_error "
   ]
  },
  {
   "cell_type": "code",
   "execution_count": 97,
   "id": "b303a29a-6ebc-4e13-a0d7-25dbd86cc922",
   "metadata": {},
   "outputs": [
    {
     "data": {
      "text/plain": [
       "0.7039647718458644"
      ]
     },
     "execution_count": 97,
     "metadata": {},
     "output_type": "execute_result"
    }
   ],
   "source": [
    "ME"
   ]
  },
  {
   "cell_type": "code",
   "execution_count": 98,
   "id": "8f01c2b3-c5ac-4d82-953b-80cb7c145f82",
   "metadata": {},
   "outputs": [],
   "source": [
    "lower_bound=mean_data-ME\n",
    "upper_bound=mean_data+ME"
   ]
  },
  {
   "cell_type": "code",
   "execution_count": 99,
   "id": "771bee16-445a-4fea-b9d3-0bdbb9836a03",
   "metadata": {},
   "outputs": [
    {
     "name": "stdout",
     "output_type": "stream",
     "text": [
      "Lower Bound        :    upper bound '\n",
      "'7.196035228154136 :8.603964771845865\n"
     ]
    }
   ],
   "source": [
    "print(f\"Lower Bound        :    upper bound '\\n'{lower_bound} :{upper_bound}\")"
   ]
  },
  {
   "cell_type": "markdown",
   "id": "4cd6dadd-acc0-41f2-91cc-f06e6e852178",
   "metadata": {},
   "source": [
    "14. Scenario: A company wants to analyze the effect of temperature on product performance. The data collected is as follows:\n",
    "- Temperature (in degrees Celsius): [20, 22, 23, 19, 21]\n",
    "- Performance (on a scale of 1 to 10): [8, 7, 9, 6, 8]\n",
    "- Perform a simple linear regression to predict performance based on temperature\n"
   ]
  },
  {
   "cell_type": "code",
   "execution_count": 100,
   "id": "c4b603ad-9e58-4bc9-87e0-e15a430d3658",
   "metadata": {},
   "outputs": [],
   "source": [
    "Temperature = [20, 22, 23, 19, 21]\n",
    "Performance = [8, 7, 9, 6, 8]"
   ]
  },
  {
   "cell_type": "code",
   "execution_count": 101,
   "id": "7f98fb49-d6e8-48a6-b12a-a5f4d3fe1406",
   "metadata": {},
   "outputs": [],
   "source": [
    "df=pd.DataFrame({\"Temperature\":Temperature,\"Performance\":Performance})"
   ]
  },
  {
   "cell_type": "code",
   "execution_count": 102,
   "id": "987a18d5-8a74-4a1f-9492-2ba1e615ffae",
   "metadata": {},
   "outputs": [
    {
     "data": {
      "text/html": [
       "<div>\n",
       "<style scoped>\n",
       "    .dataframe tbody tr th:only-of-type {\n",
       "        vertical-align: middle;\n",
       "    }\n",
       "\n",
       "    .dataframe tbody tr th {\n",
       "        vertical-align: top;\n",
       "    }\n",
       "\n",
       "    .dataframe thead th {\n",
       "        text-align: right;\n",
       "    }\n",
       "</style>\n",
       "<table border=\"1\" class=\"dataframe\">\n",
       "  <thead>\n",
       "    <tr style=\"text-align: right;\">\n",
       "      <th></th>\n",
       "      <th>Temperature</th>\n",
       "      <th>Performance</th>\n",
       "    </tr>\n",
       "  </thead>\n",
       "  <tbody>\n",
       "    <tr>\n",
       "      <th>0</th>\n",
       "      <td>20</td>\n",
       "      <td>8</td>\n",
       "    </tr>\n",
       "    <tr>\n",
       "      <th>1</th>\n",
       "      <td>22</td>\n",
       "      <td>7</td>\n",
       "    </tr>\n",
       "    <tr>\n",
       "      <th>2</th>\n",
       "      <td>23</td>\n",
       "      <td>9</td>\n",
       "    </tr>\n",
       "    <tr>\n",
       "      <th>3</th>\n",
       "      <td>19</td>\n",
       "      <td>6</td>\n",
       "    </tr>\n",
       "    <tr>\n",
       "      <th>4</th>\n",
       "      <td>21</td>\n",
       "      <td>8</td>\n",
       "    </tr>\n",
       "  </tbody>\n",
       "</table>\n",
       "</div>"
      ],
      "text/plain": [
       "   Temperature  Performance\n",
       "0           20            8\n",
       "1           22            7\n",
       "2           23            9\n",
       "3           19            6\n",
       "4           21            8"
      ]
     },
     "execution_count": 102,
     "metadata": {},
     "output_type": "execute_result"
    }
   ],
   "source": [
    "df"
   ]
  },
  {
   "cell_type": "code",
   "execution_count": 103,
   "id": "25c13e7e-0da0-4c51-82ce-adf1d1bca810",
   "metadata": {},
   "outputs": [],
   "source": [
    "X=df[['Temperature']]\n",
    "y=df['Performance']"
   ]
  },
  {
   "cell_type": "code",
   "execution_count": 104,
   "id": "ddcb25f9-b0b9-4611-b0de-e18091e03e9e",
   "metadata": {},
   "outputs": [],
   "source": [
    "from sklearn.linear_model import LinearRegression"
   ]
  },
  {
   "cell_type": "code",
   "execution_count": 105,
   "id": "61a2b1de-8f56-49a2-8098-f7a357f1e1fb",
   "metadata": {},
   "outputs": [],
   "source": [
    "LR=LinearRegression()"
   ]
  },
  {
   "cell_type": "code",
   "execution_count": 106,
   "id": "5f5c7f48-82a3-43d8-8659-9738d8d4b704",
   "metadata": {},
   "outputs": [
    {
     "data": {
      "text/html": [
       "<style>#sk-container-id-2 {color: black;background-color: white;}#sk-container-id-2 pre{padding: 0;}#sk-container-id-2 div.sk-toggleable {background-color: white;}#sk-container-id-2 label.sk-toggleable__label {cursor: pointer;display: block;width: 100%;margin-bottom: 0;padding: 0.3em;box-sizing: border-box;text-align: center;}#sk-container-id-2 label.sk-toggleable__label-arrow:before {content: \"▸\";float: left;margin-right: 0.25em;color: #696969;}#sk-container-id-2 label.sk-toggleable__label-arrow:hover:before {color: black;}#sk-container-id-2 div.sk-estimator:hover label.sk-toggleable__label-arrow:before {color: black;}#sk-container-id-2 div.sk-toggleable__content {max-height: 0;max-width: 0;overflow: hidden;text-align: left;background-color: #f0f8ff;}#sk-container-id-2 div.sk-toggleable__content pre {margin: 0.2em;color: black;border-radius: 0.25em;background-color: #f0f8ff;}#sk-container-id-2 input.sk-toggleable__control:checked~div.sk-toggleable__content {max-height: 200px;max-width: 100%;overflow: auto;}#sk-container-id-2 input.sk-toggleable__control:checked~label.sk-toggleable__label-arrow:before {content: \"▾\";}#sk-container-id-2 div.sk-estimator input.sk-toggleable__control:checked~label.sk-toggleable__label {background-color: #d4ebff;}#sk-container-id-2 div.sk-label input.sk-toggleable__control:checked~label.sk-toggleable__label {background-color: #d4ebff;}#sk-container-id-2 input.sk-hidden--visually {border: 0;clip: rect(1px 1px 1px 1px);clip: rect(1px, 1px, 1px, 1px);height: 1px;margin: -1px;overflow: hidden;padding: 0;position: absolute;width: 1px;}#sk-container-id-2 div.sk-estimator {font-family: monospace;background-color: #f0f8ff;border: 1px dotted black;border-radius: 0.25em;box-sizing: border-box;margin-bottom: 0.5em;}#sk-container-id-2 div.sk-estimator:hover {background-color: #d4ebff;}#sk-container-id-2 div.sk-parallel-item::after {content: \"\";width: 100%;border-bottom: 1px solid gray;flex-grow: 1;}#sk-container-id-2 div.sk-label:hover label.sk-toggleable__label {background-color: #d4ebff;}#sk-container-id-2 div.sk-serial::before {content: \"\";position: absolute;border-left: 1px solid gray;box-sizing: border-box;top: 0;bottom: 0;left: 50%;z-index: 0;}#sk-container-id-2 div.sk-serial {display: flex;flex-direction: column;align-items: center;background-color: white;padding-right: 0.2em;padding-left: 0.2em;position: relative;}#sk-container-id-2 div.sk-item {position: relative;z-index: 1;}#sk-container-id-2 div.sk-parallel {display: flex;align-items: stretch;justify-content: center;background-color: white;position: relative;}#sk-container-id-2 div.sk-item::before, #sk-container-id-2 div.sk-parallel-item::before {content: \"\";position: absolute;border-left: 1px solid gray;box-sizing: border-box;top: 0;bottom: 0;left: 50%;z-index: -1;}#sk-container-id-2 div.sk-parallel-item {display: flex;flex-direction: column;z-index: 1;position: relative;background-color: white;}#sk-container-id-2 div.sk-parallel-item:first-child::after {align-self: flex-end;width: 50%;}#sk-container-id-2 div.sk-parallel-item:last-child::after {align-self: flex-start;width: 50%;}#sk-container-id-2 div.sk-parallel-item:only-child::after {width: 0;}#sk-container-id-2 div.sk-dashed-wrapped {border: 1px dashed gray;margin: 0 0.4em 0.5em 0.4em;box-sizing: border-box;padding-bottom: 0.4em;background-color: white;}#sk-container-id-2 div.sk-label label {font-family: monospace;font-weight: bold;display: inline-block;line-height: 1.2em;}#sk-container-id-2 div.sk-label-container {text-align: center;}#sk-container-id-2 div.sk-container {/* jupyter's `normalize.less` sets `[hidden] { display: none; }` but bootstrap.min.css set `[hidden] { display: none !important; }` so we also need the `!important` here to be able to override the default hidden behavior on the sphinx rendered scikit-learn.org. See: https://github.com/scikit-learn/scikit-learn/issues/21755 */display: inline-block !important;position: relative;}#sk-container-id-2 div.sk-text-repr-fallback {display: none;}</style><div id=\"sk-container-id-2\" class=\"sk-top-container\"><div class=\"sk-text-repr-fallback\"><pre>LinearRegression()</pre><b>In a Jupyter environment, please rerun this cell to show the HTML representation or trust the notebook. <br />On GitHub, the HTML representation is unable to render, please try loading this page with nbviewer.org.</b></div><div class=\"sk-container\" hidden><div class=\"sk-item\"><div class=\"sk-estimator sk-toggleable\"><input class=\"sk-toggleable__control sk-hidden--visually\" id=\"sk-estimator-id-2\" type=\"checkbox\" checked><label for=\"sk-estimator-id-2\" class=\"sk-toggleable__label sk-toggleable__label-arrow\">LinearRegression</label><div class=\"sk-toggleable__content\"><pre>LinearRegression()</pre></div></div></div></div></div>"
      ],
      "text/plain": [
       "LinearRegression()"
      ]
     },
     "execution_count": 106,
     "metadata": {},
     "output_type": "execute_result"
    }
   ],
   "source": [
    "LR.fit(X,y)"
   ]
  },
  {
   "cell_type": "code",
   "execution_count": 107,
   "id": "d8b65ced-3ad4-43be-9e24-09f7f19ae221",
   "metadata": {},
   "outputs": [],
   "source": [
    "## making prrediction for temperature 18 and 24"
   ]
  },
  {
   "cell_type": "code",
   "execution_count": 108,
   "id": "3202d4f9-3a18-4b77-96ac-491f7f53232e",
   "metadata": {},
   "outputs": [],
   "source": [
    "predict_data=pd.DataFrame({\"Temperature\":[18,24]})"
   ]
  },
  {
   "cell_type": "code",
   "execution_count": 109,
   "id": "8c8b0b6a-1d65-4c00-a3f8-e15dfd177b6f",
   "metadata": {},
   "outputs": [
    {
     "data": {
      "text/plain": [
       "array([6.1, 9.1])"
      ]
     },
     "execution_count": 109,
     "metadata": {},
     "output_type": "execute_result"
    }
   ],
   "source": [
    "LR.predict(predict_data)"
   ]
  },
  {
   "cell_type": "code",
   "execution_count": null,
   "id": "af9f2a2d-7535-4a23-9038-7832d94ef085",
   "metadata": {},
   "outputs": [],
   "source": []
  },
  {
   "cell_type": "markdown",
   "id": "755f01bc-536b-430b-915e-dff295c9b517",
   "metadata": {},
   "source": [
    "15. Scenario: A study is conducted to compare the preferences of two groups of participants. The preferences are measured on a Likert scale from 1 to 5. The data collected is as follows:\n",
    "- Group A: [4, 3, 5, 2, 4]\n",
    "- Group B: [3, 2, 4, 3, 3]\n",
    "- Perform a Mann-Whitney U test to determine if there is a significant difference in the median preferences between the two groups."
   ]
  },
  {
   "cell_type": "code",
   "execution_count": 110,
   "id": "4065f810-4ce7-4a18-8197-093b44236a70",
   "metadata": {},
   "outputs": [],
   "source": [
    "## H0:Median of Group A = Median of Group B\n",
    "## H1=Median of Group A != Median of Group B"
   ]
  },
  {
   "cell_type": "code",
   "execution_count": 111,
   "id": "2eb4e4ca-01f6-4524-9d24-f350a3bd689a",
   "metadata": {},
   "outputs": [],
   "source": [
    "## Combine the data from both groups and assign ranks to the observations. In case of ties, assign the average rank. The combined data and ranks are as follows:\n",
    "Data=[4, 3, 5, 2, 4, 3, 2, 4, 3, 3]\n",
    "Ranks=[8, 3.5, 10, 1, 8, 3.5, 1, 8, 3.5, 3.5]"
   ]
  },
  {
   "cell_type": "code",
   "execution_count": 112,
   "id": "1f2cd13c-e129-4fd1-aeae-d8959ceff58e",
   "metadata": {},
   "outputs": [],
   "source": [
    "U_statistic_Group_A = 8 + 3.5 + 10 + 1 + 8\n",
    "U_statistic_Group_B = 1 + 3.5 + 1 + 8 + 3.5"
   ]
  },
  {
   "cell_type": "code",
   "execution_count": 113,
   "id": "959b8fa4-e944-4d5a-8ad8-97115d4aa9e7",
   "metadata": {},
   "outputs": [
    {
     "data": {
      "text/plain": [
       "(30.5, 17.0)"
      ]
     },
     "execution_count": 113,
     "metadata": {},
     "output_type": "execute_result"
    }
   ],
   "source": [
    "U_statistic_Group_A,U_statistic_Group_B"
   ]
  },
  {
   "cell_type": "code",
   "execution_count": 114,
   "id": "3bba5ac2-eaf7-4480-ab80-1fdeadde416d",
   "metadata": {},
   "outputs": [
    {
     "data": {
      "text/plain": [
       "17.0"
      ]
     },
     "execution_count": 114,
     "metadata": {},
     "output_type": "execute_result"
    }
   ],
   "source": [
    "## select minimum from two statistic\n",
    "U_statistic_Group_B"
   ]
  },
  {
   "cell_type": "code",
   "execution_count": 115,
   "id": "33904980-a20a-46e1-9397-d7d6f19bc81f",
   "metadata": {},
   "outputs": [],
   "source": [
    "## Calculate Expected Value\n",
    "## EU = (n1 * (n1 + n2 + 1)) / 2\n",
    "EU = (5 * (5 + 5 + 1)) / 2 "
   ]
  },
  {
   "cell_type": "code",
   "execution_count": 116,
   "id": "66cc5acb-a0f2-4aa2-b030-d5699f751e82",
   "metadata": {},
   "outputs": [
    {
     "data": {
      "text/plain": [
       "27.5"
      ]
     },
     "execution_count": 116,
     "metadata": {},
     "output_type": "execute_result"
    }
   ],
   "source": [
    "EU"
   ]
  },
  {
   "cell_type": "code",
   "execution_count": 117,
   "id": "f27f3051-2ce0-4bf9-aa44-9bf79bfe6ee4",
   "metadata": {},
   "outputs": [],
   "source": [
    "## Calculte Standard Deviation\n",
    "## std_U = sqrt((n1 * n2 * (n1 + n2 + 1)) / 12)\n",
    "std_U = np.sqrt((5 * 5 * (5 + 5 + 1)) / 12)"
   ]
  },
  {
   "cell_type": "code",
   "execution_count": 118,
   "id": "906bbf2f-9057-4056-8080-f1033dd9f1cb",
   "metadata": {},
   "outputs": [],
   "source": [
    "## Calcute Z-score\n",
    "z = (17 - 27.5) / 3.53"
   ]
  },
  {
   "cell_type": "code",
   "execution_count": 119,
   "id": "acca9870-b7b1-4a55-8ef9-e7e7cbe01c63",
   "metadata": {},
   "outputs": [
    {
     "data": {
      "text/plain": [
       "-2.974504249291785"
      ]
     },
     "execution_count": 119,
     "metadata": {},
     "output_type": "execute_result"
    }
   ],
   "source": [
    "z"
   ]
  },
  {
   "cell_type": "code",
   "execution_count": 120,
   "id": "808bb2ba-1331-4070-97c9-d5956fa88159",
   "metadata": {},
   "outputs": [],
   "source": [
    "## For significance level at 5%  two tailed \n",
    "critical_value=1.96"
   ]
  },
  {
   "cell_type": "code",
   "execution_count": 121,
   "id": "e87be003-a5ef-4a7a-a7af-391e83779853",
   "metadata": {},
   "outputs": [],
   "source": [
    "## In this case, the calculated z-score of -2.98 falls outside the range of ±1.96. Therefore, we reject the null hypothesis."
   ]
  },
  {
   "cell_type": "code",
   "execution_count": 122,
   "id": "00fb073b-3096-496e-8ff7-db3c23c60d1e",
   "metadata": {},
   "outputs": [],
   "source": [
    "# there is a significant difference in the median preferences between Group A and Group B based on the Mann-Whitney U test at a 0.05 significance level"
   ]
  },
  {
   "cell_type": "markdown",
   "id": "dcbdd972-f8fa-42a0-a5e4-70e7f7823b5a",
   "metadata": {},
   "source": [
    "16. Scenario: A company wants to analyze the distribution of customer ages. The data collected is as follows:\n",
    "- [25, 30, 35, 40, 45, 50, 55, 60, 65, 70]\n",
    "- Calculate the interquartile range (IQR) of the ages"
   ]
  },
  {
   "cell_type": "code",
   "execution_count": 123,
   "id": "67ad448b-f003-4a32-b6ec-d0ea809ca580",
   "metadata": {},
   "outputs": [],
   "source": [
    "ages=[25, 30, 35, 40, 45, 50, 55, 60, 65, 70]"
   ]
  },
  {
   "cell_type": "code",
   "execution_count": 124,
   "id": "42a9731b-aa26-46f7-9893-12ee94a34532",
   "metadata": {},
   "outputs": [],
   "source": [
    "first_quartile=np.percentile(ages,25)"
   ]
  },
  {
   "cell_type": "code",
   "execution_count": 125,
   "id": "8dfb9625-50f4-42c8-9795-e258bdcec0cf",
   "metadata": {},
   "outputs": [],
   "source": [
    "third_quartle=np.percentile(ages,75)"
   ]
  },
  {
   "cell_type": "code",
   "execution_count": 126,
   "id": "bad8cdd7-5969-4cbc-8c64-402953326c08",
   "metadata": {},
   "outputs": [
    {
     "name": "stdout",
     "output_type": "stream",
     "text": [
      "36.25 58.75\n"
     ]
    }
   ],
   "source": [
    "print(first_quartile,third_quartle)"
   ]
  },
  {
   "cell_type": "code",
   "execution_count": 127,
   "id": "df8d8b24-7575-455b-b8a1-7cc7cc9cf99d",
   "metadata": {},
   "outputs": [],
   "source": [
    "interquaile_range=third_quartle-first_quartile"
   ]
  },
  {
   "cell_type": "code",
   "execution_count": 128,
   "id": "e9c08cd7-6f5f-42bd-933a-8541277d3ad0",
   "metadata": {},
   "outputs": [
    {
     "data": {
      "text/plain": [
       "22.5"
      ]
     },
     "execution_count": 128,
     "metadata": {},
     "output_type": "execute_result"
    }
   ],
   "source": [
    "interquaile_range"
   ]
  },
  {
   "cell_type": "markdown",
   "id": "8ef2fc83-bf63-4507-8efd-ed86f7824063",
   "metadata": {},
   "source": [
    "17. Scenario: A study is conducted to compare the performance of three different machine learning algorithms. The accuracy scores for each algorithm are as follows:\n",
    "- Algorithm A: [0.85, 0.80, 0.82, 0.87, 0.83]\n",
    "- Algorithm B: [0.78, 0.82, 0.84, 0.80, 0.79]\n",
    "- Algorithm C: [0.90, 0.88, 0.89, 0.86, 0.87]\n",
    "- Perform a Kruskal-Wallis test to determine if there is a significant difference in the median accuracy scores between the algorithms"
   ]
  },
  {
   "cell_type": "code",
   "execution_count": 129,
   "id": "a694f9b7-956c-406f-919a-41c9fe9b6474",
   "metadata": {},
   "outputs": [],
   "source": [
    "## H0:median_A = median_B = median_C\n",
    "## H1: Medians are different"
   ]
  },
  {
   "cell_type": "code",
   "execution_count": 130,
   "id": "f5722f93-a0fc-4b06-9f87-71416f0641b3",
   "metadata": {},
   "outputs": [],
   "source": [
    "## Combine data and assigned rankes\n",
    "CombinedData=[0.85, 0.80, 0.82, 0.87, 0.83, 0.78, 0.82, 0.84, 0.80, 0.79, 0.90, 0.88, 0.89, 0.86, 0.87]"
   ]
  },
  {
   "cell_type": "code",
   "execution_count": 131,
   "id": "a25bbae8-af2c-4e6c-b342-d577724ec570",
   "metadata": {},
   "outputs": [],
   "source": [
    "Ranks= [11, 5, 7.5, 14, 9, 2, 7.5, 13, 5, 3, 15, 12, 10, 8, 9]"
   ]
  },
  {
   "cell_type": "code",
   "execution_count": 132,
   "id": "91b2e755-3837-48b7-96a1-6122bcc2f3b7",
   "metadata": {},
   "outputs": [],
   "source": [
    "Sum_Ranks_A=11 + 5 + 7.5 + 14 + 9\n",
    "Sum_Ranks_B = 2 + 7.5 + 13 + 5 + 3\n",
    "Sum_Ranks_C = 15 + 12 + 10 + 8 + 9"
   ]
  },
  {
   "cell_type": "code",
   "execution_count": 133,
   "id": "3735b4ec-8e47-4e79-85a5-2f0fde04b44b",
   "metadata": {},
   "outputs": [],
   "source": [
    "## Calculate Test statistic\n",
    "## H = [(12 * (R^2 - (n * (n + 1)^2) / 4)) / (n * (n + 1))]\n",
    "H_statistic = (12 * ((46.5**2 + 30.5**2 + 54**2) - (15 * (15 + 1)**2) / 4)) / (15 * (15 + 1))"
   ]
  },
  {
   "cell_type": "code",
   "execution_count": 134,
   "id": "766bacc2-423f-4798-b2fd-b1d875a358a2",
   "metadata": {},
   "outputs": [
    {
     "data": {
      "text/plain": [
       "252.425"
      ]
     },
     "execution_count": 134,
     "metadata": {},
     "output_type": "execute_result"
    }
   ],
   "source": [
    "H_statistic"
   ]
  },
  {
   "cell_type": "code",
   "execution_count": 135,
   "id": "e7328604-57e8-4712-9a45-ffb810247f3f",
   "metadata": {},
   "outputs": [],
   "source": [
    "## Calculate Degree of freedom\n",
    "df=3-1 ## 3 categories"
   ]
  },
  {
   "cell_type": "code",
   "execution_count": 136,
   "id": "31eb3cd0-f328-4865-b290-58fae355d225",
   "metadata": {},
   "outputs": [
    {
     "data": {
      "text/plain": [
       "2"
      ]
     },
     "execution_count": 136,
     "metadata": {},
     "output_type": "execute_result"
    }
   ],
   "source": [
    "df"
   ]
  },
  {
   "cell_type": "code",
   "execution_count": 137,
   "id": "de3511d6-d317-46d1-83cc-762d1fcee047",
   "metadata": {},
   "outputs": [],
   "source": [
    "## At significance level of 5% and df 2 we get crtical value\n",
    "critical_value=5.991"
   ]
  },
  {
   "cell_type": "code",
   "execution_count": 138,
   "id": "de04ebfa-46aa-403f-8eac-52527813742c",
   "metadata": {},
   "outputs": [
    {
     "name": "stdout",
     "output_type": "stream",
     "text": [
      "we reject the null hypothesis and there is significant difference in the median accuracy scores between Algorithm A, Algorithm B, and Algorithm C\n"
     ]
    }
   ],
   "source": [
    "if H_statistic>critical_value:\n",
    "    print(\"we reject the null hypothesis and there is significant difference in the median accuracy scores between Algorithm A, Algorithm B, and Algorithm C\")\n",
    "else:\n",
    "    print(\"We Accepth the null hypothesis\")"
   ]
  },
  {
   "cell_type": "markdown",
   "id": "54a6a138-9a42-42f7-b13c-28ac6faed7fa",
   "metadata": {},
   "source": [
    "18. Scenario: A company wants to analyze the effect of price on sales. The data collected is as follows:\n",
    "- Price (in dollars): [10, 15, 12, 8, 14]\n",
    "- Sales: [100, 80, 90, 110, 95]\n",
    "-Perform a simple linear regression to predictsales based on price\n"
   ]
  },
  {
   "cell_type": "code",
   "execution_count": 139,
   "id": "3197b21e-cf20-4e06-84f6-a625a4b19a80",
   "metadata": {},
   "outputs": [],
   "source": [
    "Price= [10, 15, 12, 8, 14]\n",
    "Sales= [100, 80, 90, 110, 95]\n"
   ]
  },
  {
   "cell_type": "code",
   "execution_count": 140,
   "id": "6de51769-722d-410e-bdec-4faf5054a88f",
   "metadata": {},
   "outputs": [],
   "source": [
    "df=pd.DataFrame({'Price':Price,'Sales':Sales})"
   ]
  },
  {
   "cell_type": "code",
   "execution_count": 141,
   "id": "080d5681-0890-43fa-b39a-0e23de5c8b28",
   "metadata": {},
   "outputs": [
    {
     "data": {
      "text/html": [
       "<div>\n",
       "<style scoped>\n",
       "    .dataframe tbody tr th:only-of-type {\n",
       "        vertical-align: middle;\n",
       "    }\n",
       "\n",
       "    .dataframe tbody tr th {\n",
       "        vertical-align: top;\n",
       "    }\n",
       "\n",
       "    .dataframe thead th {\n",
       "        text-align: right;\n",
       "    }\n",
       "</style>\n",
       "<table border=\"1\" class=\"dataframe\">\n",
       "  <thead>\n",
       "    <tr style=\"text-align: right;\">\n",
       "      <th></th>\n",
       "      <th>Price</th>\n",
       "      <th>Sales</th>\n",
       "    </tr>\n",
       "  </thead>\n",
       "  <tbody>\n",
       "    <tr>\n",
       "      <th>0</th>\n",
       "      <td>10</td>\n",
       "      <td>100</td>\n",
       "    </tr>\n",
       "    <tr>\n",
       "      <th>1</th>\n",
       "      <td>15</td>\n",
       "      <td>80</td>\n",
       "    </tr>\n",
       "    <tr>\n",
       "      <th>2</th>\n",
       "      <td>12</td>\n",
       "      <td>90</td>\n",
       "    </tr>\n",
       "    <tr>\n",
       "      <th>3</th>\n",
       "      <td>8</td>\n",
       "      <td>110</td>\n",
       "    </tr>\n",
       "    <tr>\n",
       "      <th>4</th>\n",
       "      <td>14</td>\n",
       "      <td>95</td>\n",
       "    </tr>\n",
       "  </tbody>\n",
       "</table>\n",
       "</div>"
      ],
      "text/plain": [
       "   Price  Sales\n",
       "0     10    100\n",
       "1     15     80\n",
       "2     12     90\n",
       "3      8    110\n",
       "4     14     95"
      ]
     },
     "execution_count": 141,
     "metadata": {},
     "output_type": "execute_result"
    }
   ],
   "source": [
    "df"
   ]
  },
  {
   "cell_type": "code",
   "execution_count": 142,
   "id": "21574426-0382-48e1-9e24-b0edee6b1eba",
   "metadata": {},
   "outputs": [],
   "source": [
    "X=df[['Price']]\n",
    "y=df['Sales']"
   ]
  },
  {
   "cell_type": "code",
   "execution_count": 143,
   "id": "2869f496-0f86-4fc6-b451-5eac94c0fe30",
   "metadata": {},
   "outputs": [],
   "source": [
    "from sklearn.linear_model import LinearRegression"
   ]
  },
  {
   "cell_type": "code",
   "execution_count": 144,
   "id": "35c0f58e-0a37-4551-9a29-5f85381575a6",
   "metadata": {},
   "outputs": [],
   "source": [
    "LR=LinearRegression()"
   ]
  },
  {
   "cell_type": "code",
   "execution_count": 145,
   "id": "b7f39884-94cd-4f9e-ad29-598c94555f9e",
   "metadata": {},
   "outputs": [
    {
     "data": {
      "text/html": [
       "<style>#sk-container-id-3 {color: black;background-color: white;}#sk-container-id-3 pre{padding: 0;}#sk-container-id-3 div.sk-toggleable {background-color: white;}#sk-container-id-3 label.sk-toggleable__label {cursor: pointer;display: block;width: 100%;margin-bottom: 0;padding: 0.3em;box-sizing: border-box;text-align: center;}#sk-container-id-3 label.sk-toggleable__label-arrow:before {content: \"▸\";float: left;margin-right: 0.25em;color: #696969;}#sk-container-id-3 label.sk-toggleable__label-arrow:hover:before {color: black;}#sk-container-id-3 div.sk-estimator:hover label.sk-toggleable__label-arrow:before {color: black;}#sk-container-id-3 div.sk-toggleable__content {max-height: 0;max-width: 0;overflow: hidden;text-align: left;background-color: #f0f8ff;}#sk-container-id-3 div.sk-toggleable__content pre {margin: 0.2em;color: black;border-radius: 0.25em;background-color: #f0f8ff;}#sk-container-id-3 input.sk-toggleable__control:checked~div.sk-toggleable__content {max-height: 200px;max-width: 100%;overflow: auto;}#sk-container-id-3 input.sk-toggleable__control:checked~label.sk-toggleable__label-arrow:before {content: \"▾\";}#sk-container-id-3 div.sk-estimator input.sk-toggleable__control:checked~label.sk-toggleable__label {background-color: #d4ebff;}#sk-container-id-3 div.sk-label input.sk-toggleable__control:checked~label.sk-toggleable__label {background-color: #d4ebff;}#sk-container-id-3 input.sk-hidden--visually {border: 0;clip: rect(1px 1px 1px 1px);clip: rect(1px, 1px, 1px, 1px);height: 1px;margin: -1px;overflow: hidden;padding: 0;position: absolute;width: 1px;}#sk-container-id-3 div.sk-estimator {font-family: monospace;background-color: #f0f8ff;border: 1px dotted black;border-radius: 0.25em;box-sizing: border-box;margin-bottom: 0.5em;}#sk-container-id-3 div.sk-estimator:hover {background-color: #d4ebff;}#sk-container-id-3 div.sk-parallel-item::after {content: \"\";width: 100%;border-bottom: 1px solid gray;flex-grow: 1;}#sk-container-id-3 div.sk-label:hover label.sk-toggleable__label {background-color: #d4ebff;}#sk-container-id-3 div.sk-serial::before {content: \"\";position: absolute;border-left: 1px solid gray;box-sizing: border-box;top: 0;bottom: 0;left: 50%;z-index: 0;}#sk-container-id-3 div.sk-serial {display: flex;flex-direction: column;align-items: center;background-color: white;padding-right: 0.2em;padding-left: 0.2em;position: relative;}#sk-container-id-3 div.sk-item {position: relative;z-index: 1;}#sk-container-id-3 div.sk-parallel {display: flex;align-items: stretch;justify-content: center;background-color: white;position: relative;}#sk-container-id-3 div.sk-item::before, #sk-container-id-3 div.sk-parallel-item::before {content: \"\";position: absolute;border-left: 1px solid gray;box-sizing: border-box;top: 0;bottom: 0;left: 50%;z-index: -1;}#sk-container-id-3 div.sk-parallel-item {display: flex;flex-direction: column;z-index: 1;position: relative;background-color: white;}#sk-container-id-3 div.sk-parallel-item:first-child::after {align-self: flex-end;width: 50%;}#sk-container-id-3 div.sk-parallel-item:last-child::after {align-self: flex-start;width: 50%;}#sk-container-id-3 div.sk-parallel-item:only-child::after {width: 0;}#sk-container-id-3 div.sk-dashed-wrapped {border: 1px dashed gray;margin: 0 0.4em 0.5em 0.4em;box-sizing: border-box;padding-bottom: 0.4em;background-color: white;}#sk-container-id-3 div.sk-label label {font-family: monospace;font-weight: bold;display: inline-block;line-height: 1.2em;}#sk-container-id-3 div.sk-label-container {text-align: center;}#sk-container-id-3 div.sk-container {/* jupyter's `normalize.less` sets `[hidden] { display: none; }` but bootstrap.min.css set `[hidden] { display: none !important; }` so we also need the `!important` here to be able to override the default hidden behavior on the sphinx rendered scikit-learn.org. See: https://github.com/scikit-learn/scikit-learn/issues/21755 */display: inline-block !important;position: relative;}#sk-container-id-3 div.sk-text-repr-fallback {display: none;}</style><div id=\"sk-container-id-3\" class=\"sk-top-container\"><div class=\"sk-text-repr-fallback\"><pre>LinearRegression()</pre><b>In a Jupyter environment, please rerun this cell to show the HTML representation or trust the notebook. <br />On GitHub, the HTML representation is unable to render, please try loading this page with nbviewer.org.</b></div><div class=\"sk-container\" hidden><div class=\"sk-item\"><div class=\"sk-estimator sk-toggleable\"><input class=\"sk-toggleable__control sk-hidden--visually\" id=\"sk-estimator-id-3\" type=\"checkbox\" checked><label for=\"sk-estimator-id-3\" class=\"sk-toggleable__label sk-toggleable__label-arrow\">LinearRegression</label><div class=\"sk-toggleable__content\"><pre>LinearRegression()</pre></div></div></div></div></div>"
      ],
      "text/plain": [
       "LinearRegression()"
      ]
     },
     "execution_count": 145,
     "metadata": {},
     "output_type": "execute_result"
    }
   ],
   "source": [
    "LR.fit(X,y)"
   ]
  },
  {
   "cell_type": "code",
   "execution_count": 146,
   "id": "2b854ab8-9272-43b2-84de-b5e057f441d9",
   "metadata": {},
   "outputs": [],
   "source": [
    "predict_data=pd.DataFrame({'Price':[9,13]})"
   ]
  },
  {
   "cell_type": "code",
   "execution_count": 147,
   "id": "27332ec9-ea61-492d-bac1-05aba41caf80",
   "metadata": {},
   "outputs": [
    {
     "data": {
      "text/plain": [
       "array([104.81707317,  90.79268293])"
      ]
     },
     "execution_count": 147,
     "metadata": {},
     "output_type": "execute_result"
    }
   ],
   "source": [
    "LR.predict(predict_data)"
   ]
  },
  {
   "cell_type": "markdown",
   "id": "228d75c2-37c1-4504-921d-f62c55448bf0",
   "metadata": {},
   "source": [
    "19. Scenario: A survey is conducted to measure the satisfaction levels of customers with a new product. The data collected is as follows:\n",
    "- [7, 8, 9, 6, 8, 7, 9, 7, 8, 7]\n",
    "- Calculate the standard error of the mean satisfaction score"
   ]
  },
  {
   "cell_type": "code",
   "execution_count": 148,
   "id": "3272fa5b-1ac1-4e0f-8b2f-cb7302974b36",
   "metadata": {},
   "outputs": [],
   "source": [
    "data= [7, 8, 9, 6, 8, 7, 9, 7, 8, 7]"
   ]
  },
  {
   "cell_type": "code",
   "execution_count": 149,
   "id": "04f52df5-ceb0-4b84-b05e-4e3fe572cc35",
   "metadata": {},
   "outputs": [],
   "source": [
    "mean_data=np.mean(data)"
   ]
  },
  {
   "cell_type": "code",
   "execution_count": 150,
   "id": "e73c4547-daf1-423d-857b-79f79d952170",
   "metadata": {},
   "outputs": [
    {
     "data": {
      "text/plain": [
       "7.6"
      ]
     },
     "execution_count": 150,
     "metadata": {},
     "output_type": "execute_result"
    }
   ],
   "source": [
    "mean_data"
   ]
  },
  {
   "cell_type": "code",
   "execution_count": 151,
   "id": "edd3f61e-88dd-43a4-940d-353be4b03249",
   "metadata": {},
   "outputs": [],
   "source": [
    "std_data=np.std(data)"
   ]
  },
  {
   "cell_type": "code",
   "execution_count": 152,
   "id": "346ea803-ba1d-4e96-9362-e5ff2c740123",
   "metadata": {},
   "outputs": [
    {
     "data": {
      "text/plain": [
       "0.9165151389911681"
      ]
     },
     "execution_count": 152,
     "metadata": {},
     "output_type": "execute_result"
    }
   ],
   "source": [
    "std_data"
   ]
  },
  {
   "cell_type": "code",
   "execution_count": 153,
   "id": "b0ffd2b6-c05c-41b3-a940-45ee42a6cff3",
   "metadata": {},
   "outputs": [],
   "source": [
    "## Standard Error:std/sqrt(n)\n",
    "standard_error=std_data/np.sqrt(len(data))"
   ]
  },
  {
   "cell_type": "code",
   "execution_count": 154,
   "id": "2d3822a9-1b12-4675-b376-85b7c6efa127",
   "metadata": {},
   "outputs": [
    {
     "data": {
      "text/plain": [
       "0.28982753492378877"
      ]
     },
     "execution_count": 154,
     "metadata": {},
     "output_type": "execute_result"
    }
   ],
   "source": [
    "standard_error"
   ]
  },
  {
   "cell_type": "markdown",
   "id": "20d9903c-1716-4ca8-8ca4-6941e945a7f4",
   "metadata": {},
   "source": [
    "20. Scenario: A company wants to analyze the relationship between advertising expenditure and sales. The data collected is as follows:\n",
    "- Advertising Expenditure (in thousands): [10, 15, 12, 8, 14]\n",
    "- Sales (in thousands): [25, 30, 28, 20, 26]\n",
    "- Perform a multiple regression analysis to predict sales based on advertising expenditure."
   ]
  },
  {
   "cell_type": "code",
   "execution_count": 155,
   "id": "eac5b888-07dc-4955-bba3-395a2bfce029",
   "metadata": {},
   "outputs": [],
   "source": [
    "Advertising_Expenditure = [10, 15, 12, 8, 14]\n",
    "Sales =  [25, 30, 28, 20, 26]"
   ]
  },
  {
   "cell_type": "code",
   "execution_count": 156,
   "id": "e96bfb24-df8e-4c55-9072-f7a46b2233ff",
   "metadata": {},
   "outputs": [],
   "source": [
    "df=pd.DataFrame({\"Advertising_Expenditure\":Advertising_Expenditure,\"Sales\":Sales})"
   ]
  },
  {
   "cell_type": "code",
   "execution_count": 157,
   "id": "c77d45bc-04bd-4b54-8733-fe01f18d75d2",
   "metadata": {},
   "outputs": [
    {
     "data": {
      "text/html": [
       "<div>\n",
       "<style scoped>\n",
       "    .dataframe tbody tr th:only-of-type {\n",
       "        vertical-align: middle;\n",
       "    }\n",
       "\n",
       "    .dataframe tbody tr th {\n",
       "        vertical-align: top;\n",
       "    }\n",
       "\n",
       "    .dataframe thead th {\n",
       "        text-align: right;\n",
       "    }\n",
       "</style>\n",
       "<table border=\"1\" class=\"dataframe\">\n",
       "  <thead>\n",
       "    <tr style=\"text-align: right;\">\n",
       "      <th></th>\n",
       "      <th>Advertising_Expenditure</th>\n",
       "      <th>Sales</th>\n",
       "    </tr>\n",
       "  </thead>\n",
       "  <tbody>\n",
       "    <tr>\n",
       "      <th>0</th>\n",
       "      <td>10</td>\n",
       "      <td>25</td>\n",
       "    </tr>\n",
       "    <tr>\n",
       "      <th>1</th>\n",
       "      <td>15</td>\n",
       "      <td>30</td>\n",
       "    </tr>\n",
       "    <tr>\n",
       "      <th>2</th>\n",
       "      <td>12</td>\n",
       "      <td>28</td>\n",
       "    </tr>\n",
       "    <tr>\n",
       "      <th>3</th>\n",
       "      <td>8</td>\n",
       "      <td>20</td>\n",
       "    </tr>\n",
       "    <tr>\n",
       "      <th>4</th>\n",
       "      <td>14</td>\n",
       "      <td>26</td>\n",
       "    </tr>\n",
       "  </tbody>\n",
       "</table>\n",
       "</div>"
      ],
      "text/plain": [
       "   Advertising_Expenditure  Sales\n",
       "0                       10     25\n",
       "1                       15     30\n",
       "2                       12     28\n",
       "3                        8     20\n",
       "4                       14     26"
      ]
     },
     "execution_count": 157,
     "metadata": {},
     "output_type": "execute_result"
    }
   ],
   "source": [
    "df"
   ]
  },
  {
   "cell_type": "code",
   "execution_count": 158,
   "id": "fddb6e08-f047-449d-bfa4-67864ffbe1b7",
   "metadata": {},
   "outputs": [],
   "source": [
    "from sklearn.linear_model import LinearRegression"
   ]
  },
  {
   "cell_type": "code",
   "execution_count": 159,
   "id": "6f37e512-4f01-482a-9b60-97be9814a54d",
   "metadata": {},
   "outputs": [],
   "source": [
    "LR=LinearRegression()"
   ]
  },
  {
   "cell_type": "code",
   "execution_count": 160,
   "id": "274d5740-8367-4014-91cd-e215eda5e926",
   "metadata": {},
   "outputs": [],
   "source": [
    "X=df[['Advertising_Expenditure']]\n",
    "y=df['Sales']"
   ]
  },
  {
   "cell_type": "code",
   "execution_count": 161,
   "id": "56f543fe-0797-4be9-8af1-bd114835dda3",
   "metadata": {},
   "outputs": [
    {
     "data": {
      "text/html": [
       "<style>#sk-container-id-4 {color: black;background-color: white;}#sk-container-id-4 pre{padding: 0;}#sk-container-id-4 div.sk-toggleable {background-color: white;}#sk-container-id-4 label.sk-toggleable__label {cursor: pointer;display: block;width: 100%;margin-bottom: 0;padding: 0.3em;box-sizing: border-box;text-align: center;}#sk-container-id-4 label.sk-toggleable__label-arrow:before {content: \"▸\";float: left;margin-right: 0.25em;color: #696969;}#sk-container-id-4 label.sk-toggleable__label-arrow:hover:before {color: black;}#sk-container-id-4 div.sk-estimator:hover label.sk-toggleable__label-arrow:before {color: black;}#sk-container-id-4 div.sk-toggleable__content {max-height: 0;max-width: 0;overflow: hidden;text-align: left;background-color: #f0f8ff;}#sk-container-id-4 div.sk-toggleable__content pre {margin: 0.2em;color: black;border-radius: 0.25em;background-color: #f0f8ff;}#sk-container-id-4 input.sk-toggleable__control:checked~div.sk-toggleable__content {max-height: 200px;max-width: 100%;overflow: auto;}#sk-container-id-4 input.sk-toggleable__control:checked~label.sk-toggleable__label-arrow:before {content: \"▾\";}#sk-container-id-4 div.sk-estimator input.sk-toggleable__control:checked~label.sk-toggleable__label {background-color: #d4ebff;}#sk-container-id-4 div.sk-label input.sk-toggleable__control:checked~label.sk-toggleable__label {background-color: #d4ebff;}#sk-container-id-4 input.sk-hidden--visually {border: 0;clip: rect(1px 1px 1px 1px);clip: rect(1px, 1px, 1px, 1px);height: 1px;margin: -1px;overflow: hidden;padding: 0;position: absolute;width: 1px;}#sk-container-id-4 div.sk-estimator {font-family: monospace;background-color: #f0f8ff;border: 1px dotted black;border-radius: 0.25em;box-sizing: border-box;margin-bottom: 0.5em;}#sk-container-id-4 div.sk-estimator:hover {background-color: #d4ebff;}#sk-container-id-4 div.sk-parallel-item::after {content: \"\";width: 100%;border-bottom: 1px solid gray;flex-grow: 1;}#sk-container-id-4 div.sk-label:hover label.sk-toggleable__label {background-color: #d4ebff;}#sk-container-id-4 div.sk-serial::before {content: \"\";position: absolute;border-left: 1px solid gray;box-sizing: border-box;top: 0;bottom: 0;left: 50%;z-index: 0;}#sk-container-id-4 div.sk-serial {display: flex;flex-direction: column;align-items: center;background-color: white;padding-right: 0.2em;padding-left: 0.2em;position: relative;}#sk-container-id-4 div.sk-item {position: relative;z-index: 1;}#sk-container-id-4 div.sk-parallel {display: flex;align-items: stretch;justify-content: center;background-color: white;position: relative;}#sk-container-id-4 div.sk-item::before, #sk-container-id-4 div.sk-parallel-item::before {content: \"\";position: absolute;border-left: 1px solid gray;box-sizing: border-box;top: 0;bottom: 0;left: 50%;z-index: -1;}#sk-container-id-4 div.sk-parallel-item {display: flex;flex-direction: column;z-index: 1;position: relative;background-color: white;}#sk-container-id-4 div.sk-parallel-item:first-child::after {align-self: flex-end;width: 50%;}#sk-container-id-4 div.sk-parallel-item:last-child::after {align-self: flex-start;width: 50%;}#sk-container-id-4 div.sk-parallel-item:only-child::after {width: 0;}#sk-container-id-4 div.sk-dashed-wrapped {border: 1px dashed gray;margin: 0 0.4em 0.5em 0.4em;box-sizing: border-box;padding-bottom: 0.4em;background-color: white;}#sk-container-id-4 div.sk-label label {font-family: monospace;font-weight: bold;display: inline-block;line-height: 1.2em;}#sk-container-id-4 div.sk-label-container {text-align: center;}#sk-container-id-4 div.sk-container {/* jupyter's `normalize.less` sets `[hidden] { display: none; }` but bootstrap.min.css set `[hidden] { display: none !important; }` so we also need the `!important` here to be able to override the default hidden behavior on the sphinx rendered scikit-learn.org. See: https://github.com/scikit-learn/scikit-learn/issues/21755 */display: inline-block !important;position: relative;}#sk-container-id-4 div.sk-text-repr-fallback {display: none;}</style><div id=\"sk-container-id-4\" class=\"sk-top-container\"><div class=\"sk-text-repr-fallback\"><pre>LinearRegression()</pre><b>In a Jupyter environment, please rerun this cell to show the HTML representation or trust the notebook. <br />On GitHub, the HTML representation is unable to render, please try loading this page with nbviewer.org.</b></div><div class=\"sk-container\" hidden><div class=\"sk-item\"><div class=\"sk-estimator sk-toggleable\"><input class=\"sk-toggleable__control sk-hidden--visually\" id=\"sk-estimator-id-4\" type=\"checkbox\" checked><label for=\"sk-estimator-id-4\" class=\"sk-toggleable__label sk-toggleable__label-arrow\">LinearRegression</label><div class=\"sk-toggleable__content\"><pre>LinearRegression()</pre></div></div></div></div></div>"
      ],
      "text/plain": [
       "LinearRegression()"
      ]
     },
     "execution_count": 161,
     "metadata": {},
     "output_type": "execute_result"
    }
   ],
   "source": [
    "LR.fit(X,y)"
   ]
  },
  {
   "cell_type": "code",
   "execution_count": 162,
   "id": "a358271b-0164-4e03-b805-c6114173ae85",
   "metadata": {},
   "outputs": [],
   "source": [
    "predict_data=pd.DataFrame({'Advertising_Expenditure':[11,7]})"
   ]
  },
  {
   "cell_type": "code",
   "execution_count": 163,
   "id": "c5d69494-b052-46ed-95db-8a9a0898295b",
   "metadata": {},
   "outputs": [
    {
     "data": {
      "text/plain": [
       "array([24.87804878, 20.26829268])"
      ]
     },
     "execution_count": 163,
     "metadata": {},
     "output_type": "execute_result"
    }
   ],
   "source": [
    "LR.predict(predict_data)"
   ]
  },
  {
   "cell_type": "code",
   "execution_count": null,
   "id": "44260e4a-85c0-49ef-bb84-e70806f036b8",
   "metadata": {},
   "outputs": [],
   "source": []
  }
 ],
 "metadata": {
  "kernelspec": {
   "display_name": "Python 3 (ipykernel)",
   "language": "python",
   "name": "python3"
  },
  "language_info": {
   "codemirror_mode": {
    "name": "ipython",
    "version": 3
   },
   "file_extension": ".py",
   "mimetype": "text/x-python",
   "name": "python",
   "nbconvert_exporter": "python",
   "pygments_lexer": "ipython3",
   "version": "3.10.8"
  }
 },
 "nbformat": 4,
 "nbformat_minor": 5
}
