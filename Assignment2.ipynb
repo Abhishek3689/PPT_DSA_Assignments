{
 "cells": [
  {
   "cell_type": "markdown",
   "id": "b7437e1c-3be5-484f-99ac-e82390d4a590",
   "metadata": {},
   "source": [
    "Question 1\n",
    "Given an integer array nums of 2n integers, group these integers into n pairs (a1, b1), (a2, b2),..., (an, bn) such that the sum of min(ai, bi) for all i is maximized. Return the maximized sum.\n",
    "\n",
    "Example 1:\n",
    "- Input: nums = [1,4,3,2]\n",
    "- Output: 4"
   ]
  },
  {
   "cell_type": "code",
   "execution_count": 1,
   "id": "dda4d195-5061-4c0a-934e-86525a716a0e",
   "metadata": {},
   "outputs": [],
   "source": [
    "def maximum_sum_pairs(arr):\n",
    "    n=len(arr)\n",
    "    sum_pair=0\n",
    "    k=0\n",
    "    for i in range(n):\n",
    "        j=i-1\n",
    "        key=arr[i]\n",
    "        while(j>=0 and arr[j]>key):\n",
    "            arr[j+1]=arr[j]\n",
    "            j-=1\n",
    "        arr[j+1]=key\n",
    "    while(k<n-1):\n",
    "        sum_pair+=min(arr[k],arr[k+1])\n",
    "        k+=2\n",
    "    return sum_pair"
   ]
  },
  {
   "cell_type": "code",
   "execution_count": 2,
   "id": "9d22ec40-9d8c-4934-ad03-a447d031e91e",
   "metadata": {},
   "outputs": [
    {
     "data": {
      "text/plain": [
       "16"
      ]
     },
     "execution_count": 2,
     "metadata": {},
     "output_type": "execute_result"
    }
   ],
   "source": [
    "maximum_sum_pairs([6,4,7,2,5,1,8,3])"
   ]
  },
  {
   "cell_type": "code",
   "execution_count": 3,
   "id": "20013dd5-6073-4f10-a486-b5d5b4d55af5",
   "metadata": {},
   "outputs": [
    {
     "data": {
      "text/plain": [
       "4"
      ]
     },
     "execution_count": 3,
     "metadata": {},
     "output_type": "execute_result"
    }
   ],
   "source": [
    "maximum_sum_pairs([1,4,3,2])"
   ]
  },
  {
   "cell_type": "markdown",
   "id": "afb13b9b-1092-4ec6-8a35-af001277aa2c",
   "metadata": {},
   "source": [
    "Question 2\n",
    "Alice has n candies, where the ith candy is of type candyType[i]. Alice noticed that she started to gain weight, so she visited a doctor. \n",
    "\n",
    "The doctor advised Alice to only eat n / 2 of the candies she has (n is always even). Alice likes her candies very much, and she wants to eat the maximum number of different types of candies while still following the doctor's advice. \n",
    "\n",
    "Given the integer array candyType of length n, return the maximum number of different types of candies she can eat if she only eats n / 2 of them."
   ]
  },
  {
   "cell_type": "code",
   "execution_count": 4,
   "id": "023762d3-cbe4-4ba9-b0b3-089e8a387088",
   "metadata": {},
   "outputs": [],
   "source": [
    "def types_of_candy(arr):\n",
    "    n=len(arr)\n",
    "    unique_candy=[]\n",
    "    for i in range(n):\n",
    "        if arr[i] not in unique_candy:\n",
    "            unique_candy.append(arr[i])\n",
    "    candy_len=len(unique_candy)\n",
    "    if candy_len>n/2:\n",
    "        return n//2\n",
    "    return candy_len"
   ]
  },
  {
   "cell_type": "code",
   "execution_count": 5,
   "id": "dffd90f8-3615-4a55-ab1f-e6ea0b7dd0c0",
   "metadata": {},
   "outputs": [],
   "source": [
    "candy=[3,2,3,2,3,4,4,4]"
   ]
  },
  {
   "cell_type": "code",
   "execution_count": 6,
   "id": "30ae75fb-e98f-41ce-be52-b8099ebe64cb",
   "metadata": {},
   "outputs": [
    {
     "data": {
      "text/plain": [
       "3"
      ]
     },
     "execution_count": 6,
     "metadata": {},
     "output_type": "execute_result"
    }
   ],
   "source": [
    "types_of_candy(candy)"
   ]
  },
  {
   "cell_type": "code",
   "execution_count": 7,
   "id": "2a5769ad-ce1c-498d-baa3-4a7fb4a2200b",
   "metadata": {},
   "outputs": [
    {
     "data": {
      "text/plain": [
       "3"
      ]
     },
     "execution_count": 7,
     "metadata": {},
     "output_type": "execute_result"
    }
   ],
   "source": [
    "types_of_candy([1,2,3,4,5,2])"
   ]
  },
  {
   "cell_type": "code",
   "execution_count": 8,
   "id": "b33b27d0-9fbf-4c03-9c9c-28a4d8531c26",
   "metadata": {},
   "outputs": [
    {
     "data": {
      "text/plain": [
       "2"
      ]
     },
     "execution_count": 8,
     "metadata": {},
     "output_type": "execute_result"
    }
   ],
   "source": [
    "types_of_candy([2,2,1,1,1,2])"
   ]
  },
  {
   "cell_type": "markdown",
   "id": "42f31f33-f5de-482a-a397-28c60812954a",
   "metadata": {},
   "source": [
    "Question 3\n",
    "We define a harmonious array as an array where the difference between its maximum value\n",
    "and its minimum value is exactly 1.\n",
    "\n",
    "Given an integer array nums, return the length of its longest harmonious subsequence\n",
    "among all its possible subsequences.\n",
    "\n",
    "A subsequence of an array is a sequence that can be derived from the array by deleting some or no elements without changing the order of the remaining elements.\n",
    "\n",
    "Example 1:\n",
    "- Input: nums = [1,3,2,2,5,2,3,7]\n",
    "- Output: 5\n",
    "\n",
    "Explanation: The longest harmonious subsequence is [3,2,2,2,3]"
   ]
  },
  {
   "cell_type": "code",
   "execution_count": 9,
   "id": "a857ccdc-b8df-4609-b9dd-597f7bb7aceb",
   "metadata": {},
   "outputs": [],
   "source": [
    "def longest_harmonious_array(arr):\n",
    "    ## Initialising and empyt dictionary to store count of numbers in an array\n",
    "    d1={}\n",
    "    sub_arr_len=0\n",
    "    ## Storing count of numbers ia dictionary\n",
    "    for i in arr:\n",
    "        d1[i]=arr.count(i)\n",
    "    ## Finding the length of harmonious array\n",
    "    for key in d1.keys():\n",
    "        if key+1 in d1.keys():\n",
    "            max_length=d1[key]+d1[key+1]\n",
    "            if sub_arr_len<max_length:\n",
    "                sub_arr_len=max_length\n",
    "    return sub_arr_len"
   ]
  },
  {
   "cell_type": "code",
   "execution_count": 10,
   "id": "465c109e-bbaf-438c-a4fe-d013e3bbe152",
   "metadata": {},
   "outputs": [
    {
     "data": {
      "text/plain": [
       "5"
      ]
     },
     "execution_count": 10,
     "metadata": {},
     "output_type": "execute_result"
    }
   ],
   "source": [
    "longest_harmonious_array([1,3,2,2,5,2,3,7])"
   ]
  },
  {
   "cell_type": "code",
   "execution_count": 11,
   "id": "7117f7e5-ae81-4d99-aa2f-d11662c375ae",
   "metadata": {},
   "outputs": [
    {
     "data": {
      "text/plain": [
       "4"
      ]
     },
     "execution_count": 11,
     "metadata": {},
     "output_type": "execute_result"
    }
   ],
   "source": [
    "longest_harmonious_array([12,5,9,5,6,5,32,11,10])"
   ]
  },
  {
   "cell_type": "markdown",
   "id": "fbb792ba-d5e5-4b55-94af-15a67d52df81",
   "metadata": {},
   "source": [
    "Question 4\n",
    "You have a long flowerbed in which some of the plots are planted, and some are not.\n",
    "However, flowers cannot be planted in adjacent plots.\n",
    "\n",
    "Given an integer array flowerbed containing 0's and 1's, where 0 means empty and 1 means not empty, and an integer n, return true if n new flowers can be planted in the flowerbed without violating the no-adjacent-flowers rule and false otherwise."
   ]
  },
  {
   "cell_type": "code",
   "execution_count": 12,
   "id": "d56ba31a-8686-486e-84a9-a863b24d817e",
   "metadata": {},
   "outputs": [],
   "source": [
    "def plant_flower(arr,n):\n",
    "    cnt=0\n",
    "    num=0\n",
    "    for i in range(len(arr)):\n",
    "        if arr[i]==0:\n",
    "            cnt=cnt+1\n",
    "            ## check if number of zeroes in continuation is greater than or equal to 3 then we can plant flower and increment the flower cnt with every 2 empty plots(ie 3,5,7)\n",
    "            if cnt>=3 and cnt%2!=0:\n",
    "                num+=1\n",
    "        else:\n",
    "            cnt=0\n",
    "    if n<=num:\n",
    "        return True\n",
    "    else:\n",
    "        return False"
   ]
  },
  {
   "cell_type": "code",
   "execution_count": 13,
   "id": "b56b60f2-8dd0-48a6-bd74-1a2aa5c15bf1",
   "metadata": {},
   "outputs": [],
   "source": [
    "l2=[1,0,0,0,0,0,0,0,1,0,0]"
   ]
  },
  {
   "cell_type": "code",
   "execution_count": 14,
   "id": "2ab778c9-c772-4668-a12c-7d45bf24240e",
   "metadata": {},
   "outputs": [
    {
     "data": {
      "text/plain": [
       "False"
      ]
     },
     "execution_count": 14,
     "metadata": {},
     "output_type": "execute_result"
    }
   ],
   "source": [
    "plant_flower(l2,4)"
   ]
  },
  {
   "cell_type": "markdown",
   "id": "6d6a780a-2c41-40ee-a003-c477da58a969",
   "metadata": {},
   "source": [
    "Given an integer array nums, find three numbers whose product is maximum and return the maximum product.\n",
    "\n",
    "Example 1:\n",
    "- Input: nums = [1,2,3]\n",
    "- Output: 6"
   ]
  },
  {
   "cell_type": "code",
   "execution_count": 15,
   "id": "5c6f9a53-a681-4595-89c9-6eb2d5aa18be",
   "metadata": {},
   "outputs": [],
   "source": [
    "def max_product_arr(arr):\n",
    "    arr.sort()\n",
    "    if len(arr)<3:\n",
    "        return \"insufficient data\"\n",
    "    prod=arr[-1]*arr[-2]*arr[-3]\n",
    "    \n",
    "    new_prod=arr[0]*arr[1]*arr[-1]\n",
    "    maxi=max(prod,new_prod)\n",
    "    return maxi"
   ]
  },
  {
   "cell_type": "code",
   "execution_count": 16,
   "id": "6c01f5e3-96b7-42e6-be7b-980c7a0c8445",
   "metadata": {},
   "outputs": [
    {
     "data": {
      "text/plain": [
       "140"
      ]
     },
     "execution_count": 16,
     "metadata": {},
     "output_type": "execute_result"
    }
   ],
   "source": [
    "max_product_arr([1,2,3,7,-1,4,5,2])"
   ]
  },
  {
   "cell_type": "code",
   "execution_count": 17,
   "id": "d5699a76-9f33-4d9a-ba59-0f85ba59d07a",
   "metadata": {},
   "outputs": [
    {
     "data": {
      "text/plain": [
       "616"
      ]
     },
     "execution_count": 17,
     "metadata": {},
     "output_type": "execute_result"
    }
   ],
   "source": [
    "max_product_arr([11,2,3,4,-8,-7])"
   ]
  },
  {
   "cell_type": "markdown",
   "id": "aebc7897-e848-44f5-8e38-ebdc042efc02",
   "metadata": {},
   "source": [
    "Question 6\n",
    "Given an array of integers nums which is sorted in ascending order, and an integer target,\n",
    "write a function to search target in nums. If target exists, then return its index. Otherwise,\n",
    "return -1.\n",
    "\n",
    "You must write an algorithm with O(log n) runtime complexity.\n",
    "\n",
    "- Input: nums = [-1,0,3,5,9,12], target = 9\n",
    "- Output: 4\n",
    "\n",
    "Explanation: 9 exists in nums and its index is 4"
   ]
  },
  {
   "cell_type": "code",
   "execution_count": 18,
   "id": "db78fd54-4b92-4b3d-bac0-deb0b1d5c076",
   "metadata": {},
   "outputs": [],
   "source": [
    "def Search_target_index(arr,target):\n",
    "    i=0\n",
    "    j=len(arr)-1\n",
    "    while(i<=j):\n",
    "        \n",
    "        mid=i+(j-1)//2\n",
    "        if arr[mid]==target:\n",
    "            return mid\n",
    "        elif arr[mid]<target:\n",
    "            i=mid+1\n",
    "        else:\n",
    "            j=mid-1\n",
    "    return -1"
   ]
  },
  {
   "cell_type": "code",
   "execution_count": 19,
   "id": "54de774e-ea4e-4822-aaf9-27bdd16b11f8",
   "metadata": {},
   "outputs": [
    {
     "data": {
      "text/plain": [
       "4"
      ]
     },
     "execution_count": 19,
     "metadata": {},
     "output_type": "execute_result"
    }
   ],
   "source": [
    "Search_target_index([-1,0,3,5,9,12],9)"
   ]
  },
  {
   "cell_type": "code",
   "execution_count": 20,
   "id": "dd2be410-4680-40bb-8066-7f3fcd86e421",
   "metadata": {},
   "outputs": [
    {
     "data": {
      "text/plain": [
       "-1"
      ]
     },
     "execution_count": 20,
     "metadata": {},
     "output_type": "execute_result"
    }
   ],
   "source": [
    "Search_target_index([-1,0,3,5,9,12],11)"
   ]
  },
  {
   "cell_type": "code",
   "execution_count": 21,
   "id": "57fe7a19-35ac-467e-97d6-e1319ecb7d5c",
   "metadata": {},
   "outputs": [
    {
     "data": {
      "text/plain": [
       "1"
      ]
     },
     "execution_count": 21,
     "metadata": {},
     "output_type": "execute_result"
    }
   ],
   "source": [
    "Search_target_index([-1,0,3,5,9,12],0)"
   ]
  },
  {
   "cell_type": "markdown",
   "id": "9f4fc489-9ac3-4880-83e6-e925171eeaef",
   "metadata": {},
   "source": [
    "Question 7\n",
    "An array is monotonic if it is either monotone increasing or monotone decreasing.\n",
    "\n",
    "An array nums is monotone increasing if for all i <= j, nums[i] <= nums[j]. An array nums is\n",
    "monotone decreasing if for all i <= j, nums[i] >= nums[j].\n",
    "\n",
    "Given an integer array nums, return true if the given array is monotonic, or false otherwise.\n",
    "\n",
    "Example 1:\n",
    "- Input: nums = [1,2,2,3]\n",
    "- Output: true"
   ]
  },
  {
   "cell_type": "code",
   "execution_count": 22,
   "id": "4fbbdd98-c718-4630-8404-717c9c883fa2",
   "metadata": {},
   "outputs": [],
   "source": [
    "def monotone_array(arr):\n",
    "    n=len(arr)\n",
    "    i=0\n",
    "    cnt_inc=0\n",
    "    cnt_dec=0\n",
    "    while(i<n-1):\n",
    "        if arr[i]>arr[i+1]:\n",
    "            cnt_inc=cnt_inc+1\n",
    "        elif arr[i]<arr[i+1]:\n",
    "            cnt_dec=cnt_dec+1\n",
    "        else:\n",
    "            cnt_inc=cnt_inc+1\n",
    "            cnt_dec=cnt_dec+1\n",
    "        i=i+1\n",
    "    if (cnt_inc==n-1 or cnt_dec==n-1):\n",
    "        return True\n",
    "    return False"
   ]
  },
  {
   "cell_type": "code",
   "execution_count": 23,
   "id": "21727950-7c98-41ec-bd3e-e7e9b3161191",
   "metadata": {},
   "outputs": [
    {
     "data": {
      "text/plain": [
       "False"
      ]
     },
     "execution_count": 23,
     "metadata": {},
     "output_type": "execute_result"
    }
   ],
   "source": [
    "monotone_array([1,5,2,3,10])"
   ]
  },
  {
   "cell_type": "code",
   "execution_count": 24,
   "id": "852491a1-c619-483c-8080-ede3aac4afea",
   "metadata": {},
   "outputs": [
    {
     "data": {
      "text/plain": [
       "True"
      ]
     },
     "execution_count": 24,
     "metadata": {},
     "output_type": "execute_result"
    }
   ],
   "source": [
    "monotone_array([10,6,4,2])"
   ]
  },
  {
   "cell_type": "code",
   "execution_count": 25,
   "id": "4d2dbd86-1975-4e03-942f-d7476485213b",
   "metadata": {},
   "outputs": [
    {
     "data": {
      "text/plain": [
       "True"
      ]
     },
     "execution_count": 25,
     "metadata": {},
     "output_type": "execute_result"
    }
   ],
   "source": [
    "monotone_array([-1,-2,-3,-4])"
   ]
  },
  {
   "cell_type": "code",
   "execution_count": 26,
   "id": "7cf62037-73ec-44fe-b883-eb3fe34f4527",
   "metadata": {},
   "outputs": [
    {
     "data": {
      "text/plain": [
       "True"
      ]
     },
     "execution_count": 26,
     "metadata": {},
     "output_type": "execute_result"
    }
   ],
   "source": [
    "monotone_array([0,1,1,2])"
   ]
  },
  {
   "cell_type": "code",
   "execution_count": 27,
   "id": "09252893-221f-4c1d-90a4-68d6739a6486",
   "metadata": {},
   "outputs": [
    {
     "data": {
      "text/plain": [
       "True"
      ]
     },
     "execution_count": 27,
     "metadata": {},
     "output_type": "execute_result"
    }
   ],
   "source": [
    "monotone_array([2,3])"
   ]
  },
  {
   "cell_type": "markdown",
   "id": "fd8b1b48-81a3-45eb-a9b3-bd90acf10778",
   "metadata": {},
   "source": [
    "Question 8\n",
    "You are given an integer array nums and an integer k.\n",
    "\n",
    "In one operation, you can choose any index i where 0 <= i < nums.length and change nums[i] to nums[i] + x where x is an integer from the range [-k, k]. You can apply this operation at most once for each index i.\n",
    "\n",
    "The score of nums is the difference between the maximum and minimum elements in nums.\n",
    "\n",
    "Return the minimum score of nums after applying the mentioned operation at most once for each index in it.\n",
    "\n",
    "Example 1:\n",
    "- Input: nums = [1], k = 0\n",
    "- Output: 0"
   ]
  },
  {
   "cell_type": "code",
   "execution_count": 28,
   "id": "f880332c-5095-4c1b-9e23-51f2e30e679c",
   "metadata": {},
   "outputs": [],
   "source": [
    "def minimum_score(nums, k):\n",
    "    min_num = nums[0]\n",
    "    max_num = nums[0]\n",
    "    min_score=0\n",
    "    for num in nums:\n",
    "        min_num = min(min_num, num)\n",
    "        max_num = max(max_num, num)\n",
    "\n",
    "    initial_score = max_num - min_num\n",
    "\n",
    "    if initial_score == 0:\n",
    "        return 0\n",
    "\n",
    "    min_score = initial_score\n",
    "\n",
    "    for num in nums:\n",
    "        potential_min = min(min_num, num - k)\n",
    "        potential_max = max(max_num, num + k)\n",
    "        min_score = min(min_score, potential_max - potential_min)\n",
    "\n",
    "    return min_score"
   ]
  },
  {
   "cell_type": "code",
   "execution_count": 29,
   "id": "777c68a7-ca19-475f-952e-54203f0b1f5c",
   "metadata": {},
   "outputs": [
    {
     "data": {
      "text/plain": [
       "14"
      ]
     },
     "execution_count": 29,
     "metadata": {},
     "output_type": "execute_result"
    }
   ],
   "source": [
    "minimum_score([3,4,2,6,16],4)"
   ]
  },
  {
   "cell_type": "code",
   "execution_count": 30,
   "id": "eb1654bf-7952-49d6-8a96-686099f85dc6",
   "metadata": {},
   "outputs": [
    {
     "data": {
      "text/plain": [
       "0"
      ]
     },
     "execution_count": 30,
     "metadata": {},
     "output_type": "execute_result"
    }
   ],
   "source": [
    "minimum_score([1],0)"
   ]
  },
  {
   "cell_type": "code",
   "execution_count": 31,
   "id": "c9169c2b-e44e-4291-a280-11576a835726",
   "metadata": {},
   "outputs": [
    {
     "data": {
      "text/plain": [
       "3"
      ]
     },
     "execution_count": 31,
     "metadata": {},
     "output_type": "execute_result"
    }
   ],
   "source": [
    "minimum_score([1,4],5)"
   ]
  },
  {
   "cell_type": "code",
   "execution_count": null,
   "id": "2dae59fa-bd85-4aff-89f9-e4ac8db3ca2c",
   "metadata": {},
   "outputs": [],
   "source": []
  }
 ],
 "metadata": {
  "kernelspec": {
   "display_name": "Python 3 (ipykernel)",
   "language": "python",
   "name": "python3"
  },
  "language_info": {
   "codemirror_mode": {
    "name": "ipython",
    "version": 3
   },
   "file_extension": ".py",
   "mimetype": "text/x-python",
   "name": "python",
   "nbconvert_exporter": "python",
   "pygments_lexer": "ipython3",
   "version": "3.10.8"
  }
 },
 "nbformat": 4,
 "nbformat_minor": 5
}
