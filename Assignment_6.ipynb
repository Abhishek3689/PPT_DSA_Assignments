{
 "cells": [
  {
   "cell_type": "markdown",
   "id": "95a1c5f4-8133-4f53-aab2-dd4ef8ba1bec",
   "metadata": {},
   "source": [
    "**Question 1**\n",
    "\n",
    "A permutation perm of n + 1 integers of all the integers in the range [0, n] can be represented as a string s of length n where:\n",
    "\n",
    "- s[i] == 'I' if perm[i] < perm[i + 1], and\n",
    "- s[i] == 'D' if perm[i] > perm[i + 1].\n",
    "\n",
    "Given a string s, reconstruct the permutation perm and return it. If there are multiple valid permutations perm, return **any of them**.\n",
    "\n",
    "**Example 1:**\n",
    "\n",
    "**Input:** s = \"IDID\"\n",
    "\n",
    "**Output:** [0,4,1,3,2]"
   ]
  },
  {
   "cell_type": "code",
   "execution_count": 1,
   "id": "7c6d3872-5f7c-49b6-8c7f-fb65c5e55e77",
   "metadata": {},
   "outputs": [
    {
     "data": {
      "text/plain": [
       "[0, 4, 1, 3, 2]"
      ]
     },
     "execution_count": 1,
     "metadata": {},
     "output_type": "execute_result"
    }
   ],
   "source": [
    "s = \"IDID\"\n",
    "def diStringMatch(s: str) -> list[int]:\n",
    "        ans = []\n",
    "        low = 0\n",
    "        high = len(s)\n",
    "        for i in s:\n",
    "            if i==\"I\":\n",
    "                ans.append(low)\n",
    "                low+=1\n",
    "            else:\n",
    "                ans.append(high)\n",
    "                high-=1\n",
    "        ans.append(high)\n",
    "        return ans\n",
    "diStringMatch(s)"
   ]
  },
  {
   "cell_type": "markdown",
   "id": "ffdf45d2-42c6-4755-a792-9bf32e46b52b",
   "metadata": {},
   "source": [
    "**Question 2**\n",
    "\n",
    "You are given an m x n integer matrix matrix with the following two properties:\n",
    "\n",
    "- Each row is sorted in non-decreasing order.\n",
    "- The first integer of each row is greater than the last integer of the previous row.\n",
    "\n",
    "Given an integer target, return true *if* target *is in* matrix *or* false *otherwise*.\n",
    "\n",
    "You must write a solution in O(log(m * n)) time complexity."
   ]
  },
  {
   "cell_type": "code",
   "execution_count": 2,
   "id": "a35f77ba-a1c6-49c8-9b66-70ea85a64e0a",
   "metadata": {},
   "outputs": [],
   "source": [
    "def target_in_matrix(matrix,target):\n",
    "    m=len(matrix)\n",
    "    n=len(matrix[0])\n",
    "    i=0\n",
    "    j=m*n-1\n",
    "    while i<=j:\n",
    "        mid=i+(j-i)//2\n",
    "        if matrix[mid//n][mid%n]==target:\n",
    "            return True\n",
    "        elif matrix[mid//n][mid%n]<target:\n",
    "            i=mid+1\n",
    "        else:\n",
    "            j=mid-1\n",
    "    return False          "
   ]
  },
  {
   "cell_type": "code",
   "execution_count": 3,
   "id": "909f36ce-b6f8-4f87-a5a4-75cdb63a5aea",
   "metadata": {},
   "outputs": [
    {
     "data": {
      "text/plain": [
       "True"
      ]
     },
     "execution_count": 3,
     "metadata": {},
     "output_type": "execute_result"
    }
   ],
   "source": [
    " target_in_matrix([[1,3,5,7],[10,11,16,20],[23,30,34,60]],60)"
   ]
  },
  {
   "cell_type": "markdown",
   "id": "b3d130c1-b1b8-4a55-b94d-1b1483c38c0d",
   "metadata": {},
   "source": [
    "**Question 3**\n",
    "\n",
    "Given an array of integers arr, return *true if and only if it is a valid mountain array*.\n",
    "\n",
    "Recall that arr is a mountain array if and only if:\n",
    "\n",
    "- arr.length >= 3\n",
    "- There exists some i with 0 < i < arr.length - 1 such that:\n",
    "    - arr[0] < arr[1] < ... < arr[i - 1] < arr[i]\n",
    "    - arr[i] > arr[i + 1] > ... > arr[arr.length - 1]"
   ]
  },
  {
   "cell_type": "code",
   "execution_count": 5,
   "id": "db0117d8-b35b-438b-821e-56179e0bb232",
   "metadata": {},
   "outputs": [],
   "source": [
    "def mountain_array(arr):\n",
    "    i=0\n",
    "    j=len(arr)-1\n",
    "    if len(arr)<3:\n",
    "        return False\n",
    "    while(i<j and arr[i]<arr[i+1]):\n",
    "        i=i+1\n",
    "    if i==0 or i==j:\n",
    "        return False\n",
    "    while(i<j and arr[i]>arr[i+1]):\n",
    "        i=i+1\n",
    "    if i==j:\n",
    "        return True\n",
    "    return False"
   ]
  },
  {
   "cell_type": "code",
   "execution_count": 6,
   "id": "a81c7c39-2237-4a10-ac1c-dc88e86839b0",
   "metadata": {},
   "outputs": [
    {
     "data": {
      "text/plain": [
       "True"
      ]
     },
     "execution_count": 6,
     "metadata": {},
     "output_type": "execute_result"
    }
   ],
   "source": [
    "mountain_array([1,3,2])"
   ]
  },
  {
   "cell_type": "markdown",
   "id": "eef0b84d-752e-48e3-971d-cb9da5ff0e68",
   "metadata": {},
   "source": [
    "**Question 4**\n",
    "\n",
    "Given a binary array nums, return *the maximum length of a contiguous subarray with an equal number of* 0 *and* 1.\n",
    "\n",
    "**Example 1:**\n",
    "\n",
    "**Input:** nums = [0,1]\n",
    "\n",
    "**Output:** 2\n",
    "\n",
    "**Explanation:**\n",
    "\n",
    "[0, 1] is the longest contiguous subarray with an equal number of 0 and 1."
   ]
  },
  {
   "cell_type": "code",
   "execution_count": 7,
   "id": "3005663a-7522-4410-9c93-870f74455e1d",
   "metadata": {},
   "outputs": [],
   "source": [
    "def contiguous_binary_array(nums):\n",
    "    max_length = 0\n",
    "    count = 0\n",
    "    prefix_sum = {0: -1}\n",
    "\n",
    "    for i in range(len(nums)):\n",
    "        count += 1 if nums[i] == 1 else -1\n",
    "\n",
    "        if count in prefix_sum:\n",
    "            max_length = max(max_length, i - prefix_sum[count])\n",
    "        else:\n",
    "            prefix_sum[count] = i\n",
    "\n",
    "    return max_length"
   ]
  },
  {
   "cell_type": "code",
   "execution_count": 8,
   "id": "9790b1d9-f2f8-4f78-9029-16f353bb85af",
   "metadata": {},
   "outputs": [
    {
     "data": {
      "text/plain": [
       "8"
      ]
     },
     "execution_count": 8,
     "metadata": {},
     "output_type": "execute_result"
    }
   ],
   "source": [
    "contiguous_binary_array([1,0,1,0,1,1,0,1,0])"
   ]
  },
  {
   "cell_type": "markdown",
   "id": "a03651ac-fdaf-4f34-8c3f-7f5467c318aa",
   "metadata": {},
   "source": [
    " **Question 5**\n",
    "\n",
    "The **product sum** of two equal-length arrays a and b is equal to the sum of a[i] * b[i] for all 0 <= i < a.length (**0-indexed**).\n",
    "\n",
    "- For example, if a = [1,2,3,4] and b = [5,2,3,1], the **product sum** would be 1*5 + 2*2 + 3*3 + 4*1 = 22.\n",
    "\n",
    "Given two arrays nums1 and nums2 of length n, return *the **minimum product sum** if you are allowed to **rearrange** the **order** of the elements in* nums1."
   ]
  },
  {
   "cell_type": "code",
   "execution_count": 9,
   "id": "b6dbd14c-521b-439a-8f66-89b667d7d94a",
   "metadata": {},
   "outputs": [
    {
     "data": {
      "text/plain": [
       "40"
      ]
     },
     "execution_count": 9,
     "metadata": {},
     "output_type": "execute_result"
    }
   ],
   "source": [
    "nums1 = [5,3,4,2]\n",
    "nums2 = [4,2,2,5]\n",
    "def minProductSum(nums1:list[int], nums2:list[int])->int:\n",
    " \n",
    "\n",
    "    nums1.sort()\n",
    "    nums2.sort()\n",
    "    n = len(nums1)\n",
    "\n",
    "    result = 0\n",
    "    for i in range(n):\n",
    "        result += (nums1[i] * nums2[n-i-1])\n",
    "\n",
    "    return(result)\n",
    "minProductSum(nums1, nums2)"
   ]
  },
  {
   "cell_type": "markdown",
   "id": "06a5a807-528b-4c13-b59b-211e978eb20a",
   "metadata": {},
   "source": [
    " **Question 6**\n",
    "\n",
    "An integer array original is transformed into a **doubled** array changed by appending **twice the value** of every element in original, and then randomly **shuffling** the resulting array.\n",
    "\n",
    "Given an array changed, return original *if* changed *is a **doubled** array. If* changed *is not a **doubled** array, return an empty array. The elements in* original *may be returned in **any** order*.\n",
    "\n",
    "**Example 1:**\n",
    "\n",
    "**Input:** changed = [1,3,4,2,6,8]\n",
    "\n",
    "**Output:** [1,3,4]"
   ]
  },
  {
   "cell_type": "code",
   "execution_count": 10,
   "id": "496e3267-f254-4bcb-ae57-3cabd65b7e68",
   "metadata": {},
   "outputs": [
    {
     "data": {
      "text/plain": [
       "[1, 3, 4]"
      ]
     },
     "execution_count": 10,
     "metadata": {},
     "output_type": "execute_result"
    }
   ],
   "source": [
    "changed = [1,3,4,2,6,8]\n",
    "def findOriginalArray(changed: list[int]):\n",
    "    \"\"\"checks if an array is doubled and returns the original\n",
    "    array or empty list\n",
    "\n",
    "    Args:\n",
    "        changed (list[int]): doubled array\n",
    "\n",
    "    Returns:\n",
    "        list[int]: original array\n",
    "    \"\"\"\n",
    "    from collections import Counter\n",
    "    if len(changed)%2!=0:return []\n",
    "    changed.sort()\n",
    "    c=Counter(changed)\n",
    "    ans=[]\n",
    "    if c[0]%2==0:\n",
    "        ans+=[0]*(c[0]//2)\n",
    "        \n",
    "    for i in c:\n",
    "        if i==0 or c[i]==0:\n",
    "            continue\n",
    "        elif (i*2 not in c) or c[i]>c[i*2]:\n",
    "            return []\n",
    "        c[i*2]-=c[i]\n",
    "        ans+=[i]*c[i]\n",
    "            \n",
    "    return ans\n",
    "findOriginalArray(changed)"
   ]
  },
  {
   "cell_type": "markdown",
   "id": "668e2d3c-9aec-4340-8bd0-4712483de612",
   "metadata": {},
   "source": [
    "**Question 7**\n",
    "\n",
    "Given a positive integer n, generate an n x n matrix filled with elements from 1 to n2 in spiral order."
   ]
  },
  {
   "cell_type": "code",
   "execution_count": 11,
   "id": "bb39fb1a-9d04-4b96-8d68-745b85dd5126",
   "metadata": {},
   "outputs": [],
   "source": [
    "def generateMatrix(n):\n",
    "    matrix = [[0] * n for _ in range(n)]\n",
    "    num = 1\n",
    "    row_start, row_end = 0, n - 1\n",
    "    col_start, col_end = 0, n - 1\n",
    "\n",
    "    while num <= n * n:\n",
    "        for j in range(col_start, col_end + 1):\n",
    "            matrix[row_start][j] = num\n",
    "            num += 1\n",
    "        row_start += 1\n",
    "\n",
    "        for i in range(row_start, row_end + 1):\n",
    "            matrix[i][col_end] = num\n",
    "            num += 1\n",
    "        col_end -= 1\n",
    "\n",
    "        for j in range(col_end, col_start - 1, -1):\n",
    "            matrix[row_end][j] = num\n",
    "            num += 1\n",
    "        row_end -= 1\n",
    "\n",
    "        for i in range(row_end, row_start - 1, -1):\n",
    "            matrix[i][col_start] = num\n",
    "            num += 1\n",
    "        col_start += 1\n",
    "\n",
    "    return matrix"
   ]
  },
  {
   "cell_type": "code",
   "execution_count": 12,
   "id": "3d48a098-0291-4e12-96e0-358c5e58480e",
   "metadata": {},
   "outputs": [
    {
     "data": {
      "text/plain": [
       "[[1, 2, 3], [8, 9, 4], [7, 6, 5]]"
      ]
     },
     "execution_count": 12,
     "metadata": {},
     "output_type": "execute_result"
    }
   ],
   "source": [
    "generateMatrix(3)"
   ]
  },
  {
   "cell_type": "markdown",
   "id": "123d68f2-bbac-4814-ad3a-eb02718a4323",
   "metadata": {},
   "source": [
    " **Question 8**\n",
    "\n",
    "Given two [sparse matrices](https://en.wikipedia.org/wiki/Sparse_matrix) mat1 of size m x k and mat2 of size k x n, return the result of mat1 x mat2. You may assume that multiplication is always possible."
   ]
  },
  {
   "cell_type": "code",
   "execution_count": 13,
   "id": "f7613e6e-5432-40ca-94de-d7fb14b1f64a",
   "metadata": {},
   "outputs": [],
   "source": [
    "def multiply(mat1, mat2):\n",
    "    m, k, n = len(mat1), len(mat1[0]), len(mat2[0])\n",
    "    result = [[0] * n for _ in range(m)]\n",
    "\n",
    "    for i in range(m):\n",
    "        for j in range(n):\n",
    "            for p in range(k):\n",
    "                if mat1[i][p] != 0 and mat2[p][j] != 0:\n",
    "                    result[i][j] += mat1[i][p] * mat2[p][j]\n",
    "\n",
    "    return result"
   ]
  },
  {
   "cell_type": "code",
   "execution_count": 14,
   "id": "9ab2aa7d-593c-4319-8474-fe2713336f6b",
   "metadata": {},
   "outputs": [
    {
     "data": {
      "text/plain": [
       "[[7, 0, 0], [-7, 0, 3]]"
      ]
     },
     "execution_count": 14,
     "metadata": {},
     "output_type": "execute_result"
    }
   ],
   "source": [
    "multiply(mat1=[[1, 0, 0], [-1, 0, 3]],mat2=[[7, 0, 0], [0, 0, 0], [0, 0, 1]])"
   ]
  },
  {
   "cell_type": "code",
   "execution_count": null,
   "id": "469b5bb0-5e19-4949-a741-26952b70b56e",
   "metadata": {},
   "outputs": [],
   "source": []
  }
 ],
 "metadata": {
  "kernelspec": {
   "display_name": "Python 3 (ipykernel)",
   "language": "python",
   "name": "python3"
  },
  "language_info": {
   "codemirror_mode": {
    "name": "ipython",
    "version": 3
   },
   "file_extension": ".py",
   "mimetype": "text/x-python",
   "name": "python",
   "nbconvert_exporter": "python",
   "pygments_lexer": "ipython3",
   "version": "3.10.8"
  }
 },
 "nbformat": 4,
 "nbformat_minor": 5
}
