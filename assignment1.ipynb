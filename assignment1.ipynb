{
 "cells": [
  {
   "cell_type": "markdown",
   "id": "0bc71429-5e93-4933-99c3-8f1b2378a895",
   "metadata": {},
   "source": [
    "\n",
    "Q1. Given an array of integers nums and an integer target, return indices of the two numbers such that they add up to target.\n",
    "\n",
    "You may assume that each input would have exactly one solution, and you may not use the same element twice.\n",
    "\n",
    "You can return the answer in any order.\n"
   ]
  },
  {
   "cell_type": "code",
   "execution_count": 1,
   "id": "4a603987-34f6-4ddf-b277-0cae4bb2559d",
   "metadata": {},
   "outputs": [],
   "source": [
    "def index_of_numbers(arr,target):\n",
    "    x=len(arr)\n",
    "    l2=[]\n",
    "    for i in range(x):\n",
    "        y=target-arr[i]\n",
    "        #print(\"value of y is \",y)\n",
    "        if y in l2:\n",
    "            return [l2.index(y),i]\n",
    "        l2.append(arr[i])\n",
    "        #print(\"l2 is \",l2)\n",
    "    return -1"
   ]
  },
  {
   "cell_type": "code",
   "execution_count": 2,
   "id": "926cc928-4ab9-49e8-8e2a-47e49dd2a5f1",
   "metadata": {},
   "outputs": [],
   "source": [
    "l1=[2,4,6,8,11,7]\n",
    "target=17"
   ]
  },
  {
   "cell_type": "code",
   "execution_count": 3,
   "id": "405a9273-1026-4ffc-af67-c03b51f3ec44",
   "metadata": {},
   "outputs": [
    {
     "data": {
      "text/plain": [
       "[2, 4]"
      ]
     },
     "execution_count": 3,
     "metadata": {},
     "output_type": "execute_result"
    }
   ],
   "source": [
    "index_of_numbers(l1,target)"
   ]
  },
  {
   "cell_type": "code",
   "execution_count": 4,
   "id": "eac92f72-08aa-4ea4-9e66-17a499d11f94",
   "metadata": {},
   "outputs": [
    {
     "data": {
      "text/plain": [
       "[1, 5]"
      ]
     },
     "execution_count": 4,
     "metadata": {},
     "output_type": "execute_result"
    }
   ],
   "source": [
    "index_of_numbers(l1,11)"
   ]
  },
  {
   "cell_type": "code",
   "execution_count": 5,
   "id": "d57abd6f-139a-4514-99eb-cc397cb0fb4e",
   "metadata": {},
   "outputs": [
    {
     "data": {
      "text/plain": [
       "-1"
      ]
     },
     "execution_count": 5,
     "metadata": {},
     "output_type": "execute_result"
    }
   ],
   "source": [
    "index_of_numbers(l1,45)"
   ]
  },
  {
   "cell_type": "markdown",
   "id": "f2b8b8c0-a3ff-464b-a918-f8e4a8a78f50",
   "metadata": {},
   "source": [
    "\n",
    "Q2. Given an integer array nums and an integer val, remove all occurrences of val in nums in-place. The order of the elements may be changed. Then return the number of elements in nums which are not equal to val.\n",
    "\n",
    "Consider the number of elements in nums which are not equal to val be k, to get accepted, you need to do the following things:\n",
    "\n",
    "- Change the array nums such that the first k elements of nums contain the elements which are not equal to val. The remaining elements of nums are not important as well as the size of nums.\n",
    "- Return k.\n"
   ]
  },
  {
   "cell_type": "code",
   "execution_count": 6,
   "id": "6be1a8ab-5092-48c1-bbc2-c851b8f5dbe4",
   "metadata": {},
   "outputs": [],
   "source": [
    "def first_k(arr,val):\n",
    "    n=len(arr)\n",
    "    \n",
    "    for i in range(1,n):\n",
    "        key=arr[i]\n",
    "        j=i-1\n",
    "        while(j>=0 and arr[j]==val):\n",
    "            arr[j+1]=arr[j]\n",
    "            j=j-1\n",
    "            \n",
    "        arr[j+1]=key\n",
    "    cnt=arr.count(val)\n",
    "    \n",
    "    k=n-cnt\n",
    "    for m in range(n):\n",
    "        if arr[m]==val:\n",
    "            arr[m]='_'\n",
    "    print(\"Modified Array\",arr)\n",
    "    return k"
   ]
  },
  {
   "cell_type": "code",
   "execution_count": 7,
   "id": "3a49e8e5-7c3a-45a9-a2e7-dc11cea44aa9",
   "metadata": {},
   "outputs": [],
   "source": [
    "lst1=[8,2,2,3,5,6,3,7,9,8]"
   ]
  },
  {
   "cell_type": "code",
   "execution_count": 8,
   "id": "cfc0ecae-88fc-4221-be4b-1321dbf89a9c",
   "metadata": {},
   "outputs": [
    {
     "name": "stdout",
     "output_type": "stream",
     "text": [
      "Modified Array [2, 2, 3, 5, 6, 3, 7, 9, '_', '_']\n"
     ]
    },
    {
     "data": {
      "text/plain": [
       "8"
      ]
     },
     "execution_count": 8,
     "metadata": {},
     "output_type": "execute_result"
    }
   ],
   "source": [
    "first_k(lst1,8)"
   ]
  },
  {
   "cell_type": "code",
   "execution_count": 9,
   "id": "85a9e22d-1d97-4832-8d7f-758b2477b083",
   "metadata": {},
   "outputs": [],
   "source": [
    "lst2=[4,1,3,5,3,8,3]"
   ]
  },
  {
   "cell_type": "code",
   "execution_count": 10,
   "id": "1e2d91d1-d456-48fc-8d24-fdea203130d0",
   "metadata": {},
   "outputs": [
    {
     "name": "stdout",
     "output_type": "stream",
     "text": [
      "Modified Array [4, 1, 5, 8, '_', '_', '_']\n"
     ]
    },
    {
     "data": {
      "text/plain": [
       "4"
      ]
     },
     "execution_count": 10,
     "metadata": {},
     "output_type": "execute_result"
    }
   ],
   "source": [
    "first_k(lst2,3)"
   ]
  },
  {
   "cell_type": "markdown",
   "id": "c07340ba-5691-4abd-b6c9-e202ba94dd41",
   "metadata": {},
   "source": [
    "\n",
    "Q3.** Given a sorted array of distinct integers and a target value, return the index if the target is found. If not, return the index where it would be if it were inserted in order.\n",
    "\n",
    "You must write an algorithm with O(log n) runtime complexity.\n",
    "\n",
    "**Example 1:**\n",
    "Input: nums = [1,3,5,6], target = 5\n",
    "\n",
    "Output: 2\n",
    "\n"
   ]
  },
  {
   "cell_type": "code",
   "execution_count": 11,
   "id": "02281897-856d-4ae8-93e8-1dcdf4d3d625",
   "metadata": {},
   "outputs": [],
   "source": [
    "def target_index(arr,target):\n",
    "    start=0\n",
    "    end=len(arr)-1\n",
    "    while(start<end):\n",
    "        mid=start+(end-1)//2\n",
    "        #print(\"mid \",mid)\n",
    "        if arr[mid]==target:\n",
    "            return mid\n",
    "        elif arr[mid]<target:\n",
    "            start=mid+1\n",
    "        else:\n",
    "            end=mid-1\n",
    "    return start"
   ]
  },
  {
   "cell_type": "code",
   "execution_count": 12,
   "id": "01c05773-7195-4350-b18c-42be9b1c00a2",
   "metadata": {},
   "outputs": [],
   "source": [
    "l1=[1,4,7,9,11,15]"
   ]
  },
  {
   "cell_type": "code",
   "execution_count": 13,
   "id": "3688b3bb-70ce-4f36-87db-7c49b463a789",
   "metadata": {},
   "outputs": [
    {
     "data": {
      "text/plain": [
       "5"
      ]
     },
     "execution_count": 13,
     "metadata": {},
     "output_type": "execute_result"
    }
   ],
   "source": [
    "target_index(l1,15)"
   ]
  },
  {
   "cell_type": "code",
   "execution_count": 14,
   "id": "abfaaf41-8b1e-463f-8431-28885677752c",
   "metadata": {},
   "outputs": [
    {
     "data": {
      "text/plain": [
       "3"
      ]
     },
     "execution_count": 14,
     "metadata": {},
     "output_type": "execute_result"
    }
   ],
   "source": [
    "target_index(l1,8)"
   ]
  },
  {
   "cell_type": "markdown",
   "id": "3d648a0f-a356-4987-b8b8-5bc0899590eb",
   "metadata": {},
   "source": [
    "\n",
    "**Q4.** You are given a large integer represented as an integer array digits, where each digits[i] is the ith digit of the integer. The digits are ordered from most significant to least significant in left-to-right order. The large integer does not contain any leading 0's.\n",
    "\n",
    "Increment the large integer by one and return the resulting array of digits.\n",
    "\n",
    "**Example 1:**\n",
    "- Input: digits = [1,2,3]\n",
    "- Output: [1,2,4]\n"
   ]
  },
  {
   "cell_type": "code",
   "execution_count": 15,
   "id": "7b77ea29-1ea3-47d1-8754-abca7fd4359f",
   "metadata": {},
   "outputs": [],
   "source": [
    "def digit_increment_one(arr):\n",
    "    n=len(arr)\n",
    "    ptr=n-1\n",
    "    carry=1\n",
    "    while(ptr>=0):\n",
    "        if carry==1:\n",
    "            \n",
    "            arr[ptr]+=1\n",
    "            if arr[ptr]==10:\n",
    "                carry=1\n",
    "                arr[ptr]=0\n",
    "                ptr-=1\n",
    "            else:\n",
    "                carry=0\n",
    "                ptr-=1\n",
    "        else:\n",
    "            ptr-=1\n",
    "    if carry==1:\n",
    "        arr.insert(0,1)\n",
    "    return arr"
   ]
  },
  {
   "cell_type": "code",
   "execution_count": 16,
   "id": "70968a90-d701-4883-9a0f-0cdce9e504ed",
   "metadata": {},
   "outputs": [
    {
     "data": {
      "text/plain": [
       "[1, 2, 4]"
      ]
     },
     "execution_count": 16,
     "metadata": {},
     "output_type": "execute_result"
    }
   ],
   "source": [
    "digit_increment_one([1,2,3])"
   ]
  },
  {
   "cell_type": "code",
   "execution_count": 17,
   "id": "5f56fad0-0b5c-4815-8f79-1403a155d098",
   "metadata": {},
   "outputs": [
    {
     "data": {
      "text/plain": [
       "[1, 0, 0, 0, 0]"
      ]
     },
     "execution_count": 17,
     "metadata": {},
     "output_type": "execute_result"
    }
   ],
   "source": [
    "digit_increment_one([9,9,9,9])"
   ]
  },
  {
   "cell_type": "code",
   "execution_count": 18,
   "id": "3655c9b7-2b1f-4b5f-93eb-caf0439fabb4",
   "metadata": {},
   "outputs": [
    {
     "data": {
      "text/plain": [
       "[9, 0, 0]"
      ]
     },
     "execution_count": 18,
     "metadata": {},
     "output_type": "execute_result"
    }
   ],
   "source": [
    "digit_increment_one([8,9,9])"
   ]
  },
  {
   "cell_type": "markdown",
   "id": "aae828db-e4ff-48ab-bce1-d08d73c808e5",
   "metadata": {},
   "source": [
    " **Q5.** You are given two integer arrays nums1 and nums2, sorted in non-decreasing order, and two integers m and n, representing the number of elements in nums1 and nums2 respectively.\n",
    "\n",
    "Merge nums1 and nums2 into a single array sorted in non-decreasing order.\n",
    "\n",
    "The final sorted array should not be returned by the function, but instead be stored inside the array nums1. To accommodate this, nums1 has a length of m + n, where the first m elements denote the elements that should be merged, and the last n elements are set to 0 and should be ignored. nums2 has a length of n.\n",
    "\n"
   ]
  },
  {
   "cell_type": "code",
   "execution_count": 19,
   "id": "5c275235-c9b0-47eb-86d6-3077bc7cdc99",
   "metadata": {},
   "outputs": [],
   "source": [
    "def merge_array(arr1,arr2,m,n):\n",
    "    l=m+n\n",
    "    for i in range(m,l):\n",
    "        arr1[i]=arr2[i-m]\n",
    "    for j in range(1,l):\n",
    "        k=j-1\n",
    "        minimum=arr1[j]\n",
    "        while(k>=0 and arr1[k]>minimum):\n",
    "            arr1[k+1]=arr1[k]\n",
    "            k-=1\n",
    "        arr1[k+1]=minimum\n",
    "    print(arr1)"
   ]
  },
  {
   "cell_type": "code",
   "execution_count": 20,
   "id": "f786db1c-05bb-4644-8439-2e644835f472",
   "metadata": {},
   "outputs": [],
   "source": [
    "nums1=[1,2,8,0,0,0,0]\n",
    "nums2=[2,5,6,7]"
   ]
  },
  {
   "cell_type": "code",
   "execution_count": 21,
   "id": "29b5bf95-0b2b-4652-a923-ef7522254d30",
   "metadata": {},
   "outputs": [
    {
     "name": "stdout",
     "output_type": "stream",
     "text": [
      "[1, 2, 2, 5, 6, 7, 8]\n"
     ]
    }
   ],
   "source": [
    "merge_array(nums1,nums2,3,4)"
   ]
  },
  {
   "cell_type": "code",
   "execution_count": 22,
   "id": "5b97410d-2f35-47cf-8415-eeae24552e79",
   "metadata": {},
   "outputs": [],
   "source": [
    "nums1=[2,4,6,0,0,0]\n",
    "nums2=[1,3,5]"
   ]
  },
  {
   "cell_type": "code",
   "execution_count": 23,
   "id": "d5d040b7-ec00-4f75-a967-02b0a752c15e",
   "metadata": {},
   "outputs": [
    {
     "name": "stdout",
     "output_type": "stream",
     "text": [
      "[1, 2, 3, 4, 5, 6]\n"
     ]
    }
   ],
   "source": [
    "merge_array(nums1,nums2,3,3)"
   ]
  },
  {
   "cell_type": "markdown",
   "id": "63dd7da7-da9a-447b-a4c4-e3f1ffa6a1d8",
   "metadata": {},
   "source": [
    " **Q6.** Given an integer array nums, return true if any value appears at least twice in the array, and return false if every element is distinct.\n",
    "\n",
    "**Example 1:**\n",
    "- Input: nums = [1,2,3,1]\n",
    "\n",
    "- Output: true\n"
   ]
  },
  {
   "cell_type": "code",
   "execution_count": 24,
   "id": "6d75b972-23da-4272-a9da-5af70b366ab6",
   "metadata": {},
   "outputs": [],
   "source": [
    "def repeat_int(arr):\n",
    "    n=len(arr)\n",
    "    for i in range(n):\n",
    "        for j in range(i,n-1):\n",
    "            if arr[i]==arr[j+1]:\n",
    "                return True\n",
    "    return False"
   ]
  },
  {
   "cell_type": "code",
   "execution_count": 25,
   "id": "aed0650d-dba7-4de8-81ee-b74d0273e7df",
   "metadata": {},
   "outputs": [
    {
     "data": {
      "text/plain": [
       "False"
      ]
     },
     "execution_count": 25,
     "metadata": {},
     "output_type": "execute_result"
    }
   ],
   "source": [
    "repeat_int([1,2,3,4,5])"
   ]
  },
  {
   "cell_type": "code",
   "execution_count": 26,
   "id": "ea26d405-9c25-4470-a03b-b1a9b1aecf5a",
   "metadata": {},
   "outputs": [
    {
     "data": {
      "text/plain": [
       "True"
      ]
     },
     "execution_count": 26,
     "metadata": {},
     "output_type": "execute_result"
    }
   ],
   "source": [
    "repeat_int([1,2,3,4,4])"
   ]
  },
  {
   "cell_type": "markdown",
   "id": "5eb75613-6521-4e35-98e0-380791227d9a",
   "metadata": {},
   "source": [
    "\n",
    " **Q7.** Given an integer array nums, move all 0's to the end of it while maintaining the relative order of the nonzero elements.\n",
    "\n",
    "Note that you must do this in-place without making a copy of the array.\n",
    "\n",
    "**Example 1:**\n",
    "- Input: nums = [0,1,0,3,12]\n",
    "- Output: [1,3,12,0,0]\n"
   ]
  },
  {
   "cell_type": "code",
   "execution_count": 27,
   "id": "9ae9db79-de6c-469b-bd22-6ad952482223",
   "metadata": {},
   "outputs": [],
   "source": [
    "def nonzero_arrange(arr):\n",
    "    for i in range(1,len(arr)):\n",
    "        j=i-1\n",
    "        key=arr[i]\n",
    "        while(j>=0 and arr[j]==0):\n",
    "            arr[j+1]=arr[j]\n",
    "            j-=1\n",
    "        arr[j+1]=key\n",
    "    return arr"
   ]
  },
  {
   "cell_type": "code",
   "execution_count": 28,
   "id": "f24fe885-d269-48bf-badb-4eee5e91b52a",
   "metadata": {},
   "outputs": [],
   "source": [
    "list1=[1,0,3,12,0,23,4,5]"
   ]
  },
  {
   "cell_type": "code",
   "execution_count": 29,
   "id": "d861c9e9-d21c-4360-97fb-c94be01df68b",
   "metadata": {},
   "outputs": [
    {
     "data": {
      "text/plain": [
       "[1, 3, 12, 23, 4, 5, 0, 0]"
      ]
     },
     "execution_count": 29,
     "metadata": {},
     "output_type": "execute_result"
    }
   ],
   "source": [
    "nonzero_arrange(list1)"
   ]
  },
  {
   "cell_type": "markdown",
   "id": "9f566d9a-b27e-4a11-a7f8-1715d7c0f73c",
   "metadata": {},
   "source": [
    "\n",
    " **Q8.** You have a set of integers s, which originally contains all the numbers from 1 to n. Unfortunately, due to some error, one of the numbers in s got duplicated to another number in the set, which results in repetition of one number and loss of another number.\n",
    "\n",
    "You are given an integer array nums representing the data status of this set after the error.\n",
    "\n",
    "Find the number that occurs twice and the number that is missing and return them in the form of an array.\n",
    "\n"
   ]
  },
  {
   "cell_type": "code",
   "execution_count": 30,
   "id": "9a1d642a-7202-446c-999b-f87dff8f0017",
   "metadata": {},
   "outputs": [],
   "source": [
    "def find_missing_number(arr):\n",
    "    for i in range(len(arr)-1):\n",
    "        if arr[i]==arr[i+1]:\n",
    "            num=arr[i]+1\n",
    "            # arr[i] will contain the number that occur twice and num is mising number\n",
    "            return [arr[i],num]\n",
    "    return -1"
   ]
  },
  {
   "cell_type": "code",
   "execution_count": 31,
   "id": "9e9b3811-2005-43ac-9d89-7ce4ff249aeb",
   "metadata": {},
   "outputs": [],
   "source": [
    "input_1=[1,2,3,4,5,6,6,8]"
   ]
  },
  {
   "cell_type": "code",
   "execution_count": 32,
   "id": "604e91a2-cd4a-47f5-b77b-974ff1b846b1",
   "metadata": {},
   "outputs": [
    {
     "data": {
      "text/plain": [
       "[6, 7]"
      ]
     },
     "execution_count": 32,
     "metadata": {},
     "output_type": "execute_result"
    }
   ],
   "source": [
    "find_missing_number(input_1)"
   ]
  },
  {
   "cell_type": "code",
   "execution_count": 33,
   "id": "12a0b92c-a030-416f-9e51-d325b6f882bb",
   "metadata": {},
   "outputs": [],
   "source": [
    "input_2=[2,3,4,4]"
   ]
  },
  {
   "cell_type": "code",
   "execution_count": 34,
   "id": "a7b3fde9-5e70-404a-a894-13b320d90127",
   "metadata": {},
   "outputs": [
    {
     "data": {
      "text/plain": [
       "[4, 5]"
      ]
     },
     "execution_count": 34,
     "metadata": {},
     "output_type": "execute_result"
    }
   ],
   "source": [
    "find_missing_number(input_2)"
   ]
  },
  {
   "cell_type": "code",
   "execution_count": null,
   "id": "da3fead6-f17e-408c-a26a-e089ea099056",
   "metadata": {},
   "outputs": [],
   "source": []
  }
 ],
 "metadata": {
  "kernelspec": {
   "display_name": "Python 3 (ipykernel)",
   "language": "python",
   "name": "python3"
  },
  "language_info": {
   "codemirror_mode": {
    "name": "ipython",
    "version": 3
   },
   "file_extension": ".py",
   "mimetype": "text/x-python",
   "name": "python",
   "nbconvert_exporter": "python",
   "pygments_lexer": "ipython3",
   "version": "3.10.8"
  }
 },
 "nbformat": 4,
 "nbformat_minor": 5
}
