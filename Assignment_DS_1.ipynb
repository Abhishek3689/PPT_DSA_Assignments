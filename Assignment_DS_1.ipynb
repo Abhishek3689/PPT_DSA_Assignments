{
 "cells": [
  {
   "cell_type": "markdown",
   "id": "7c487b8b-7255-4d5a-abec-d5125a0b5777",
   "metadata": {},
   "source": [
    "1. Write a Python program to reverse a string without using any built-in string reversal functions."
   ]
  },
  {
   "cell_type": "code",
   "execution_count": 1,
   "id": "a1f267fe-ee20-4d6e-9632-391ce361b09b",
   "metadata": {},
   "outputs": [],
   "source": [
    "## First Method"
   ]
  },
  {
   "cell_type": "code",
   "execution_count": 2,
   "id": "73ab137f-fc47-45fd-8e66-d0630b35efca",
   "metadata": {},
   "outputs": [],
   "source": [
    "def reverse_string(string:str):\n",
    "    return string[::-1]"
   ]
  },
  {
   "cell_type": "code",
   "execution_count": 3,
   "id": "f3382aab-775f-4c67-b16f-b2741d55a74a",
   "metadata": {},
   "outputs": [
    {
     "data": {
      "text/plain": [
       "'sllikSWP'"
      ]
     },
     "execution_count": 3,
     "metadata": {},
     "output_type": "execute_result"
    }
   ],
   "source": [
    "reverse_string(\"PWSkills\")"
   ]
  },
  {
   "cell_type": "code",
   "execution_count": 4,
   "id": "13f401ee-b1c6-43e1-85dc-75f86d8e584c",
   "metadata": {},
   "outputs": [],
   "source": [
    "## Second Method"
   ]
  },
  {
   "cell_type": "code",
   "execution_count": 5,
   "id": "424ceac0-a8f6-499d-b14b-21812f85af3c",
   "metadata": {},
   "outputs": [],
   "source": [
    "def reverse_word(string:str):\n",
    "    rev_str=''\n",
    "    for i in range(len(string)-1,-1,-1):\n",
    "        rev_str+=string[i]\n",
    "    return rev_str"
   ]
  },
  {
   "cell_type": "code",
   "execution_count": 6,
   "id": "24c4317f-efe3-409a-9848-cca3cebd4374",
   "metadata": {},
   "outputs": [
    {
     "data": {
      "text/plain": [
       "'ecneicS ataD'"
      ]
     },
     "execution_count": 6,
     "metadata": {},
     "output_type": "execute_result"
    }
   ],
   "source": [
    "reverse_word(\"Data Science\")"
   ]
  },
  {
   "cell_type": "markdown",
   "id": "d380d5a2-4389-49d7-8a75-9397ec8e3ba6",
   "metadata": {},
   "source": [
    "2. Implement a function to check if a given string is a palindrome."
   ]
  },
  {
   "cell_type": "code",
   "execution_count": 7,
   "id": "31461088-648f-4358-888c-395b7db34b23",
   "metadata": {},
   "outputs": [],
   "source": [
    "def pallindrome(string:str):\n",
    "    string=string.lower()\n",
    "    if string==string[::-1]:\n",
    "        return \"Pallindrome\"\n",
    "    else:\n",
    "        return \"Not a Palindrome\"\n",
    "    "
   ]
  },
  {
   "cell_type": "code",
   "execution_count": 8,
   "id": "6b368d14-0ab2-4efe-978c-73dca21b1bb0",
   "metadata": {},
   "outputs": [
    {
     "data": {
      "text/plain": [
       "'Pallindrome'"
      ]
     },
     "execution_count": 8,
     "metadata": {},
     "output_type": "execute_result"
    }
   ],
   "source": [
    "pallindrome(\"radar\")"
   ]
  },
  {
   "cell_type": "code",
   "execution_count": 9,
   "id": "007a8a6e-13b2-423e-8e3c-988b6a4e2cf1",
   "metadata": {},
   "outputs": [
    {
     "data": {
      "text/plain": [
       "'Not a Palindrome'"
      ]
     },
     "execution_count": 9,
     "metadata": {},
     "output_type": "execute_result"
    }
   ],
   "source": [
    "pallindrome(\"Pwskill\")"
   ]
  },
  {
   "cell_type": "markdown",
   "id": "9071bd5d-392e-4e98-952b-678ac8df22f1",
   "metadata": {},
   "source": [
    "3. Write a program to find the largest element in a given list."
   ]
  },
  {
   "cell_type": "code",
   "execution_count": 10,
   "id": "3c3f3ce5-b09a-4f10-ad44-3fa650e3bc48",
   "metadata": {},
   "outputs": [],
   "source": [
    "## First Method"
   ]
  },
  {
   "cell_type": "code",
   "execution_count": 11,
   "id": "4f30261a-98ff-4fa1-a094-2e12dcaa5aab",
   "metadata": {},
   "outputs": [],
   "source": [
    "def largest_element(nums:list):\n",
    "    return max(nums)"
   ]
  },
  {
   "cell_type": "code",
   "execution_count": 12,
   "id": "eb97a38b-2bd7-4559-b974-fcad4e36027e",
   "metadata": {},
   "outputs": [
    {
     "data": {
      "text/plain": [
       "8"
      ]
     },
     "execution_count": 12,
     "metadata": {},
     "output_type": "execute_result"
    }
   ],
   "source": [
    "largest_element([1,3,5,8,4])"
   ]
  },
  {
   "cell_type": "code",
   "execution_count": 13,
   "id": "6f06692f-dccb-40fd-b4c5-a294a7c848cb",
   "metadata": {},
   "outputs": [],
   "source": [
    "## Second Method"
   ]
  },
  {
   "cell_type": "code",
   "execution_count": 14,
   "id": "ba6b0536-18ca-475b-b0e1-387d85f10586",
   "metadata": {},
   "outputs": [],
   "source": [
    "def largest_num(nums:list):\n",
    "    max_value=0\n",
    "    for x in nums:\n",
    "        if x>max_value:\n",
    "            max_value=x\n",
    "    return max_value"
   ]
  },
  {
   "cell_type": "code",
   "execution_count": 15,
   "id": "2db2bead-6f07-46fc-bb05-642a2ca1ff81",
   "metadata": {},
   "outputs": [
    {
     "data": {
      "text/plain": [
       "45"
      ]
     },
     "execution_count": 15,
     "metadata": {},
     "output_type": "execute_result"
    }
   ],
   "source": [
    "largest_num([12,45,3,23,32])"
   ]
  },
  {
   "cell_type": "markdown",
   "id": "45229157-3c95-42df-b2c2-1e4867565387",
   "metadata": {},
   "source": [
    "4. Implement a function to count the occurrence of each element in a list."
   ]
  },
  {
   "cell_type": "code",
   "execution_count": 16,
   "id": "69b43777-5b77-41e8-a738-25c08272869a",
   "metadata": {},
   "outputs": [],
   "source": [
    "def cnt_occurence(list_val:list):\n",
    "    d1={}\n",
    "    for element in list_val:\n",
    "        d1[element]=d1.get(element,0)+1\n",
    "    return d1"
   ]
  },
  {
   "cell_type": "code",
   "execution_count": 17,
   "id": "be073a69-81b4-4ff2-8d13-26599a965753",
   "metadata": {},
   "outputs": [
    {
     "data": {
      "text/plain": [
       "{'a': 2, 'b': 3, 'c': 1}"
      ]
     },
     "execution_count": 17,
     "metadata": {},
     "output_type": "execute_result"
    }
   ],
   "source": [
    "cnt_occurence(['a','b','a','c','b','b'])"
   ]
  },
  {
   "cell_type": "markdown",
   "id": "8e0d9cc5-626c-4581-84ba-2234e177c4c3",
   "metadata": {},
   "source": [
    "5. Write a Python program to find the second largest number in a list."
   ]
  },
  {
   "cell_type": "code",
   "execution_count": 18,
   "id": "3cf72289-bcf1-43fe-b16d-b6e0d97eecb5",
   "metadata": {},
   "outputs": [],
   "source": [
    "def second_largest(list_num:list):\n",
    "    list_num.sort()\n",
    "    return list_num[-2]"
   ]
  },
  {
   "cell_type": "code",
   "execution_count": 19,
   "id": "a6c207ba-b140-4a7f-923e-f3df6c045a9c",
   "metadata": {},
   "outputs": [
    {
     "data": {
      "text/plain": [
       "6"
      ]
     },
     "execution_count": 19,
     "metadata": {},
     "output_type": "execute_result"
    }
   ],
   "source": [
    "second_largest([2,4,6,8,1])"
   ]
  },
  {
   "cell_type": "markdown",
   "id": "a63df7ba-6b8f-4164-af2a-a6c2fc2186ac",
   "metadata": {},
   "source": [
    "6. Implement a function to remove duplicate elements from a list."
   ]
  },
  {
   "cell_type": "code",
   "execution_count": 20,
   "id": "684413a9-ed0a-4dfa-8b5c-ea1447db53d0",
   "metadata": {},
   "outputs": [],
   "source": [
    "def remove_duplicates(list_val:list):\n",
    "    i=0\n",
    "    while i<len(list_val):\n",
    "        if list_val.count(list_val[i])>=2:\n",
    "            list_val.pop(i)\n",
    "        else:\n",
    "            i=i+1\n",
    "        #i+1\n",
    "    return list_val"
   ]
  },
  {
   "cell_type": "code",
   "execution_count": 21,
   "id": "2d83b89f-7648-4001-b467-5c62065977be",
   "metadata": {},
   "outputs": [
    {
     "data": {
      "text/plain": [
       "['b', 'c', 'a', 'd']"
      ]
     },
     "execution_count": 21,
     "metadata": {},
     "output_type": "execute_result"
    }
   ],
   "source": [
    "remove_duplicates(['a','b','a','b','c','a','d'])"
   ]
  },
  {
   "cell_type": "markdown",
   "id": "af10afa7-b9b6-471a-9a05-ad77ae385730",
   "metadata": {},
   "source": [
    "7. Write a program to calculate the factorial of a given number."
   ]
  },
  {
   "cell_type": "code",
   "execution_count": 22,
   "id": "1126acd6-cfb6-4dae-9253-58cc2ff8ad33",
   "metadata": {},
   "outputs": [],
   "source": [
    "def factorial_num(n:int):\n",
    "    if n<=2:\n",
    "        return n\n",
    "    else:\n",
    "        return n*factorial_num(n-1)"
   ]
  },
  {
   "cell_type": "code",
   "execution_count": 23,
   "id": "fed84f49-a8e3-4351-9c77-81e5f1bf77ba",
   "metadata": {},
   "outputs": [
    {
     "data": {
      "text/plain": [
       "720"
      ]
     },
     "execution_count": 23,
     "metadata": {},
     "output_type": "execute_result"
    }
   ],
   "source": [
    "factorial_num(6)"
   ]
  },
  {
   "cell_type": "markdown",
   "id": "a74be3a9-7ba8-4034-b8a1-d42b8b9f2c0a",
   "metadata": {},
   "source": [
    "8. Implement a function to check if a given number is prime."
   ]
  },
  {
   "cell_type": "code",
   "execution_count": 24,
   "id": "e4501d84-bf24-4f15-8047-7593d833c7ee",
   "metadata": {},
   "outputs": [],
   "source": [
    "def prime_num(n):\n",
    "    if n<2:\n",
    "        return False\n",
    "    for i in range(2,n):\n",
    "        if n%i==0:\n",
    "            return False\n",
    "    return True"
   ]
  },
  {
   "cell_type": "code",
   "execution_count": 25,
   "id": "6cc45fb7-956c-434d-8d7d-bf586baf570e",
   "metadata": {},
   "outputs": [
    {
     "data": {
      "text/plain": [
       "True"
      ]
     },
     "execution_count": 25,
     "metadata": {},
     "output_type": "execute_result"
    }
   ],
   "source": [
    "prime_num(11)"
   ]
  },
  {
   "cell_type": "code",
   "execution_count": 26,
   "id": "3d475355-a6b8-4a8d-aa58-a5cfbdd55cd3",
   "metadata": {},
   "outputs": [
    {
     "data": {
      "text/plain": [
       "False"
      ]
     },
     "execution_count": 26,
     "metadata": {},
     "output_type": "execute_result"
    }
   ],
   "source": [
    "prime_num(9)"
   ]
  },
  {
   "cell_type": "markdown",
   "id": "d8a01e5e-8188-4f1c-abcd-d5d04a60da6a",
   "metadata": {},
   "source": [
    "9. Write a Python program to sort a list of integers in ascending order."
   ]
  },
  {
   "cell_type": "code",
   "execution_count": 27,
   "id": "1dd02c90-091a-4b14-b6c3-b53d3109722e",
   "metadata": {},
   "outputs": [],
   "source": [
    "def sort_integers(arr:list):\n",
    "    i=0\n",
    "    for i in range(len(arr)):\n",
    "        for j in range(i+1,len(arr)):\n",
    "            if arr[i]>arr[j]:\n",
    "                arr[i],arr[j]=arr[j],arr[i]\n",
    "       \n",
    "    return arr"
   ]
  },
  {
   "cell_type": "code",
   "execution_count": 28,
   "id": "7860f284-621e-4e68-a1c0-9b90853a43b7",
   "metadata": {},
   "outputs": [
    {
     "data": {
      "text/plain": [
       "[3, 4, 10, 56, 67]"
      ]
     },
     "execution_count": 28,
     "metadata": {},
     "output_type": "execute_result"
    }
   ],
   "source": [
    "sort_integers([67,10,4,56,3])"
   ]
  },
  {
   "cell_type": "code",
   "execution_count": 29,
   "id": "6f1e8685-5b0a-4e77-b63a-83973acd782e",
   "metadata": {},
   "outputs": [],
   "source": [
    "def selection_sort(arr:list):\n",
    "    \n",
    "    for i in range(len(arr)):\n",
    "        min_idx=i\n",
    "        for j in range(i+1,len(arr)):\n",
    "            if arr[j]<arr[min_idx]:\n",
    "                min_idx=j\n",
    "        arr[i],arr[min_idx]=arr[min_idx],arr[i]\n",
    "    return arr"
   ]
  },
  {
   "cell_type": "code",
   "execution_count": 30,
   "id": "7d8ec218-fa55-49ac-890d-560125cf413c",
   "metadata": {},
   "outputs": [
    {
     "data": {
      "text/plain": [
       "[4, 9, 23, 45, 65, 76]"
      ]
     },
     "execution_count": 30,
     "metadata": {},
     "output_type": "execute_result"
    }
   ],
   "source": [
    "selection_sort([9,76,45,4,23,65])"
   ]
  },
  {
   "cell_type": "markdown",
   "id": "7d6c1e4f-1d2d-4522-832c-98c73d5b80a4",
   "metadata": {},
   "source": [
    "10. Implement a function to find the sum of all numbers in a list."
   ]
  },
  {
   "cell_type": "code",
   "execution_count": 31,
   "id": "265487a6-51f3-44d5-8b27-836afff5cb8c",
   "metadata": {},
   "outputs": [],
   "source": [
    "def sum_of_numbers(nums:list):\n",
    "    sum_num=0\n",
    "    for num in nums:\n",
    "        sum_num+=num\n",
    "    return sum_num"
   ]
  },
  {
   "cell_type": "code",
   "execution_count": 32,
   "id": "e7a66b07-f1c4-45d0-b885-6da7d5154ca0",
   "metadata": {},
   "outputs": [
    {
     "data": {
      "text/plain": [
       "15"
      ]
     },
     "execution_count": 32,
     "metadata": {},
     "output_type": "execute_result"
    }
   ],
   "source": [
    "sum_of_numbers([1,2,3,4,5])"
   ]
  },
  {
   "cell_type": "markdown",
   "id": "494b07d8-5e33-4d31-915c-a95af836efca",
   "metadata": {},
   "source": [
    "11. Write a program to find the common elements between two lists."
   ]
  },
  {
   "cell_type": "code",
   "execution_count": 33,
   "id": "c8b0cb86-bf72-46f0-920d-d0122055acf1",
   "metadata": {},
   "outputs": [],
   "source": [
    "def common_elements(list1:list,list2:list):\n",
    "    com_list=[]\n",
    "    for element in list1:\n",
    "        if element in list2:\n",
    "            com_list.append(element)\n",
    "    return com_list"
   ]
  },
  {
   "cell_type": "code",
   "execution_count": 34,
   "id": "b10325e9-b5b3-4890-bacb-76537fba41fc",
   "metadata": {},
   "outputs": [
    {
     "data": {
      "text/plain": [
       "[1, 4, 6]"
      ]
     },
     "execution_count": 34,
     "metadata": {},
     "output_type": "execute_result"
    }
   ],
   "source": [
    "common_elements([1,4,6,8,9],[10,3,6,4,12,1])"
   ]
  },
  {
   "cell_type": "markdown",
   "id": "c231574f-f307-43e4-bb87-88744e4b8959",
   "metadata": {},
   "source": [
    "12. Implement a function to check if a given string is an anagram of another string."
   ]
  },
  {
   "cell_type": "code",
   "execution_count": 35,
   "id": "d9cea451-f9cf-4e2d-9b34-8aacc0b0c47e",
   "metadata": {},
   "outputs": [],
   "source": [
    "def Anagram_string(string1,string2):\n",
    "    if sorted(string1)==sorted(string2):\n",
    "        return True\n",
    "    return False"
   ]
  },
  {
   "cell_type": "code",
   "execution_count": 36,
   "id": "6ad2a10e-b2db-4ab8-9fe6-5034e3d4e82f",
   "metadata": {},
   "outputs": [
    {
     "data": {
      "text/plain": [
       "True"
      ]
     },
     "execution_count": 36,
     "metadata": {},
     "output_type": "execute_result"
    }
   ],
   "source": [
    "Anagram_string(\"abcd\",\"cdba\")"
   ]
  },
  {
   "cell_type": "markdown",
   "id": "73616ed0-385d-4fcb-8df8-e1ba6d6f5e5f",
   "metadata": {},
   "source": [
    "13. Write a Python program to generate all permutations of a given string"
   ]
  },
  {
   "cell_type": "code",
   "execution_count": 37,
   "id": "9d039912-c8fb-4589-aa61-84c71bb172f3",
   "metadata": {},
   "outputs": [],
   "source": [
    "def permutations(string:str):\n",
    "    if len(string)==1:\n",
    "        return string\n",
    "    perms=[]\n",
    "    \n",
    "    for i in range(len(string)):\n",
    "        key=string[i]\n",
    "        other_char=string[:i]+string[i+1:]  \n",
    "        sub_perms=permutations(other_char)\n",
    "        for perm in sub_perms:\n",
    "            perms.append(key+perm)\n",
    "    return perms"
   ]
  },
  {
   "cell_type": "code",
   "execution_count": 38,
   "id": "ba0e5797-af14-4151-9660-ff637bcfb261",
   "metadata": {},
   "outputs": [
    {
     "data": {
      "text/plain": [
       "['ABC', 'ACB', 'BAC', 'BCA', 'CAB', 'CBA']"
      ]
     },
     "execution_count": 38,
     "metadata": {},
     "output_type": "execute_result"
    }
   ],
   "source": [
    "permutations('ABC')"
   ]
  },
  {
   "cell_type": "markdown",
   "id": "198f38aa-f3f6-4cff-a303-358a6210b842",
   "metadata": {},
   "source": [
    "14. Implement a function to calculate the Fibonacci sequence up to a given number of terms."
   ]
  },
  {
   "cell_type": "code",
   "execution_count": 39,
   "id": "d9e6acca-3558-4e37-8ae3-3c2cf29ba36c",
   "metadata": {},
   "outputs": [],
   "source": [
    "def fibonnaci(n):\n",
    "    a=0\n",
    "    b=1\n",
    "    for i in range(n):\n",
    "        print(a)\n",
    "        a,b=a+b,a"
   ]
  },
  {
   "cell_type": "code",
   "execution_count": 40,
   "id": "07fdeeb2-e0e3-454c-9be5-ce8e4d11437f",
   "metadata": {},
   "outputs": [
    {
     "name": "stdout",
     "output_type": "stream",
     "text": [
      "0\n",
      "1\n",
      "1\n",
      "2\n",
      "3\n",
      "5\n",
      "8\n",
      "13\n"
     ]
    }
   ],
   "source": [
    "fibonnaci(8)"
   ]
  },
  {
   "cell_type": "markdown",
   "id": "e2d048d0-a0b7-4264-9764-70ca63518ad8",
   "metadata": {},
   "source": [
    "15. Write a program to find the median of a list of numbers."
   ]
  },
  {
   "cell_type": "code",
   "execution_count": 41,
   "id": "5848c985-cdfd-4d9f-b891-05392191ba2a",
   "metadata": {},
   "outputs": [],
   "source": [
    "def median_value(nums:list):\n",
    "    n=len(nums)\n",
    "    nums.sort()\n",
    "    median=0\n",
    "    if n%2==0:\n",
    "        median=(nums[n//2]+nums[n//2-1])/2\n",
    "    else:\n",
    "        median=nums[n//2]\n",
    "    return median"
   ]
  },
  {
   "cell_type": "code",
   "execution_count": 42,
   "id": "d7178006-d42e-45be-b0ed-296643fdef6f",
   "metadata": {},
   "outputs": [],
   "source": [
    "def median_Num(nums:list):\n",
    "    import numpy as np\n",
    "    median=np.median(nums)\n",
    "    return median   "
   ]
  },
  {
   "cell_type": "code",
   "execution_count": 43,
   "id": "6a82b1f9-c1d8-4c9f-8222-b4d2d5551c85",
   "metadata": {},
   "outputs": [
    {
     "data": {
      "text/plain": [
       "5.5"
      ]
     },
     "execution_count": 43,
     "metadata": {},
     "output_type": "execute_result"
    }
   ],
   "source": [
    "median_Num([2,3,4,5,6,5,7,11,20,9])"
   ]
  },
  {
   "cell_type": "code",
   "execution_count": 44,
   "id": "7857280d-0850-42cd-bf1d-458747c00215",
   "metadata": {},
   "outputs": [
    {
     "data": {
      "text/plain": [
       "5.5"
      ]
     },
     "execution_count": 44,
     "metadata": {},
     "output_type": "execute_result"
    }
   ],
   "source": [
    "median_value([2,3,4,5,6,5,7,11,20,9])"
   ]
  },
  {
   "cell_type": "markdown",
   "id": "a89df37c-2a7d-44bd-8e01-160ae9bf8e49",
   "metadata": {},
   "source": [
    "16. Implement a function to check if a given list is sorted in non-decreasing order."
   ]
  },
  {
   "cell_type": "code",
   "execution_count": 45,
   "id": "b787c86d-a335-4489-bfba-ca206c798aaa",
   "metadata": {},
   "outputs": [],
   "source": [
    "def check_sorted(string:list):\n",
    "    for i in range(len(string)-1):\n",
    "        if string[i]>string[i+1]:\n",
    "            return False\n",
    "    return True"
   ]
  },
  {
   "cell_type": "code",
   "execution_count": 46,
   "id": "e04b5eec-7280-48f4-a971-3f3842b0d549",
   "metadata": {},
   "outputs": [
    {
     "data": {
      "text/plain": [
       "True"
      ]
     },
     "execution_count": 46,
     "metadata": {},
     "output_type": "execute_result"
    }
   ],
   "source": [
    "check_sorted([1,2,4,4,5,12])"
   ]
  },
  {
   "cell_type": "markdown",
   "id": "3994b441-8b45-4af4-bf23-1745d85c9636",
   "metadata": {},
   "source": [
    "17. Write a Python program to find the intersection of two lists."
   ]
  },
  {
   "cell_type": "code",
   "execution_count": 47,
   "id": "ceaf0100-008b-4762-84de-28cef9c5e2c5",
   "metadata": {},
   "outputs": [],
   "source": [
    "def intersection_list(list1:list,list2:list):\n",
    "    \n",
    "    # Convert the lists to sets to remove duplicates\n",
    "    set1 = set(list1)\n",
    "    set2 = set(list2)\n",
    "\n",
    "    # Find the intersection of the sets\n",
    "    intersection = set1.intersection(set2)\n",
    "\n",
    "    # Convert the intersection set back to a list\n",
    "    result = list(intersection)\n",
    "\n",
    "    return result"
   ]
  },
  {
   "cell_type": "code",
   "execution_count": 48,
   "id": "0b0f8c77-35cc-4b42-9987-6408439836ae",
   "metadata": {},
   "outputs": [
    {
     "data": {
      "text/plain": [
       "[3, 4]"
      ]
     },
     "execution_count": 48,
     "metadata": {},
     "output_type": "execute_result"
    }
   ],
   "source": [
    "intersection_list([1,4,6,3,9],[2,4,3,8])"
   ]
  },
  {
   "cell_type": "markdown",
   "id": "f52019e6-a80c-4485-9d16-8c12503dc26b",
   "metadata": {},
   "source": [
    "18. Implement a function to find the maximum subarray sum in a given list."
   ]
  },
  {
   "cell_type": "code",
   "execution_count": 49,
   "id": "336ad772-a372-4e6a-875d-5726d2fa9c7e",
   "metadata": {},
   "outputs": [],
   "source": [
    "def max_subarray_sum(arr):\n",
    "    max_sum=0\n",
    "    maxi=arr[0]\n",
    "    for num in arr:\n",
    "        max_sum+=num\n",
    "        if max_sum>=0:\n",
    "            if max_sum>maxi:\n",
    "                maxi=max_sum\n",
    "        else:\n",
    "            max_sum=0\n",
    "    return maxi"
   ]
  },
  {
   "cell_type": "code",
   "execution_count": 50,
   "id": "65293f62-cbe3-4f02-b582-8acd89bae2d0",
   "metadata": {},
   "outputs": [
    {
     "data": {
      "text/plain": [
       "7"
      ]
     },
     "execution_count": 50,
     "metadata": {},
     "output_type": "execute_result"
    }
   ],
   "source": [
    "max_subarray_sum([1,-2,4,-1,3,-7,5,2])"
   ]
  },
  {
   "cell_type": "code",
   "execution_count": 51,
   "id": "d1e2cefc-07a5-426e-a42a-2e5f2a378980",
   "metadata": {},
   "outputs": [
    {
     "data": {
      "text/plain": [
       "-1"
      ]
     },
     "execution_count": 51,
     "metadata": {},
     "output_type": "execute_result"
    }
   ],
   "source": [
    "max_subarray_sum([-1])"
   ]
  },
  {
   "cell_type": "markdown",
   "id": "bdff6a04-f85a-4bef-b6d1-ffb78be467e7",
   "metadata": {},
   "source": [
    "19. Write a program to remove all vowels from a given string."
   ]
  },
  {
   "cell_type": "code",
   "execution_count": 52,
   "id": "86eaac6f-8b38-4ecb-8d7b-d148de9b85dd",
   "metadata": {},
   "outputs": [],
   "source": [
    "def remove_vowels(string:str):\n",
    "    vowels=['a','e','i','o','u','A','E','I','O','U']\n",
    "    for char in string:\n",
    "        if char in vowels:\n",
    "            string=string.replace(char,'')\n",
    "    return string"
   ]
  },
  {
   "cell_type": "code",
   "execution_count": 53,
   "id": "3ad709e6-30e0-4d52-bd01-29e239db48a8",
   "metadata": {},
   "outputs": [
    {
     "data": {
      "text/plain": [
       "'DtScnc'"
      ]
     },
     "execution_count": 53,
     "metadata": {},
     "output_type": "execute_result"
    }
   ],
   "source": [
    "remove_vowels('DataScience')"
   ]
  },
  {
   "cell_type": "markdown",
   "id": "cc55a5e4-93a8-4463-98f5-6f223f98c9ef",
   "metadata": {},
   "source": [
    "20. Implement a function to reverse the order of words in a given sentence."
   ]
  },
  {
   "cell_type": "code",
   "execution_count": 54,
   "id": "0521c603-6f3a-48ba-8377-9aeb7ffaf5fe",
   "metadata": {},
   "outputs": [],
   "source": [
    "def reverse_words_in_sentence(sentence:str):\n",
    "    sen_list=sentence.split()\n",
    "    i=0\n",
    "    j=len(sen_list)-1\n",
    "    while(i<j):\n",
    "        sen_list[i],sen_list[j]=sen_list[j],sen_list[i]\n",
    "        i=i+1\n",
    "        j=j-1\n",
    "    return ' '.join(sen_list)\n",
    "        "
   ]
  },
  {
   "cell_type": "code",
   "execution_count": 55,
   "id": "40eaf197-6832-427e-b0b4-39b8520f8189",
   "metadata": {},
   "outputs": [
    {
     "data": {
      "text/plain": [
       "'PwSkills in Masters Science Data in enrolled have I'"
      ]
     },
     "execution_count": 55,
     "metadata": {},
     "output_type": "execute_result"
    }
   ],
   "source": [
    "reverse_words_in_sentence(\"I have enrolled in Data Science Masters in PwSkills\")"
   ]
  },
  {
   "cell_type": "markdown",
   "id": "17bf392a-98ab-42ad-8036-c8e5396c4c0a",
   "metadata": {},
   "source": [
    "21. Write a Python program to check if two strings are anagrams of each other."
   ]
  },
  {
   "cell_type": "code",
   "execution_count": 56,
   "id": "49209763-564a-47d6-960b-b1fc4f8e7905",
   "metadata": {},
   "outputs": [],
   "source": [
    "def Anagrams(string1,string2):\n",
    "    if sorted(string1)==sorted(string2):\n",
    "        return True\n",
    "    return False"
   ]
  },
  {
   "cell_type": "code",
   "execution_count": 57,
   "id": "cdd703e1-368d-4d67-a9ae-7411fa8a4b95",
   "metadata": {},
   "outputs": [
    {
     "data": {
      "text/plain": [
       "True"
      ]
     },
     "execution_count": 57,
     "metadata": {},
     "output_type": "execute_result"
    }
   ],
   "source": [
    "Anagrams('abcd','dcba')"
   ]
  },
  {
   "cell_type": "code",
   "execution_count": 58,
   "id": "83ca5b3e-ab99-4937-93e4-99e19ece0c26",
   "metadata": {},
   "outputs": [
    {
     "data": {
      "text/plain": [
       "False"
      ]
     },
     "execution_count": 58,
     "metadata": {},
     "output_type": "execute_result"
    }
   ],
   "source": [
    "Anagrams(\"data\",\"taan\")"
   ]
  },
  {
   "cell_type": "markdown",
   "id": "a45d87da-7c10-48d6-95c5-262e983e541e",
   "metadata": {},
   "source": [
    "22. Implement a function to find the first non-repeating character in a string."
   ]
  },
  {
   "cell_type": "code",
   "execution_count": 59,
   "id": "91cdabc6-4353-470a-a0ef-c9d512c43b3b",
   "metadata": {},
   "outputs": [],
   "source": [
    "def non_repeating_character(string):\n",
    "    list_string=[]\n",
    "    for char in string:\n",
    "        list_string.append(char)\n",
    "    for char in list_string:\n",
    "        if list_string.count(char)==1:\n",
    "            return char\n",
    "    return False"
   ]
  },
  {
   "cell_type": "code",
   "execution_count": 60,
   "id": "7d2355ad-b8b4-4de2-aa13-3a3e8412b429",
   "metadata": {},
   "outputs": [
    {
     "data": {
      "text/plain": [
       "'h'"
      ]
     },
     "execution_count": 60,
     "metadata": {},
     "output_type": "execute_result"
    }
   ],
   "source": [
    "non_repeating_character(\"character\")"
   ]
  },
  {
   "cell_type": "markdown",
   "id": "50e8004c-10bf-4169-8e2d-488493241982",
   "metadata": {},
   "source": [
    "23. Write a program to find the prime factors of a given number."
   ]
  },
  {
   "cell_type": "code",
   "execution_count": 61,
   "id": "96f02578-6039-4607-b954-2d97d3c6b2c8",
   "metadata": {},
   "outputs": [],
   "source": [
    "def prime_factors(n:int):\n",
    "    prime_list=[]\n",
    "    i=2\n",
    "    while(i<n):\n",
    "        if n%i==0:\n",
    "            prime_list.append(i)\n",
    "            n=n//i\n",
    "        else:\n",
    "            i+=1\n",
    "    if n==i:\n",
    "         prime_list.append(n)\n",
    "    return prime_list"
   ]
  },
  {
   "cell_type": "code",
   "execution_count": 62,
   "id": "889c7b17-ea2c-4c2a-bc30-a32999302781",
   "metadata": {},
   "outputs": [
    {
     "data": {
      "text/plain": [
       "[2, 2, 3, 3]"
      ]
     },
     "execution_count": 62,
     "metadata": {},
     "output_type": "execute_result"
    }
   ],
   "source": [
    "prime_factors(36)"
   ]
  },
  {
   "cell_type": "markdown",
   "id": "32c8844a-f45e-4f51-8f44-e16d6ae2fb7c",
   "metadata": {},
   "source": [
    "24. Implement a function to check if a given number is a power of two."
   ]
  },
  {
   "cell_type": "code",
   "execution_count": 63,
   "id": "6d5dd0c1-7c80-4b53-a2bc-df4af0666ad7",
   "metadata": {},
   "outputs": [],
   "source": [
    "def power_of_two(num):\n",
    "    if num <= 0:\n",
    "        return False\n",
    "    return (num & (num - 1)) == 0"
   ]
  },
  {
   "cell_type": "code",
   "execution_count": 64,
   "id": "9f42a65c-45cd-4569-931f-3c39d15bd92d",
   "metadata": {},
   "outputs": [
    {
     "data": {
      "text/plain": [
       "True"
      ]
     },
     "execution_count": 64,
     "metadata": {},
     "output_type": "execute_result"
    }
   ],
   "source": [
    "power_of_two(32)"
   ]
  },
  {
   "cell_type": "markdown",
   "id": "7db6f8eb-a05d-4cba-93b7-5620c3a1f748",
   "metadata": {},
   "source": [
    "25. Write a Python program to merge two sorted lists into a single sorted list."
   ]
  },
  {
   "cell_type": "code",
   "execution_count": 65,
   "id": "757e81c9-188e-410f-8f2b-3ff5e62fef0b",
   "metadata": {},
   "outputs": [],
   "source": [
    "def merge_sorted_list(list1:list,list2:list):\n",
    "    new_list=[]\n",
    "    i=0\n",
    "    j=0\n",
    "    k=0\n",
    "    m=len(list1)\n",
    "    n=len(list2)\n",
    "    while(i<m and j<n):\n",
    "        if list1[i]<=list2[j]:\n",
    "            new_list.append(list1[i])\n",
    "            i=i+1\n",
    "        else:\n",
    "            new_list.append(list2[j])\n",
    "            j=j+1\n",
    "        \n",
    "    while(i<m):\n",
    "        new_list.append(list1[i])\n",
    "        i=i+1\n",
    "    while(j<n):\n",
    "        new_list.append(list2[j])\n",
    "        j=j+1\n",
    "    return new_list\n",
    "        "
   ]
  },
  {
   "cell_type": "code",
   "execution_count": 66,
   "id": "107a7d00-0b05-4a3e-8eaa-04d5a707ae64",
   "metadata": {},
   "outputs": [
    {
     "data": {
      "text/plain": [
       "[1, 2, 3, 4, 6, 7, 8, 10]"
      ]
     },
     "execution_count": 66,
     "metadata": {},
     "output_type": "execute_result"
    }
   ],
   "source": [
    "merge_sorted_list([1,2,3,10],[4,6,7,8])"
   ]
  },
  {
   "cell_type": "markdown",
   "id": "a403191d-1eeb-471c-8e11-49646145ad7c",
   "metadata": {},
   "source": [
    "26. Implement a function to find the mode of a list of numbers."
   ]
  },
  {
   "cell_type": "code",
   "execution_count": 67,
   "id": "4f8b134f-7ed3-4c07-9f45-859e25e5c80a",
   "metadata": {},
   "outputs": [],
   "source": [
    "def mode_number(list_num:list):\n",
    "    d1={}\n",
    "    for num in list_num:\n",
    "        d1[num]=d1.get(num,0)+1\n",
    "    max_cnt=max(d1.values())\n",
    "    mode=[num for num,count in d1.items() if count==max_cnt]\n",
    "    return mode"
   ]
  },
  {
   "cell_type": "code",
   "execution_count": 68,
   "id": "e397713f-66b6-4829-879a-d757f3bf3bd6",
   "metadata": {},
   "outputs": [
    {
     "data": {
      "text/plain": [
       "[1]"
      ]
     },
     "execution_count": 68,
     "metadata": {},
     "output_type": "execute_result"
    }
   ],
   "source": [
    "mode_number([1,3,5,5,4,1,8,1])"
   ]
  },
  {
   "cell_type": "markdown",
   "id": "6359a3ea-4f04-4c81-bb66-e69c5695e3a2",
   "metadata": {},
   "source": [
    "27. Write a program to find the greatest common divisor (GCD) of two numbers."
   ]
  },
  {
   "cell_type": "code",
   "execution_count": 69,
   "id": "6694d478-b305-4498-8e7b-c38dd2d2e0f9",
   "metadata": {},
   "outputs": [],
   "source": [
    "def Greatest_common_divisor(num1,num2):\n",
    "    num1_list=[]\n",
    "    num2_list=[]\n",
    "    gcd=1\n",
    "    for i in range(1,num1):\n",
    "        if num1%i==0:\n",
    "            num1_list.append(i)\n",
    "    for j in range(1,num2):\n",
    "        if num2%j==0:\n",
    "            num2_list.append(j)\n",
    "    for num in num1_list:\n",
    "        if num in num2_list:\n",
    "            comm_div=num\n",
    "            if gcd<comm_div:\n",
    "                gcd=comm_div\n",
    "    return gcd"
   ]
  },
  {
   "cell_type": "code",
   "execution_count": 70,
   "id": "adff34ed-5b84-42d3-8c0e-94c7d9241fcb",
   "metadata": {},
   "outputs": [
    {
     "data": {
      "text/plain": [
       "9"
      ]
     },
     "execution_count": 70,
     "metadata": {},
     "output_type": "execute_result"
    }
   ],
   "source": [
    "Greatest_common_divisor(45,81)"
   ]
  },
  {
   "cell_type": "code",
   "execution_count": 71,
   "id": "83271b56-ad61-41ae-b879-f7cbe23ca261",
   "metadata": {},
   "outputs": [],
   "source": [
    "def gcd(a, b):\n",
    "    while b != 0:\n",
    "        a,b=b,a%b\n",
    "    return a"
   ]
  },
  {
   "cell_type": "code",
   "execution_count": 72,
   "id": "503c33fa-63fa-41ef-ada5-e69f34afb953",
   "metadata": {},
   "outputs": [
    {
     "data": {
      "text/plain": [
       "15"
      ]
     },
     "execution_count": 72,
     "metadata": {},
     "output_type": "execute_result"
    }
   ],
   "source": [
    "gcd(30,45)"
   ]
  },
  {
   "cell_type": "markdown",
   "id": "4661ea0d-5ef6-47ce-9eb5-b6f6eb036798",
   "metadata": {},
   "source": [
    "28. Implement a function to calculate the square root of a given number."
   ]
  },
  {
   "cell_type": "code",
   "execution_count": 73,
   "id": "d64d56b8-7a28-4f06-8eda-c05a20b00441",
   "metadata": {},
   "outputs": [],
   "source": [
    "def square_root(n):\n",
    "    return n**0.5"
   ]
  },
  {
   "cell_type": "code",
   "execution_count": 74,
   "id": "d5a9ecac-884d-436c-af56-90f12153798a",
   "metadata": {},
   "outputs": [
    {
     "data": {
      "text/plain": [
       "2.0"
      ]
     },
     "execution_count": 74,
     "metadata": {},
     "output_type": "execute_result"
    }
   ],
   "source": [
    "square_root(4)"
   ]
  },
  {
   "cell_type": "markdown",
   "id": "b79ea222-6e16-4cd0-88fe-76a17a1d7419",
   "metadata": {},
   "source": [
    "29. Write a Python program to check if a given string is a valid palindrome ignoring non-alphanumeric characters."
   ]
  },
  {
   "cell_type": "code",
   "execution_count": 75,
   "id": "3a483fe0-1121-44a1-938a-ba5cf41c4213",
   "metadata": {},
   "outputs": [],
   "source": [
    "def pallindrome(string:str):\n",
    "    ans=''\n",
    "    for s in string:\n",
    "        if s.isalpha() or s.isnumeric():\n",
    "            ans+=s\n",
    "    if ans==ans[::-1]:\n",
    "        return True\n",
    "    return False"
   ]
  },
  {
   "cell_type": "code",
   "execution_count": 76,
   "id": "771a24f6-3a9f-413c-aafd-c598b5269385",
   "metadata": {},
   "outputs": [
    {
     "data": {
      "text/plain": [
       "True"
      ]
     },
     "execution_count": 76,
     "metadata": {},
     "output_type": "execute_result"
    }
   ],
   "source": [
    "pallindrome('malyaylam')"
   ]
  },
  {
   "cell_type": "markdown",
   "id": "0f0dc876-c181-4c45-96c0-b9f53e32c55f",
   "metadata": {},
   "source": [
    "30. Implement a function to find the minimum element in a rotated sorted list."
   ]
  },
  {
   "cell_type": "code",
   "execution_count": 77,
   "id": "32dcca0e-0a6a-4fcb-b0e5-c9dc7fddc2fe",
   "metadata": {},
   "outputs": [],
   "source": [
    "def minimum_element(rotated_list:list):\n",
    "    i=0\n",
    "    j=len(rotated_list)-1\n",
    "    while(i<j):\n",
    "        mid=i+(j-i)//2\n",
    "        \n",
    "        if rotated_list[mid]>rotated_list[j]:\n",
    "            i=mid+1\n",
    "        else:\n",
    "            j=mid\n",
    "    return rotated_list[i]"
   ]
  },
  {
   "cell_type": "code",
   "execution_count": 78,
   "id": "9702052c-b0db-4d40-9b47-4a593baafb36",
   "metadata": {},
   "outputs": [
    {
     "data": {
      "text/plain": [
       "1"
      ]
     },
     "execution_count": 78,
     "metadata": {},
     "output_type": "execute_result"
    }
   ],
   "source": [
    "minimum_element([5,6,1,2,3])"
   ]
  },
  {
   "cell_type": "code",
   "execution_count": 79,
   "id": "bf8f5bb4-64f6-48e7-9351-a6d796d5c7ae",
   "metadata": {},
   "outputs": [
    {
     "data": {
      "text/plain": [
       "3"
      ]
     },
     "execution_count": 79,
     "metadata": {},
     "output_type": "execute_result"
    }
   ],
   "source": [
    "minimum_element([10,3,6,7,8,9])"
   ]
  },
  {
   "cell_type": "markdown",
   "id": "bf44dbbc-5661-4764-99e0-643b4921d84d",
   "metadata": {},
   "source": [
    "31. Write a program to find the sum of all even numbers in a list."
   ]
  },
  {
   "cell_type": "code",
   "execution_count": 80,
   "id": "a1058964-5361-448a-ad3c-64545f11a916",
   "metadata": {},
   "outputs": [],
   "source": [
    "def sum_of_even(nums:list):\n",
    "    even_sum=0\n",
    "    for num in nums:\n",
    "        if num%2==0:\n",
    "            even_sum+=num\n",
    "    return even_sum"
   ]
  },
  {
   "cell_type": "code",
   "execution_count": 81,
   "id": "dc6c6c0d-57eb-4996-ab30-abafc4b05617",
   "metadata": {},
   "outputs": [
    {
     "data": {
      "text/plain": [
       "20"
      ]
     },
     "execution_count": 81,
     "metadata": {},
     "output_type": "execute_result"
    }
   ],
   "source": [
    "sum_of_even([1,2,3,4,5,6,7,8])"
   ]
  },
  {
   "cell_type": "markdown",
   "id": "afef08e3-c9bb-4d81-87ae-2eb89dda2114",
   "metadata": {},
   "source": [
    "32. Implement a function to calculate the power of a number using recursion."
   ]
  },
  {
   "cell_type": "code",
   "execution_count": 82,
   "id": "b93cdcaf-3b85-486f-8871-44e804d5a666",
   "metadata": {},
   "outputs": [],
   "source": [
    "def power_recursive(n,m):\n",
    "    if m<0:\n",
    "        n=1/n\n",
    "        m=-m\n",
    "    if m==0:\n",
    "        return 1\n",
    "    elif m==1:\n",
    "        return n\n",
    "    else:\n",
    "        return n*power_recursive(n,m-1)"
   ]
  },
  {
   "cell_type": "code",
   "execution_count": 83,
   "id": "2eafb781-5e1f-4904-8521-a3b47151a421",
   "metadata": {},
   "outputs": [
    {
     "data": {
      "text/plain": [
       "8"
      ]
     },
     "execution_count": 83,
     "metadata": {},
     "output_type": "execute_result"
    }
   ],
   "source": [
    "power_recursive(2,3)"
   ]
  },
  {
   "cell_type": "code",
   "execution_count": 84,
   "id": "b05f0d5f-c604-4c8b-81f4-7e9aefa04138",
   "metadata": {},
   "outputs": [
    {
     "data": {
      "text/plain": [
       "0.5"
      ]
     },
     "execution_count": 84,
     "metadata": {},
     "output_type": "execute_result"
    }
   ],
   "source": [
    "power_recursive(2,-1)"
   ]
  },
  {
   "cell_type": "markdown",
   "id": "0e596099-1f8a-4ced-9065-d2f48e5d9bcf",
   "metadata": {},
   "source": [
    "33. Write a Python program to remove duplicates from a list while preserving the order."
   ]
  },
  {
   "cell_type": "code",
   "execution_count": 85,
   "id": "06f7f2da-bd44-49fd-9e70-0d7c562964ed",
   "metadata": {},
   "outputs": [
    {
     "data": {
      "text/plain": [
       "{1, 2, 3, 6, 8}"
      ]
     },
     "execution_count": 85,
     "metadata": {},
     "output_type": "execute_result"
    }
   ],
   "source": [
    "set([2,3,1,2,6,3,8])"
   ]
  },
  {
   "cell_type": "code",
   "execution_count": 86,
   "id": "37975586-7534-4a01-80be-5800264da7ba",
   "metadata": {},
   "outputs": [],
   "source": [
    "def remove_duplicates(list1:list):\n",
    "    d1={}\n",
    "    for element in list1:\n",
    "        d1[element]=d1.get(element,0)+1\n",
    "    new_list=list(d1.keys())\n",
    "    return new_list"
   ]
  },
  {
   "cell_type": "code",
   "execution_count": 87,
   "id": "7c3e8567-95a3-48f4-babe-12913f1c3225",
   "metadata": {},
   "outputs": [
    {
     "data": {
      "text/plain": [
       "[2, 3, 8, 1, 6]"
      ]
     },
     "execution_count": 87,
     "metadata": {},
     "output_type": "execute_result"
    }
   ],
   "source": [
    "remove_duplicates([2,3,8,1,2,6,3,8,1])"
   ]
  },
  {
   "cell_type": "markdown",
   "id": "cdb6cb2f-2159-4d09-b5e7-24b70e025d13",
   "metadata": {},
   "source": [
    "34. Implement a function to find the longest common prefix among a list of strings."
   ]
  },
  {
   "cell_type": "code",
   "execution_count": 88,
   "id": "a406c103-de19-4179-8e12-19132563ebb9",
   "metadata": {},
   "outputs": [],
   "source": [
    "def longest_common_prefix(strs):\n",
    "    if not strs:\n",
    "        return \"\"\n",
    "\n",
    "    prefix = strs[0]\n",
    "\n",
    "    for i in range(1, len(strs)):\n",
    "        while strs[i].find(prefix) != 0:\n",
    "            prefix = prefix[:-1]\n",
    "\n",
    "            if not prefix:\n",
    "                return \"\"\n",
    "\n",
    "    return prefix"
   ]
  },
  {
   "cell_type": "code",
   "execution_count": 89,
   "id": "7afd3bb6-8d5f-4dec-9df7-ee3412f51b28",
   "metadata": {},
   "outputs": [
    {
     "data": {
      "text/plain": [
       "'bla'"
      ]
     },
     "execution_count": 89,
     "metadata": {},
     "output_type": "execute_result"
    }
   ],
   "source": [
    "longest_common_prefix(['black','blade','blazer'])"
   ]
  },
  {
   "cell_type": "markdown",
   "id": "eefa3511-d047-4c82-8e9d-5357975887fa",
   "metadata": {},
   "source": [
    "35. Write a program to check if a given number is a perfect square."
   ]
  },
  {
   "cell_type": "code",
   "execution_count": 90,
   "id": "710e66ae-8135-4c12-bdec-1db626480cce",
   "metadata": {},
   "outputs": [],
   "source": [
    "def perfect_square(n:int):\n",
    "    i=0\n",
    "    j=n//2\n",
    "    while(i<=j):\n",
    "        mid=(i+j)//2\n",
    "        square=mid*mid\n",
    "        if square==n:\n",
    "            return True\n",
    "        elif square<n:\n",
    "            i=mid+1\n",
    "        else:\n",
    "            j=mid-1\n",
    "    return False"
   ]
  },
  {
   "cell_type": "code",
   "execution_count": 91,
   "id": "30f4a887-8904-45ca-88ca-d0a5316c27d7",
   "metadata": {},
   "outputs": [
    {
     "data": {
      "text/plain": [
       "True"
      ]
     },
     "execution_count": 91,
     "metadata": {},
     "output_type": "execute_result"
    }
   ],
   "source": [
    "perfect_square(9)"
   ]
  },
  {
   "cell_type": "markdown",
   "id": "3979679b-c2fd-40fd-8f19-9f0601b4eb57",
   "metadata": {},
   "source": [
    "36. Implement a function to calculate the product of all elements in a list"
   ]
  },
  {
   "cell_type": "code",
   "execution_count": 92,
   "id": "c06345e5-a686-442c-846d-5bdbf0d87394",
   "metadata": {},
   "outputs": [],
   "source": [
    "def product_num(nums:list):\n",
    "    prod=1\n",
    "    for num in nums:\n",
    "        prod*=num\n",
    "    return prod"
   ]
  },
  {
   "cell_type": "code",
   "execution_count": 93,
   "id": "17e65778-2fc8-4a7e-945d-92dc85f4ad9e",
   "metadata": {},
   "outputs": [
    {
     "data": {
      "text/plain": [
       "120"
      ]
     },
     "execution_count": 93,
     "metadata": {},
     "output_type": "execute_result"
    }
   ],
   "source": [
    "product_num([2,3,4,5])"
   ]
  },
  {
   "cell_type": "markdown",
   "id": "ea00eab5-e8d7-46c9-bc1a-61b890b871bd",
   "metadata": {},
   "source": [
    "37. Write a Python program to reverse the order of words in a sentence while preserving the word order."
   ]
  },
  {
   "cell_type": "code",
   "execution_count": 94,
   "id": "ce89f2bf-834e-45b2-9fca-b560d3ea2730",
   "metadata": {},
   "outputs": [],
   "source": [
    "def reverse_sentence(sentence):\n",
    "    # Split the sentence into words\n",
    "    words = sentence.split()\n",
    "\n",
    "    # Reverse the order of words using slicing\n",
    "    reversed_words = words[::-1]\n",
    "\n",
    "    # Join the reversed words into a new sentence\n",
    "    reversed_sentence = \" \".join(reversed_words)\n",
    "\n",
    "    return reversed_sentence"
   ]
  },
  {
   "cell_type": "code",
   "execution_count": 95,
   "id": "ea15535a-0276-4478-b98e-0bc1cf0fc86a",
   "metadata": {},
   "outputs": [
    {
     "data": {
      "text/plain": [
       "'sentence a in words of reverse the is This'"
      ]
     },
     "execution_count": 95,
     "metadata": {},
     "output_type": "execute_result"
    }
   ],
   "source": [
    "reverse_sentence(\"This is the reverse of words in a sentence\")"
   ]
  },
  {
   "cell_type": "markdown",
   "id": "2fd366a5-8935-4634-a51e-0a0dfd7c920e",
   "metadata": {},
   "source": [
    "38. Implement a function to find the missing number in a given list of consecutive numbers."
   ]
  },
  {
   "cell_type": "code",
   "execution_count": 96,
   "id": "376a37f0-a404-4d5d-abd0-43259ff52cc8",
   "metadata": {},
   "outputs": [],
   "source": [
    "def consecutive_num(nums:list):\n",
    "    for i in range(len(nums)-1):\n",
    "        d=abs(nums[i+1]-nums[i])\n",
    "        if d!=1:\n",
    "            return max(nums[i+1],nums[i])-1\n",
    "        \n",
    "    return True"
   ]
  },
  {
   "cell_type": "code",
   "execution_count": 97,
   "id": "32ba8203-b308-49c6-83f3-44a984005817",
   "metadata": {},
   "outputs": [
    {
     "data": {
      "text/plain": [
       "5"
      ]
     },
     "execution_count": 97,
     "metadata": {},
     "output_type": "execute_result"
    }
   ],
   "source": [
    "consecutive_num([1,2,3,4,6])"
   ]
  },
  {
   "cell_type": "code",
   "execution_count": 98,
   "id": "c390dcb0-56cb-4792-bf33-3a5705be7ca8",
   "metadata": {},
   "outputs": [
    {
     "data": {
      "text/plain": [
       "8"
      ]
     },
     "execution_count": 98,
     "metadata": {},
     "output_type": "execute_result"
    }
   ],
   "source": [
    "consecutive_num([10,9,7])"
   ]
  },
  {
   "cell_type": "markdown",
   "id": "c62e9f58-cdf5-457a-b365-aa0872c6589e",
   "metadata": {},
   "source": [
    "39. Write a program to find the sum of digits of a given number."
   ]
  },
  {
   "cell_type": "code",
   "execution_count": 99,
   "id": "54229cbd-eafe-49c2-ab40-c0b1c5daf714",
   "metadata": {},
   "outputs": [],
   "source": [
    "def sum_of_digits(n:int):\n",
    "    digit_sum=0\n",
    "    if n//10==0:\n",
    "        return n\n",
    "    while(n>0):\n",
    "        digit_sum+=n%10\n",
    "        n=n//10\n",
    "    return digit_sum"
   ]
  },
  {
   "cell_type": "code",
   "execution_count": 100,
   "id": "4ebbadf8-0acc-4aca-8acb-dd331688ce17",
   "metadata": {},
   "outputs": [
    {
     "data": {
      "text/plain": [
       "10"
      ]
     },
     "execution_count": 100,
     "metadata": {},
     "output_type": "execute_result"
    }
   ],
   "source": [
    "sum_of_digits(1234)"
   ]
  },
  {
   "cell_type": "markdown",
   "id": "652c8663-fd8a-45ad-a652-3900e6bcfff1",
   "metadata": {},
   "source": [
    "40. Implement a function to check if a given string is a valid palindrome considering case sensitivity."
   ]
  },
  {
   "cell_type": "code",
   "execution_count": 101,
   "id": "54d0e28b-525f-47a3-90a5-ace975294d6e",
   "metadata": {},
   "outputs": [],
   "source": [
    " def valid_pallindrome(string):\n",
    "    alphanumeric_string = ''.join(c.lower() for c in string if c.isalnum())\n",
    "    return alphanumeric_string==alphanumeric_string[::-1]"
   ]
  },
  {
   "cell_type": "code",
   "execution_count": 102,
   "id": "b0b0fe24-2b92-4d11-9334-b49c1aed71cf",
   "metadata": {},
   "outputs": [
    {
     "data": {
      "text/plain": [
       "True"
      ]
     },
     "execution_count": 102,
     "metadata": {},
     "output_type": "execute_result"
    }
   ],
   "source": [
    "valid_pallindrome(\"Radar\")"
   ]
  },
  {
   "cell_type": "markdown",
   "id": "53101a63-fc69-4d3b-a1d8-dcaf04ab902d",
   "metadata": {},
   "source": [
    "41. Write a Python program to find the smallest missing positive integer in a list."
   ]
  },
  {
   "cell_type": "code",
   "execution_count": 103,
   "id": "324cb58a-8ad9-4ac2-916e-254f0e6146f8",
   "metadata": {},
   "outputs": [],
   "source": [
    "def find_smallest_missing_positive(nums):\n",
    "    n = len(nums)\n",
    "    \n",
    "    # Move all non-positive integers to the left side of the list\n",
    "    j = 0\n",
    "    for i in range(n):\n",
    "        if nums[i] <= 0:\n",
    "            nums[i], nums[j] = nums[j], nums[i]\n",
    "            j += 1\n",
    "    \n",
    "    # Consider only positive integers from index j onwards\n",
    "    nums = nums[j:]\n",
    "    \n",
    "    # Mark the presence of a positive integer by making its corresponding index negative\n",
    "    for i in range(len(nums)):\n",
    "        if abs(nums[i]) - 1 < len(nums) and nums[abs(nums[i]) - 1] > 0:\n",
    "            nums[abs(nums[i]) - 1] = -nums[abs(nums[i]) - 1]\n",
    "    \n",
    "    # Find the first positive index (smallest missing positive integer)\n",
    "    for i in range(len(nums)):\n",
    "        if nums[i] > 0:\n",
    "            return i + 1\n",
    "    \n",
    "    # If all positive integers from 1 to len(nums) are present, return the next positive integer\n",
    "    return len(nums) + 1\n"
   ]
  },
  {
   "cell_type": "code",
   "execution_count": 104,
   "id": "839f0a0f-82d4-479a-9037-a4e42e573db4",
   "metadata": {},
   "outputs": [
    {
     "data": {
      "text/plain": [
       "5"
      ]
     },
     "execution_count": 104,
     "metadata": {},
     "output_type": "execute_result"
    }
   ],
   "source": [
    "find_smallest_missing_positive([3,4,7,-1,1,2,8])"
   ]
  },
  {
   "cell_type": "markdown",
   "id": "d4f0ad22-a69d-4df2-9043-71bbd432fcc3",
   "metadata": {},
   "source": [
    "42. Implement a function to find the longest palindrome substring in a given string."
   ]
  },
  {
   "cell_type": "code",
   "execution_count": 105,
   "id": "ed1a3262-5e1e-4d50-bf6a-88c535ad188e",
   "metadata": {},
   "outputs": [],
   "source": [
    "def longest_pallindrome_substring(string:str):\n",
    "    substring=''\n",
    "    i=0\n",
    "    j=len(string)\n",
    "    pallindrome_list=[]\n",
    "    length_string=0\n",
    "    long_pallindrome=''\n",
    "    while(i<=j):\n",
    "        n=0\n",
    "        m=len(string)\n",
    "        while(m>i):\n",
    "            if string[i:m]==string[i:m][::-1]:\n",
    "                pallindrome_list.append(string[i:m])\n",
    "            m=m-1\n",
    "        while(n<j):\n",
    "            if string[n:j]==string[n:j][::-1]:\n",
    "                pallindrome_list.append(string[n:j])\n",
    "            n=n+1\n",
    "        i=i+1\n",
    "        j=j-1\n",
    "    for s in pallindrome_list:\n",
    "        if len(s)>length_string:\n",
    "            length_string=len(s)\n",
    "            long_pallindrome=s\n",
    "    return long_pallindrome\n",
    "        "
   ]
  },
  {
   "cell_type": "code",
   "execution_count": 106,
   "id": "bd8678c3-54c8-48c1-a48f-968a75bc6313",
   "metadata": {},
   "outputs": [
    {
     "data": {
      "text/plain": [
       "'radar'"
      ]
     },
     "execution_count": 106,
     "metadata": {},
     "output_type": "execute_result"
    }
   ],
   "source": [
    "longest_pallindrome_substring(\"mradarkm\")"
   ]
  },
  {
   "cell_type": "markdown",
   "id": "2363b26c-7143-4c5c-9ada-45727d120ad4",
   "metadata": {},
   "source": [
    "43. Write a program to find the number of occurrences of a given element in a list."
   ]
  },
  {
   "cell_type": "code",
   "execution_count": 107,
   "id": "b2fdf1ec-bc53-49e7-b028-e4fba16e724a",
   "metadata": {},
   "outputs": [],
   "source": [
    "def number_of_occurence(list1:list,element):\n",
    "    d1={}\n",
    "    for val in list1:\n",
    "        d1[val]=d1.get(val,0)+1\n",
    "    \n",
    "    cnt=[cnt for key,cnt in d1.items() if key==element]\n",
    "    return cnt"
   ]
  },
  {
   "cell_type": "code",
   "execution_count": 108,
   "id": "bdc41008-2641-4e14-a473-00fe6316d3d1",
   "metadata": {},
   "outputs": [
    {
     "data": {
      "text/plain": [
       "[3]"
      ]
     },
     "execution_count": 108,
     "metadata": {},
     "output_type": "execute_result"
    }
   ],
   "source": [
    "number_of_occurence(['a','b','c','a','b','a'],'a')"
   ]
  },
  {
   "cell_type": "markdown",
   "id": "b29dbf05-0b74-4da5-95c7-06344baeb262",
   "metadata": {},
   "source": [
    "44. Implement a function to check if a given number is a perfect number."
   ]
  },
  {
   "cell_type": "code",
   "execution_count": 109,
   "id": "21d1d18f-c543-4cad-947e-606c6309ab66",
   "metadata": {},
   "outputs": [],
   "source": [
    "def perfect_number(num:int):\n",
    "\n",
    "    perfect_sum=0\n",
    "    for i in range(1,num):\n",
    "        if num%i==0:\n",
    "\n",
    "            perfect_sum+=i\n",
    "            \n",
    "    if perfect_sum==num:\n",
    "        return True\n",
    "    else:\n",
    "        return False"
   ]
  },
  {
   "cell_type": "code",
   "execution_count": 110,
   "id": "256f668c-2a49-44f4-86aa-d21ac8ef8215",
   "metadata": {},
   "outputs": [
    {
     "data": {
      "text/plain": [
       "True"
      ]
     },
     "execution_count": 110,
     "metadata": {},
     "output_type": "execute_result"
    }
   ],
   "source": [
    "perfect_number(6)"
   ]
  },
  {
   "cell_type": "markdown",
   "id": "3e8a69f9-0556-4100-95a2-eecaa076b782",
   "metadata": {},
   "source": [
    "45. Write a Python program to remove all duplicates from a string."
   ]
  },
  {
   "cell_type": "code",
   "execution_count": 111,
   "id": "dd43fc10-9c0d-4dbb-b2a4-82743d02ead2",
   "metadata": {},
   "outputs": [],
   "source": [
    "def remove_duplicates(string:str):\n",
    "    s1=set()\n",
    "    unique_string=''\n",
    "    for char in string:\n",
    "        if char not in s1:\n",
    "            unique_string+=char\n",
    "            s1.add(char)\n",
    "    return unique_string\n",
    "            "
   ]
  },
  {
   "cell_type": "code",
   "execution_count": 112,
   "id": "ebd10ec0-5f59-49da-9b0e-c138891ed52e",
   "metadata": {},
   "outputs": [
    {
     "data": {
      "text/plain": [
       "'pwskil'"
      ]
     },
     "execution_count": 112,
     "metadata": {},
     "output_type": "execute_result"
    }
   ],
   "source": [
    "remove_duplicates(\"pwskills\")"
   ]
  },
  {
   "cell_type": "markdown",
   "id": "3874bb26-7551-412b-8caf-282785fd89b3",
   "metadata": {},
   "source": [
    "46. Implement a function to find the first missing positive"
   ]
  },
  {
   "cell_type": "code",
   "execution_count": 113,
   "id": "94c74816-3e92-428c-a340-99c0f12a0f69",
   "metadata": {},
   "outputs": [],
   "source": [
    "def missing_postive(nums:list):\n",
    "    nums_positive=[]\n",
    "    for num in nums:\n",
    "        if num>0:\n",
    "            nums_positive.append(num)\n",
    "    for i in range(len(nums)):\n",
    "        if abs(nums[i]) - 1 < len(nums) and nums[abs(nums[i]) - 1] > 0:\n",
    "            nums[abs(nums[i]) - 1] = -nums[abs(nums[i]) - 1]\n",
    "    for i in range(len(nums)):\n",
    "        if nums[i] > 0:\n",
    "            return i + 1\n",
    "    return len(nums) + 1\n",
    "        \n",
    "        "
   ]
  },
  {
   "cell_type": "code",
   "execution_count": 114,
   "id": "7fe9b3d7-461e-405c-b5a0-0c64b928f34a",
   "metadata": {},
   "outputs": [
    {
     "data": {
      "text/plain": [
       "5"
      ]
     },
     "execution_count": 114,
     "metadata": {},
     "output_type": "execute_result"
    }
   ],
   "source": [
    "missing_postive([3,4,-1,1,2])"
   ]
  },
  {
   "cell_type": "code",
   "execution_count": null,
   "id": "f8dc4add-541a-455d-9dfc-fa49ea7d128c",
   "metadata": {},
   "outputs": [],
   "source": []
  }
 ],
 "metadata": {
  "kernelspec": {
   "display_name": "Python 3 (ipykernel)",
   "language": "python",
   "name": "python3"
  },
  "language_info": {
   "codemirror_mode": {
    "name": "ipython",
    "version": 3
   },
   "file_extension": ".py",
   "mimetype": "text/x-python",
   "name": "python",
   "nbconvert_exporter": "python",
   "pygments_lexer": "ipython3",
   "version": "3.10.8"
  }
 },
 "nbformat": 4,
 "nbformat_minor": 5
}
