{
 "cells": [
  {
   "cell_type": "markdown",
   "id": "e4442793-bedc-476e-ad99-b399739d9ede",
   "metadata": {},
   "source": [
    " **Question 1**\n",
    "\n",
    "Given two strings s1 and s2, return *the lowest **ASCII** sum of deleted characters to make two strings equal*.\n",
    "\n",
    "**Example 1:**\n",
    "\n",
    "**Input:** s1 = \"sea\", s2 = \"eat\"\n",
    "\n",
    "**Output:** 231\n",
    "\n",
    "**Explanation:** Deleting \"s\" from \"sea\" adds the ASCII value of \"s\" (115) to the sum.\n",
    "\n",
    "Deleting \"t\" from \"eat\" adds 116 to the sum.\n",
    "\n",
    "At the end, both strings are equal, and 115 + 116 = 231 is the minimum sum possible to achieve this."
   ]
  },
  {
   "cell_type": "code",
   "execution_count": 1,
   "id": "38e4f675-d4cc-4edb-acdc-6fd3d9b5d519",
   "metadata": {},
   "outputs": [],
   "source": [
    "def minimumDeleteSum(s1, s2):\n",
    "    m, n = len(s1), len(s2)\n",
    "    dp = [[0] * (n + 1) for _ in range(m + 1)]\n",
    "\n",
    "    for i in range(1, m + 1):\n",
    "        dp[i][0] = dp[i-1][0] + ord(s1[i-1])\n",
    "\n",
    "    for j in range(1, n + 1):\n",
    "        dp[0][j] = dp[0][j-1] + ord(s2[j-1])\n",
    "\n",
    "    for i in range(1, m + 1):\n",
    "        for j in range(1, n + 1):\n",
    "            if s1[i-1] == s2[j-1]:\n",
    "                dp[i][j] = dp[i-1][j-1]\n",
    "            else:\n",
    "                dp[i][j] = min(dp[i-1][j] + ord(s1[i-1]), dp[i][j-1] + ord(s2[j-1]))\n",
    "\n",
    "    return dp[m][n]"
   ]
  },
  {
   "cell_type": "code",
   "execution_count": 2,
   "id": "c8802064-1a42-40da-ac69-7139dae049d1",
   "metadata": {},
   "outputs": [
    {
     "data": {
      "text/plain": [
       "231"
      ]
     },
     "execution_count": 2,
     "metadata": {},
     "output_type": "execute_result"
    }
   ],
   "source": [
    "minimumDeleteSum('sea','eat')"
   ]
  },
  {
   "cell_type": "markdown",
   "id": "e1634db7-4dbb-4efb-b0cd-b184eacacc8d",
   "metadata": {},
   "source": [
    " **Question 2**\n",
    "\n",
    "Given a string s containing only three types of characters: '(', ')' and '*', return true *if* s *is **valid***.\n",
    "\n",
    "The following rules define a **valid** string:\n",
    "\n",
    "- Any left parenthesis '(' must have a corresponding right parenthesis ')'.\n",
    "- Any right parenthesis ')' must have a corresponding left parenthesis '('.\n",
    "- Left parenthesis '(' must go before the corresponding right parenthesis ')'.\n",
    "- '*' could be treated as a single right parenthesis ')' or a single left parenthesis '(' or an empty string \"\".\n",
    "\n",
    "**Example 1:**\n",
    "\n",
    "**Input:** s = \"()\"\n",
    "\n",
    "**Output:**\n",
    "\n",
    "true"
   ]
  },
  {
   "cell_type": "code",
   "execution_count": 3,
   "id": "84f41dd0-6388-4473-a389-806ff1de211e",
   "metadata": {},
   "outputs": [],
   "source": [
    "def valid_string(string:str)->bool:\n",
    "    list_string=[]\n",
    "    for char in string:\n",
    "        if char in ['(','*']:\n",
    "            list_string.append(char)\n",
    "        elif char==')'  and list_string[-1]=='('  :\n",
    "            list_string.pop()\n",
    "        # elif char=='*' :\n",
    "        #     list_string.append(char)\n",
    "        print(list_string)\n",
    "    if '(' in list_string or ')' in list_string:\n",
    "        return False\n",
    "    elif '*' in list_string:\n",
    "        return True\n",
    "    else:\n",
    "        return list_string==[]"
   ]
  },
  {
   "cell_type": "code",
   "execution_count": 4,
   "id": "5fb6187e-0d70-4c3c-b6bb-4f4604a450e1",
   "metadata": {},
   "outputs": [
    {
     "name": "stdout",
     "output_type": "stream",
     "text": [
      "['(']\n",
      "['(', '(']\n",
      "['(', '(', '*']\n",
      "['(', '(', '*']\n"
     ]
    },
    {
     "data": {
      "text/plain": [
       "False"
      ]
     },
     "execution_count": 4,
     "metadata": {},
     "output_type": "execute_result"
    }
   ],
   "source": [
    "valid_string(\"((*)\")"
   ]
  },
  {
   "cell_type": "code",
   "execution_count": 5,
   "id": "6ef7e593-fd8a-4ce9-aab7-0269fdc1a9a9",
   "metadata": {},
   "outputs": [],
   "source": [
    "def checkValidString(s):\n",
    "    left_parentheses = []\n",
    "    stars = []\n",
    "\n",
    "    for i, char in enumerate(s):\n",
    "        if char == '(':\n",
    "            left_parentheses.append(i)\n",
    "        elif char == '*':\n",
    "            stars.append(i)\n",
    "        else:  # char == ')'\n",
    "            if left_parentheses:\n",
    "                left_parentheses.pop()\n",
    "            elif stars:\n",
    "                stars.pop()\n",
    "            else:\n",
    "                return False\n",
    "\n",
    "    while left_parentheses and stars:\n",
    "        if left_parentheses[-1] > stars[-1]:\n",
    "            return False\n",
    "        left_parentheses.pop()\n",
    "        stars.pop()\n",
    "\n",
    "    return not left_parentheses"
   ]
  },
  {
   "cell_type": "code",
   "execution_count": 6,
   "id": "ae4975f8-5124-4248-8b98-321ac7091354",
   "metadata": {},
   "outputs": [
    {
     "data": {
      "text/plain": [
       "True"
      ]
     },
     "execution_count": 6,
     "metadata": {},
     "output_type": "execute_result"
    }
   ],
   "source": [
    "checkValidString(\"()\")"
   ]
  },
  {
   "cell_type": "code",
   "execution_count": 7,
   "id": "7a2c963c-8350-485b-a4ee-5fabc21052e7",
   "metadata": {},
   "outputs": [
    {
     "data": {
      "text/plain": [
       "True"
      ]
     },
     "execution_count": 7,
     "metadata": {},
     "output_type": "execute_result"
    }
   ],
   "source": [
    "checkValidString(\"(*))\")"
   ]
  },
  {
   "cell_type": "code",
   "execution_count": 8,
   "id": "22f7cf3b-c50a-4a3b-9e0e-3bcafe10a4eb",
   "metadata": {},
   "outputs": [
    {
     "data": {
      "text/plain": [
       "True"
      ]
     },
     "execution_count": 8,
     "metadata": {},
     "output_type": "execute_result"
    }
   ],
   "source": [
    "checkValidString(\"((*)*()*\")"
   ]
  },
  {
   "cell_type": "markdown",
   "id": "531b925b-c5dc-4aa3-92b8-2f5d29351f09",
   "metadata": {},
   "source": [
    " **Question 3**\n",
    "\n",
    "Given two strings word1 and word2, return *the minimum number of **steps** required to make* word1 *and* word2 *the same*.\n",
    "\n",
    "In one **step**, you can delete exactly one character in either string.\n",
    "\n",
    "**Example 1:**\n",
    "\n",
    "**Input:** word1 = \"sea\", word2 = \"eat\"\n",
    "\n",
    "**Output:** 2\n",
    "\n",
    "**Explanation:** You need one step to make \"sea\" to \"ea\" and another step to make \"eat\" to \"ea\"."
   ]
  },
  {
   "cell_type": "code",
   "execution_count": 9,
   "id": "2947f05c-13cc-4056-9e29-a23dc539009a",
   "metadata": {},
   "outputs": [],
   "source": [
    " def minDistance( word1, word2):\n",
    "        m,n=len(word1), len(word2)\n",
    "        dp=[[0]*(n+1) for _ in range(m+1)]\n",
    "        \n",
    "        for i, a in enumerate(word1,1):\n",
    "            for j, b in enumerate(word2,1):\n",
    "                if a==b:\n",
    "                    dp[i][j] = dp[i-1][j-1]+1\n",
    "                else:\n",
    "                    dp[i][j] = max(dp[i-1][j], dp[i][j-1])\n",
    "        \n",
    "        return m + n - 2*dp[-1][-1]"
   ]
  },
  {
   "cell_type": "code",
   "execution_count": 10,
   "id": "6a4a6aa5-fa97-4628-bf91-395afd45b2fc",
   "metadata": {},
   "outputs": [
    {
     "data": {
      "text/plain": [
       "2"
      ]
     },
     "execution_count": 10,
     "metadata": {},
     "output_type": "execute_result"
    }
   ],
   "source": [
    "minDistance(\"sea\",\"eat\")"
   ]
  },
  {
   "cell_type": "code",
   "execution_count": 11,
   "id": "7094f201-0a92-434a-9f08-7721306ad3b0",
   "metadata": {},
   "outputs": [
    {
     "data": {
      "text/plain": [
       "5"
      ]
     },
     "execution_count": 11,
     "metadata": {},
     "output_type": "execute_result"
    }
   ],
   "source": [
    "minDistance(\"kitten\",\"sitting\")"
   ]
  },
  {
   "cell_type": "markdown",
   "id": "5244d9d9-3d16-4c29-8722-c157349c1bf4",
   "metadata": {},
   "source": [
    " **Question 4**\n",
    "\n",
    "You need to construct a binary tree from a string consisting of parenthesis and integers.\n",
    "\n",
    "The whole input represents a binary tree. It contains an integer followed by zero, one or two pairs of parenthesis. The integer represents the root's value and a pair of parenthesis contains a child binary tree with the same structure.\n",
    "You always start to construct the **left** child node of the parent first if it exists.\n",
    "\n",
    "**Input:** s = \"4(2(3)(1))(6(5))\"\n",
    "\n",
    "**Output:** [4,2,6,3,1,5]\n"
   ]
  },
  {
   "cell_type": "code",
   "execution_count": 12,
   "id": "a916a3ee-7ccd-4941-a13e-3e4b8a222978",
   "metadata": {},
   "outputs": [],
   "source": [
    "class TreeNode:\n",
    "    def __init__(self, val=0, left=None, right=None):\n",
    "        self.val = val\n",
    "        self.left = left\n",
    "        self.right = right\n",
    "\n",
    "def str2tree(s):\n",
    "    if not s:\n",
    "        return None\n",
    "\n",
    "    # Find the index of the first parenthesis (root value)\n",
    "    i = s.find('(')\n",
    "    if i == -1:\n",
    "        # If no parenthesis is found, the entire string is the root value\n",
    "        return TreeNode(int(s))\n",
    "\n",
    "    # Create a new TreeNode with the root value\n",
    "    root = TreeNode(int(s[:i]))\n",
    "\n",
    "    # Find the index of the matching closing parenthesis\n",
    "    count = 0\n",
    "    for j in range(i, len(s)):\n",
    "        if s[j] == '(':\n",
    "            count += 1\n",
    "        elif s[j] == ')':\n",
    "            count -= 1\n",
    "        if count == 0:\n",
    "            break\n",
    "\n",
    "    # Recursively construct left and right subtrees\n",
    "    root.left = str2tree(s[i+1:j])\n",
    "    root.right = str2tree(s[j+2:-1])\n",
    "\n",
    "    return root\n",
    "\n",
    "def inorder_traversal(root):\n",
    "    if root is None:\n",
    "        return []\n",
    "    return inorder_traversal(root.left) + [root.val] + inorder_traversal(root.right)"
   ]
  },
  {
   "cell_type": "code",
   "execution_count": 13,
   "id": "6b9888ba-dae6-4b71-b04b-87d6c503b67b",
   "metadata": {},
   "outputs": [
    {
     "data": {
      "text/plain": [
       "[3, 2, 1, 4, 5, 6]"
      ]
     },
     "execution_count": 13,
     "metadata": {},
     "output_type": "execute_result"
    }
   ],
   "source": [
    "s = \"4(2(3)(1))(6(5))\"\n",
    "tree = str2tree(s)\n",
    "inorder_traversal(tree)"
   ]
  },
  {
   "cell_type": "markdown",
   "id": "9997f504-c5e0-4950-a9e2-18b46f4358b9",
   "metadata": {},
   "source": [
    " **Question 5**\n",
    "\n",
    "Given an array of characters chars, compress it using the following algorithm:\n",
    "\n",
    "Begin with an empty string s. For each group of **consecutive repeating characters** in chars:\n",
    "\n",
    "- If the group's length is 1, append the character to s.\n",
    "- Otherwise, append the character followed by the group's length.\n",
    "\n",
    "The compressed string s **should not be returned separately**, but instead, be stored **in the input character array chars**. Note that group lengths that are 10 or longer will be split into multiple characters in chars.\n",
    "\n",
    "After you are done **modifying the input array,** return *the new length of the array*.\n",
    "\n",
    "You must write an algorithm that uses only constant extra space.\n",
    "\n",
    "**Example 1:**\n",
    "\n",
    "**Input:** chars = [\"a\",\"a\",\"b\",\"b\",\"c\",\"c\",\"c\"]\n",
    "\n",
    "**Output:** Return 6, and the first 6 characters of the input array should be: [\"a\",\"2\",\"b\",\"2\",\"c\",\"3\"]\n",
    "\n",
    "**Explanation:**\n",
    "\n",
    "The groups are \"aa\", \"bb\", and \"ccc\". This compresses to \"a2b2c3\"."
   ]
  },
  {
   "cell_type": "code",
   "execution_count": 14,
   "id": "0d19b77d-029f-473b-9c2b-268557293c5e",
   "metadata": {},
   "outputs": [],
   "source": [
    "def compress(chars):\n",
    "    write = 0\n",
    "    count = 0\n",
    "    prev = None\n",
    "\n",
    "    for read in range(len(chars)):\n",
    "        if read == 0 or chars[read] != prev:\n",
    "            if count > 1:\n",
    "                for digit in str(count):\n",
    "                    chars[write] = digit\n",
    "                    write += 1\n",
    "            if read < len(chars):\n",
    "                chars[write] = chars[read]\n",
    "                write += 1\n",
    "            count = 1\n",
    "            prev = chars[read]\n",
    "        else:\n",
    "            count += 1\n",
    "\n",
    "    if count > 1:\n",
    "        for digit in str(count):\n",
    "            chars[write] = digit\n",
    "            write += 1\n",
    "\n",
    "    return write"
   ]
  },
  {
   "cell_type": "code",
   "execution_count": 15,
   "id": "cf68bc3b-fff4-4544-8889-1314b9f39b22",
   "metadata": {},
   "outputs": [
    {
     "name": "stdout",
     "output_type": "stream",
     "text": [
      "6\n",
      "['a', '2', 'b', '2', 'c', '3']\n"
     ]
    }
   ],
   "source": [
    "chars = [\"a\", \"a\", \"b\", \"b\", \"c\", \"c\", \"c\"]\n",
    "new_length = compress(chars)\n",
    "print(new_length)\n",
    "print(chars[:new_length])"
   ]
  },
  {
   "cell_type": "markdown",
   "id": "306b0704-b2a7-4ba1-8c66-3460a1329fa5",
   "metadata": {},
   "source": [
    " **Question 6**\n",
    "\n",
    "Given two strings s and p, return *an array of all the start indices of* p*'s anagrams in* s. You may return the answer in **any order**.\n",
    "\n",
    "An **Anagram** is a word or phrase formed by rearranging the letters of a different word or phrase, typically using all the original letters exactly once.\n",
    "\n",
    "**Example 1:**\n",
    "\n",
    "**Input:** s = \"cbaebabacd\", p = \"abc\"\n",
    "\n",
    "**Output:** [0,6]\n",
    "\n",
    "**Explanation:**\n",
    "\n",
    "The substring with start index = 0 is \"cba\", which is an anagram of \"abc\".\n",
    "\n",
    "The substring with start index = 6 is \"bac\", which is an anagram of \"abc\"."
   ]
  },
  {
   "cell_type": "code",
   "execution_count": 16,
   "id": "c4e48d4c-ed6f-46c6-9121-0bc1d3c6bd01",
   "metadata": {},
   "outputs": [],
   "source": [
    "from collections import defaultdict\n",
    "\n",
    "def findAnagrams(s, p):\n",
    "    result = []\n",
    "    freq_p = [0] * 26\n",
    "    freq_window = [0] * 26\n",
    "\n",
    "    for char in p:\n",
    "        freq_p[ord(char) - ord('a')] += 1\n",
    "\n",
    "    left = right = 0\n",
    "    while right < len(s):\n",
    "        freq_window[ord(s[right]) - ord('a')] += 1\n",
    "\n",
    "        if right - left + 1 > len(p):\n",
    "            freq_window[ord(s[left]) - ord('a')] -= 1\n",
    "            left += 1\n",
    "\n",
    "        if freq_window == freq_p:\n",
    "            result.append(left)\n",
    "\n",
    "        right += 1\n",
    "\n",
    "    return result"
   ]
  },
  {
   "cell_type": "code",
   "execution_count": 17,
   "id": "d1c9a714-d52a-40f5-9c83-3b895cdf4de0",
   "metadata": {},
   "outputs": [
    {
     "name": "stdout",
     "output_type": "stream",
     "text": [
      "[0, 6]\n"
     ]
    }
   ],
   "source": [
    "s = \"cbaebabacd\"\n",
    "p = \"abc\"\n",
    "output = findAnagrams(s, p)\n",
    "print(output)"
   ]
  },
  {
   "cell_type": "markdown",
   "id": "845eef9f-df62-44c5-b042-5787a5c47b2c",
   "metadata": {},
   "source": [
    "**Question 7**\n",
    "\n",
    "Given an encoded string, return its decoded string.\n",
    "\n",
    "The encoding rule is: k[encoded_string], where the encoded_string inside the square brackets is being repeated exactly k times. Note that k is guaranteed to be a positive integer.\n",
    "\n",
    "You may assume that the input string is always valid; there are no extra white spaces, square brackets are well-formed, etc. Furthermore, you may assume that the original data does not contain any digits and that digits are only for those repeat numbers, k. For example, there will not be input like 3a or 2[4].\n",
    "\n",
    "The test cases are generated so that the length of the output will never exceed 105.\n",
    "\n",
    "**Example 1:**\n",
    "\n",
    "**Input:** s = \"3[a]2[bc]\"\n",
    "\n",
    "**Output:** \"aaabcbc\""
   ]
  },
  {
   "cell_type": "code",
   "execution_count": 18,
   "id": "5782c170-505d-4a31-8564-22390d1177a1",
   "metadata": {},
   "outputs": [],
   "source": [
    "def decodeString(s):\n",
    "    stack = []\n",
    "\n",
    "    for char in s:\n",
    "        if char != ']':\n",
    "            stack.append(char)\n",
    "        else:\n",
    "            # Decode a section\n",
    "            decoded_section = ''\n",
    "            while stack[-1] != '[':\n",
    "                decoded_section = stack.pop() + decoded_section\n",
    "\n",
    "            stack.pop()  # Pop the '[' character\n",
    "\n",
    "            repetition_count = ''\n",
    "            while stack and stack[-1].isdigit():\n",
    "                repetition_count = stack.pop() + repetition_count\n",
    "\n",
    "            repetition_count = int(repetition_count)\n",
    "\n",
    "            decoded_section *= repetition_count\n",
    "            stack.append(decoded_section)\n",
    "\n",
    "    result = ''\n",
    "    while stack:\n",
    "        result = stack.pop() + result\n",
    "\n",
    "    return result"
   ]
  },
  {
   "cell_type": "code",
   "execution_count": 19,
   "id": "bb2725d5-f383-4907-bc80-0f4e8f2792dc",
   "metadata": {},
   "outputs": [
    {
     "data": {
      "text/plain": [
       "'aaabcbc'"
      ]
     },
     "execution_count": 19,
     "metadata": {},
     "output_type": "execute_result"
    }
   ],
   "source": [
    "decodeString( \"3[a]2[bc]\")"
   ]
  },
  {
   "cell_type": "markdown",
   "id": "c54c95a4-2c54-4b4e-b977-cc9a7595c0af",
   "metadata": {},
   "source": [
    " **Question 8**\n",
    "\n",
    "Given two strings s and goal, return true *if you can swap two letters in* s *so the result is equal to* goal*, otherwise, return* false*.*\n",
    "\n",
    "Swapping letters is defined as taking two indices i and j (0-indexed) such that i != j and swapping the characters at s[i] and s[j].\n",
    "\n",
    "- For example, swapping at indices 0 and 2 in \"abcd\" results in \"cbad\".\n",
    "\n",
    "**Example 1:**\n",
    "\n",
    "**Input:** s = \"ab\", goal = \"ba\"\n",
    "\n",
    "**Output:** true\n",
    "\n",
    "**Explanation:** You can swap s[0] = 'a' and s[1] = 'b' to get \"ba\", which is equal to goal."
   ]
  },
  {
   "cell_type": "code",
   "execution_count": 20,
   "id": "fa4d7b2a-2aae-4fda-9084-c829f7369be0",
   "metadata": {},
   "outputs": [],
   "source": [
    "def buddyStrings(s, goal):\n",
    "    if len(s) != len(goal):\n",
    "        return False\n",
    "\n",
    "    diff_s = []\n",
    "    diff_goal = []\n",
    "\n",
    "    for i in range(len(s)):\n",
    "        if s[i] != goal[i]:\n",
    "            diff_s.append(s[i])\n",
    "            diff_goal.append(goal[i])\n",
    "\n",
    "    if len(diff_s) != 2:\n",
    "        return False\n",
    "\n",
    "    return diff_s[0] == diff_goal[1] and diff_s[1] == diff_goal[0]"
   ]
  },
  {
   "cell_type": "code",
   "execution_count": 21,
   "id": "f54ea847-ed48-4449-a5d5-dbf8e6fa8950",
   "metadata": {},
   "outputs": [
    {
     "data": {
      "text/plain": [
       "True"
      ]
     },
     "execution_count": 21,
     "metadata": {},
     "output_type": "execute_result"
    }
   ],
   "source": [
    "buddyStrings('ab','ba')"
   ]
  },
  {
   "cell_type": "code",
   "execution_count": 22,
   "id": "2e906f1d-6fc2-4454-9531-59ad1e0fa8c9",
   "metadata": {},
   "outputs": [
    {
     "data": {
      "text/plain": [
       "True"
      ]
     },
     "execution_count": 22,
     "metadata": {},
     "output_type": "execute_result"
    }
   ],
   "source": [
    "buddyStrings(s='abcd',goal='cbad')"
   ]
  },
  {
   "cell_type": "code",
   "execution_count": null,
   "id": "66d0103f-185b-4348-bf18-b2fa5c9c66d4",
   "metadata": {},
   "outputs": [],
   "source": []
  }
 ],
 "metadata": {
  "kernelspec": {
   "display_name": "Python 3 (ipykernel)",
   "language": "python",
   "name": "python3"
  },
  "language_info": {
   "codemirror_mode": {
    "name": "ipython",
    "version": 3
   },
   "file_extension": ".py",
   "mimetype": "text/x-python",
   "name": "python",
   "nbconvert_exporter": "python",
   "pygments_lexer": "ipython3",
   "version": "3.10.8"
  }
 },
 "nbformat": 4,
 "nbformat_minor": 5
}
