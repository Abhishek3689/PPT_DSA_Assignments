{
 "cells": [
  {
   "cell_type": "markdown",
   "id": "15c7b6a0-1b75-4799-ab6d-ada1ae9128f6",
   "metadata": {},
   "source": [
    "\n",
    "**Question 1**\n",
    "\n",
    "Convert 1D Array Into 2D Array\n",
    "\n",
    "You are given a **0-indexed** 1-dimensional (1D) integer array original, and two integers, m and n. You are tasked with creating a 2-dimensional (2D) array with  m rows and n columns using **all** the elements from original.\n",
    "\n",
    "The elements from indices 0 to n - 1 (**inclusive**) of original should form the first row of the constructed 2D array, the elements from indices n to 2 * n - 1 (**inclusive**) should form the second row of the constructed 2D array, and so on.\n",
    "\n",
    "Return *an* m x n *2D array constructed according to the above procedure, or an empty 2D array if it is impossible*."
   ]
  },
  {
   "cell_type": "code",
   "execution_count": 1,
   "id": "7d893e11-0a9e-4d9b-a3c7-1632c658911c",
   "metadata": {},
   "outputs": [],
   "source": [
    "def Two_D_array(One_D_arr,m,n):\n",
    "    new_2D_arr=[[0 for a in range(n)] for b in range(m)]\n",
    "    empty_arr=[]\n",
    "    if len(One_D_arr)!=m*n:\n",
    "        return empty_arr\n",
    "    for i in range(m):\n",
    "        for j in range(n):\n",
    "            new_2D_arr[i][j]=One_D_arr[j+i*n]\n",
    "    return new_2D_arr"
   ]
  },
  {
   "cell_type": "code",
   "execution_count": 2,
   "id": "d40d9346-0530-4a0e-bf27-915010db9e93",
   "metadata": {},
   "outputs": [
    {
     "data": {
      "text/plain": [
       "[[1, 2, 3], [4, 5, 6]]"
      ]
     },
     "execution_count": 2,
     "metadata": {},
     "output_type": "execute_result"
    }
   ],
   "source": [
    "Two_D_array([1,2,3,4,5,6],2,3)"
   ]
  },
  {
   "cell_type": "code",
   "execution_count": 3,
   "id": "33dadbd6-65a0-470d-af64-8601bf2bdd86",
   "metadata": {},
   "outputs": [
    {
     "data": {
      "text/plain": [
       "[]"
      ]
     },
     "execution_count": 3,
     "metadata": {},
     "output_type": "execute_result"
    }
   ],
   "source": [
    "Two_D_array([2,4,6,8],2,1)"
   ]
  },
  {
   "cell_type": "markdown",
   "id": "1cbb0bbe-de4f-46fc-8e09-f54a8702f5a5",
   "metadata": {},
   "source": [
    "**Question 2**\n",
    "\n",
    "You have n coins and you want to build a staircase with these coins. The staircase consists of k rows where the ith row has exactly i coins. The last row of the staircase **may be** incomplete.\n",
    "\n",
    "Given the integer n, return *the number of **complete rows** of the staircase you will build*."
   ]
  },
  {
   "cell_type": "code",
   "execution_count": 4,
   "id": "f3332881-929f-4b68-9a88-aed17d3fddda",
   "metadata": {},
   "outputs": [],
   "source": [
    "def coin_staircase(n):\n",
    "    x=1\n",
    "    result=0\n",
    "    while(result<=n-x):\n",
    "        result+=x\n",
    "        x+=1\n",
    "    return x-1"
   ]
  },
  {
   "cell_type": "code",
   "execution_count": 5,
   "id": "bb19e545-258d-4a50-8176-5c114872af39",
   "metadata": {},
   "outputs": [
    {
     "data": {
      "text/plain": [
       "1"
      ]
     },
     "execution_count": 5,
     "metadata": {},
     "output_type": "execute_result"
    }
   ],
   "source": [
    "coin_staircase(1)"
   ]
  },
  {
   "cell_type": "code",
   "execution_count": 6,
   "id": "c56b5eca-d818-4f38-835d-990b085eeb91",
   "metadata": {},
   "outputs": [
    {
     "data": {
      "text/plain": [
       "4"
      ]
     },
     "execution_count": 6,
     "metadata": {},
     "output_type": "execute_result"
    }
   ],
   "source": [
    "coin_staircase(11)"
   ]
  },
  {
   "cell_type": "markdown",
   "id": "87806451-7817-4b8d-b1ed-7e35e0ad8db8",
   "metadata": {},
   "source": [
    "**Question 3**\n",
    "\n",
    "Given an integer array nums sorted in **non-decreasing** order, return *an array of **the squares of each number** sorted in non-decreasing order*.\n",
    "\n",
    "**Example 1:**\n",
    "\n",
    "**Input:** nums = [-4,-1,0,3,10]\n",
    "\n",
    "**Output:** [0,1,9,16,100]\n",
    "\n",
    "**Explanation:** After squaring, the array becomes [16,1,0,9,100].\n",
    "\n",
    "After sorting, it becomes [0,1,9,16,100]."
   ]
  },
  {
   "cell_type": "code",
   "execution_count": 7,
   "id": "331e2c1c-51e3-4770-af46-de2c6703dbf7",
   "metadata": {},
   "outputs": [],
   "source": [
    "def square_of_array(nums):\n",
    "    new_arr=[x*x for x in nums]\n",
    "    new_arr.sort()\n",
    "    return new_arr"
   ]
  },
  {
   "cell_type": "code",
   "execution_count": 8,
   "id": "1c2b2c20-0bea-4217-bfad-0db6d93d2806",
   "metadata": {},
   "outputs": [
    {
     "data": {
      "text/plain": [
       "[0, 1, 9, 16, 100]"
      ]
     },
     "execution_count": 8,
     "metadata": {},
     "output_type": "execute_result"
    }
   ],
   "source": [
    "square_of_array( [-4,-1,0,3,10])"
   ]
  },
  {
   "cell_type": "markdown",
   "id": "bf9a7d16-67e5-445b-8889-2782f28cfedf",
   "metadata": {},
   "source": [
    " **Question 4**\n",
    "\n",
    "Given two **0-indexed** integer arrays nums1 and nums2, return *a list* answer *of size* 2 *where:*\n",
    "\n",
    "- answer[0] *is a list of all **distinct** integers in* nums1 *which are **not** present in* nums2*.*\n",
    "- answer[1] *is a list of all **distinct** integers in* nums2 *which are **not** present in* nums1.\n",
    "\n",
    "**Note** that the integers in the lists may be returned in **any** order.\n",
    "\n",
    "**Example 1:**\n",
    "\n",
    "**Input:** nums1 = [1,2,3], nums2 = [2,4,6]\n",
    "\n",
    "**Output:** [[1,3],[4,6]]\n",
    "\n",
    "**Explanation:**\n",
    "\n",
    "For nums1, nums1[1] = 2 is present at index 0 of nums2, whereas nums1[0] = 1 and nums1[2] = 3 are not present in nums2. Therefore, answer[0] = [1,3].\n",
    "\n",
    "For nums2, nums2[0] = 2 is present at index 1 of nums1, whereas nums2[1] = 4 and nums2[2] = 6 are not present in nums2. Therefore, answer[1] = [4,6]."
   ]
  },
  {
   "cell_type": "code",
   "execution_count": 9,
   "id": "8ece6e36-37c3-41eb-a04e-c65afa5a8cc8",
   "metadata": {},
   "outputs": [],
   "source": [
    "def distinct_pair_array(nums1,nums2):\n",
    "    i=0\n",
    "    j=0\n",
    "    pair_array=[]\n",
    "    while(i<len(nums1) or j<len(nums2)):\n",
    "        if nums1[i] in nums2:\n",
    "            i+=1\n",
    "        if nums2[j] in nums1:\n",
    "            j+=1\n",
    "        if nums1[i] not in nums2 and nums2[j] not in nums1:\n",
    "            pair_array.append([nums1[i],nums2[j]])\n",
    "            i+=1\n",
    "            j+=1\n",
    "    return pair_array"
   ]
  },
  {
   "cell_type": "code",
   "execution_count": 10,
   "id": "33b353da-9f13-49c9-b349-aefe6502817f",
   "metadata": {},
   "outputs": [
    {
     "data": {
      "text/plain": [
       "[[1, 4], [3, 6]]"
      ]
     },
     "execution_count": 10,
     "metadata": {},
     "output_type": "execute_result"
    }
   ],
   "source": [
    "distinct_pair_array([1,2,3],[2,4,6])"
   ]
  },
  {
   "cell_type": "markdown",
   "id": "ee3f4d2c-8253-493a-ab23-e7bd5ae154b5",
   "metadata": {},
   "source": [
    "**Question 5**\n",
    "\n",
    "Given two integer arrays arr1 and arr2, and the integer d, *return the distance value between the two arrays*.\n",
    "\n",
    "The distance value is defined as the number of elements arr1[i] such that there is not any element arr2[j] where |arr1[i]-arr2[j]| <= d.\n",
    "\n",
    "**Example 1:**\n",
    "\n",
    "**Input:** arr1 = [4,5,8], arr2 = [10,9,1,8], d = 2\n",
    "\n",
    "**Output:** 2"
   ]
  },
  {
   "cell_type": "code",
   "execution_count": 11,
   "id": "b8bbf405-1d0b-4fdd-afe0-fd57e5a3da4d",
   "metadata": {},
   "outputs": [],
   "source": [
    "def distanceValue(arr1, arr2, d):\n",
    "    count = 0\n",
    "    \n",
    "    for num in arr1:\n",
    "        for num2 in arr2:\n",
    "            if abs(num - num2) <= d:\n",
    "                break\n",
    "        else:\n",
    "            count += 1\n",
    "    \n",
    "    return count"
   ]
  },
  {
   "cell_type": "code",
   "execution_count": 12,
   "id": "e972f36a-a9c5-4b86-a18a-7581a4e3fc41",
   "metadata": {},
   "outputs": [
    {
     "data": {
      "text/plain": [
       "2"
      ]
     },
     "execution_count": 12,
     "metadata": {},
     "output_type": "execute_result"
    }
   ],
   "source": [
    "distanceValue(arr1 = [4,5,8], arr2 = [10,9,1,8], d = 2)"
   ]
  },
  {
   "cell_type": "markdown",
   "id": "6af30e0f-dfb1-4a61-ad2d-7eaf2276e503",
   "metadata": {},
   "source": [
    "\n",
    "**Question 6**\n",
    "\n",
    "Given an integer array nums of length n where all the integers of nums are in the range [1, n] and each integer appears **once** or **twice**, return *an array of all the integers that appears **twice***.\n",
    "\n",
    "You must write an algorithm that runs in O(n) time and uses only constant extra space.\n",
    "\n",
    "**Example 1:**\n",
    "\n",
    "**Input:** nums = [4,3,2,7,8,2,3,1]\n",
    "\n",
    "**Output:**\n",
    "\n",
    "[2,3]"
   ]
  },
  {
   "cell_type": "code",
   "execution_count": 13,
   "id": "b7bdc94a-4601-4d3a-90ca-f1e5abb7a379",
   "metadata": {},
   "outputs": [],
   "source": [
    "def duplicate_int_array(arr):\n",
    "    new_arr=[]\n",
    "    for i in arr:\n",
    "        if arr.count(i)==2 and i not in new_arr:\n",
    "            new_arr.append(i)\n",
    "    return new_arr"
   ]
  },
  {
   "cell_type": "code",
   "execution_count": 14,
   "id": "04958508-e9e1-4b70-8432-a717990b2638",
   "metadata": {},
   "outputs": [
    {
     "data": {
      "text/plain": [
       "[3, 2]"
      ]
     },
     "execution_count": 14,
     "metadata": {},
     "output_type": "execute_result"
    }
   ],
   "source": [
    "duplicate_int_array([4,3,2,7,8,2,3,1])"
   ]
  },
  {
   "cell_type": "markdown",
   "id": "4ecabafd-1ae0-4814-9693-59d2d3520d63",
   "metadata": {},
   "source": [
    "**Question 7**\n",
    "\n",
    "Suppose an array of length n sorted in ascending order is **rotated** between 1 and n times. For example, the array nums = [0,1,2,4,5,6,7] might become:\n",
    "\n",
    "- [4,5,6,7,0,1,2] if it was rotated 4 times.\n",
    "- [0,1,2,4,5,6,7] if it was rotated 7 times.\n",
    "\n",
    "Notice that **rotating** an array [a[0], a[1], a[2], ..., a[n-1]] 1 time results in the array [a[n-1], a[0], a[1], a[2], ..., a[n-2]].\n",
    "\n",
    "Given the sorted rotated array nums of **unique** elements, return *the minimum element of this array*.\n",
    "\n",
    "You must write an algorithm that runs in O(log n) time.\n",
    "\n",
    "**Example 1:**\n",
    "\n",
    "**Input:** nums = [3,4,5,1,2]\n",
    "\n",
    "**Output:** 1"
   ]
  },
  {
   "cell_type": "code",
   "execution_count": 15,
   "id": "1644e81a-d471-4905-9a57-90308088b63d",
   "metadata": {},
   "outputs": [],
   "source": [
    "def find_min(nums):\n",
    "    left = 0\n",
    "    right = len(nums) - 1\n",
    "\n",
    "    while nums[left] > nums[right]:\n",
    "        mid = (left + right) // 2\n",
    "\n",
    "        if nums[mid] > nums[right]:\n",
    "            left = mid + 1\n",
    "        else:\n",
    "            right = mid\n",
    "\n",
    "    return nums[left]"
   ]
  },
  {
   "cell_type": "code",
   "execution_count": 16,
   "id": "134519b8-44b5-40f1-a3ea-7ad108f8c411",
   "metadata": {},
   "outputs": [
    {
     "data": {
      "text/plain": [
       "1"
      ]
     },
     "execution_count": 16,
     "metadata": {},
     "output_type": "execute_result"
    }
   ],
   "source": [
    "find_min([3,4,5,1,2])"
   ]
  },
  {
   "cell_type": "code",
   "execution_count": 17,
   "id": "53ef9e76-1924-46a0-9adc-a13ffe6923eb",
   "metadata": {},
   "outputs": [
    {
     "data": {
      "text/plain": [
       "0"
      ]
     },
     "execution_count": 17,
     "metadata": {},
     "output_type": "execute_result"
    }
   ],
   "source": [
    "find_min([4,5,6,7,0,1,2])"
   ]
  },
  {
   "cell_type": "markdown",
   "id": "68e7deb6-b5aa-4ef3-b209-a4d543c8ee19",
   "metadata": {},
   "source": [
    " **Question 8**\n",
    "\n",
    "An integer array original is transformed into a **doubled** array changed by appending **twice the value** of every element in original, and then randomly **shuffling** the resulting array.\n",
    "\n",
    "Given an array changed, return original *if* changed *is a **doubled** array. If* changed *is not a **doubled** array, return an empty array. The elements in* original *may be returned in **any** order*.\n",
    "\n",
    "**Example 1:**\n",
    "\n",
    "**Input:** changed = [1,3,4,2,6,8]\n",
    "\n",
    "**Output:** [1,3,4]"
   ]
  },
  {
   "cell_type": "code",
   "execution_count": 18,
   "id": "fde91613-7e71-4dfa-b7da-8483d96d3695",
   "metadata": {},
   "outputs": [],
   "source": [
    "def doubling_array(arr):\n",
    "    n=len(arr)\n",
    "    new_array=[]\n",
    "    for element in arr:\n",
    "        double=2*element\n",
    "        if double in arr and len(new_array)<n/2:\n",
    "            new_array.append(element)\n",
    "    return new_array"
   ]
  },
  {
   "cell_type": "code",
   "execution_count": 19,
   "id": "df123a8c-f151-4da8-8bec-5c0bb529fc1e",
   "metadata": {},
   "outputs": [
    {
     "data": {
      "text/plain": [
       "[1, 3, 4]"
      ]
     },
     "execution_count": 19,
     "metadata": {},
     "output_type": "execute_result"
    }
   ],
   "source": [
    "doubling_array([1,3,4,2,6,8])"
   ]
  },
  {
   "cell_type": "code",
   "execution_count": null,
   "id": "87c15344-b8a9-491d-81da-2bf730d33300",
   "metadata": {},
   "outputs": [],
   "source": []
  }
 ],
 "metadata": {
  "kernelspec": {
   "display_name": "Python 3 (ipykernel)",
   "language": "python",
   "name": "python3"
  },
  "language_info": {
   "codemirror_mode": {
    "name": "ipython",
    "version": 3
   },
   "file_extension": ".py",
   "mimetype": "text/x-python",
   "name": "python",
   "nbconvert_exporter": "python",
   "pygments_lexer": "ipython3",
   "version": "3.10.8"
  }
 },
 "nbformat": 4,
 "nbformat_minor": 5
}
