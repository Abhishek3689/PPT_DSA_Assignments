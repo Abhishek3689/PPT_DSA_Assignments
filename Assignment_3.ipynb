{
 "cells": [
  {
   "cell_type": "markdown",
   "id": "dabbd9ed-c61d-469f-bd50-ac95863a49b9",
   "metadata": {},
   "source": [
    "Question 1\n",
    "Given an integer array nums of length n and an integer target, find three integers\n",
    "in nums such that the sum is closest to the target.\n",
    "Return the sum of the three integers.\n",
    "\n",
    "You may assume that each input would have exactly one solution.\n",
    "\n",
    "Example 1:\n",
    "- Input: nums = [-1,2,1,-4], target = 1\n",
    "- Output: 2\n",
    "\n",
    "Explanation: The sum that is closest to the target is 2. (-1 + 2 + 1 = 2)."
   ]
  },
  {
   "cell_type": "code",
   "execution_count": 1,
   "id": "ae54ba45-7ac7-4060-8f92-9613540ccada",
   "metadata": {},
   "outputs": [],
   "source": [
    "def closest_sum_int(arr,target):\n",
    "        arr.sort()\n",
    "        min_sum=float('inf')\n",
    "        n=len(arr)\n",
    "        for i in range(n-2):\n",
    "            low=i+1\n",
    "            high=n-1\n",
    "            while(low<high):\n",
    "                sum_of_three=arr[i]+arr[low]+arr[high]\n",
    "                if target==sum_of_three:\n",
    "                    return sum_of_three\n",
    "                if abs(sum_of_three-target)<abs(min_sum-target):\n",
    "                    min_sum=sum_of_three\n",
    "                if sum_of_three>target:\n",
    "                    high-=1\n",
    "                else:\n",
    "                    low+=1\n",
    "        return min_sum"
   ]
  },
  {
   "cell_type": "code",
   "execution_count": 2,
   "id": "eac1fcac-fbaf-427c-92e3-191bfef4c9ae",
   "metadata": {},
   "outputs": [
    {
     "data": {
      "text/plain": [
       "2"
      ]
     },
     "execution_count": 2,
     "metadata": {},
     "output_type": "execute_result"
    }
   ],
   "source": [
    "closest_sum_int([-1,2,1,-4],1)"
   ]
  },
  {
   "cell_type": "code",
   "execution_count": 3,
   "id": "e199b1de-aabd-4a95-a3f0-4a0bb8ab8d3a",
   "metadata": {},
   "outputs": [
    {
     "data": {
      "text/plain": [
       "-2"
      ]
     },
     "execution_count": 3,
     "metadata": {},
     "output_type": "execute_result"
    }
   ],
   "source": [
    "closest_sum_int([4,0,5,-5,3,3,0,-4,-5],-2)"
   ]
  },
  {
   "cell_type": "markdown",
   "id": "313310d4-3477-4bd8-b457-45a7901628ca",
   "metadata": {},
   "source": [
    "Question 2\n",
    "Given an array nums of n integers, return an array of all the unique quadruplets\n",
    "[nums[a], nums[b], nums[c], nums[d]] such that:\n",
    "           ● 0 <= a, b, c, d < n\n",
    "           ● a, b, c, and d are distinct.\n",
    "           ● nums[a] + nums[b] + nums[c] + nums[d] == target\n",
    "\n",
    "You may return the answer in any order.\n",
    "\n",
    "Example 1:\n",
    "- Input: nums = [1,0,-1,0,-2,2], target = 0\n",
    "- Output: [[-2,-1,1,2],[-2,0,0,2],[-1,0,0,1]]"
   ]
  },
  {
   "cell_type": "code",
   "execution_count": 4,
   "id": "5cec7069-da3e-4c04-973f-b2104eabc7f0",
   "metadata": {},
   "outputs": [],
   "source": [
    "def unique_quadruplets(nums, target):\n",
    "    nums.sort()\n",
    "    n = len(nums)\n",
    "    quadruplets = []\n",
    "\n",
    "    for i in range(n - 3):\n",
    "        if i > 0 and nums[i] == nums[i- 1]:\n",
    "            continue\n",
    "\n",
    "        for j in range(i + 1, n - 2):\n",
    "            if j > i + 1 and nums[j] == nums[j - 1]:\n",
    "                continue\n",
    "\n",
    "            left = j + 1\n",
    "            right = n - 1\n",
    "\n",
    "            while left < right:\n",
    "                currentSum = nums[i] + nums[j] + nums[left] + nums[right]\n",
    "\n",
    "                if currentSum == target:\n",
    "                    quadruplets.append([nums[i], nums[j], nums[left], nums[right]])\n",
    "\n",
    "                    while left < right and nums[left] == nums[left + 1]:\n",
    "                        left += 1\n",
    "                    while left < right and nums[right] == nums[right - 1]:\n",
    "                        right -= 1\n",
    "\n",
    "                    left += 1\n",
    "                    right -= 1\n",
    "                elif currentSum < target:\n",
    "                    left += 1\n",
    "                else:\n",
    "                    right -= 1\n",
    "\n",
    "    return quadruplets"
   ]
  },
  {
   "cell_type": "code",
   "execution_count": 5,
   "id": "b7c9dcf5-2eb5-4f3c-84e9-fc78bca6f5e2",
   "metadata": {},
   "outputs": [
    {
     "data": {
      "text/plain": [
       "[[-2, -1, 1, 2], [-2, 0, 0, 2], [-1, 0, 0, 1]]"
      ]
     },
     "execution_count": 5,
     "metadata": {},
     "output_type": "execute_result"
    }
   ],
   "source": [
    "unique_quadruplets([1,0,-1,0,-2,2],0)"
   ]
  },
  {
   "cell_type": "code",
   "execution_count": 6,
   "id": "f40121d7-7d4c-49cb-8bfc-abde09c6c4f2",
   "metadata": {},
   "outputs": [
    {
     "data": {
      "text/plain": [
       "[[-3, -1, 0, 4]]"
      ]
     },
     "execution_count": 6,
     "metadata": {},
     "output_type": "execute_result"
    }
   ],
   "source": [
    "unique_quadruplets([-3,-1,0,2,4,5],0)"
   ]
  },
  {
   "cell_type": "markdown",
   "id": "199578f4-b3bb-4b6c-b1d7-6b4a103f51dd",
   "metadata": {},
   "source": [
    "\n",
    "**Question 3**\n",
    "A permutation of an array of integers is an arrangement of its members into a\n",
    "sequence or linear order.\n",
    "\n",
    "For example, for arr = [1,2,3], the following are all the permutations of arr:\n",
    "[1,2,3], [1,3,2], [2, 1, 3], [2, 3, 1], [3,1,2], [3,2,1].\n",
    "\n",
    "The next permutation of an array of integers is the next lexicographically greater\n",
    "permutation of its integer. More formally, if all the permutations of the array are\n",
    "sorted in one container according to their lexicographical order, then the next\n",
    "permutation of that array is the permutation that follows it in the sorted container.\n",
    "\n",
    "If such an arrangement is not possible, the array must be rearranged as the\n",
    "lowest possible order (i.e., sorted in ascending order).\n",
    "\n"
   ]
  },
  {
   "cell_type": "code",
   "execution_count": 7,
   "id": "1320598d-dd7f-41ed-a098-891211b500e1",
   "metadata": {},
   "outputs": [],
   "source": [
    "def next_lexicographical_array(nums):\n",
    "    n = len(nums)\n",
    "    i = n - 2\n",
    "\n",
    "    while i >= 0 and nums[i] >= nums[i + 1]:\n",
    "        i -= 1\n",
    "\n",
    "    if i >= 0:\n",
    "        j = n - 1\n",
    "        while j >= 0 and nums[j] <= nums[i]:\n",
    "            j -= 1\n",
    "        nums[i], nums[j] = nums[j], nums[i]\n",
    "\n",
    "    left = i + 1\n",
    "    right = n - 1\n",
    "    while left < right:\n",
    "        nums[left], nums[right] = nums[right], nums[left]\n",
    "        left += 1\n",
    "        right -= 1\n",
    "\n",
    "    return nums\n",
    "  "
   ]
  },
  {
   "cell_type": "code",
   "execution_count": 8,
   "id": "2cf948b8-ec1a-4321-8ae7-65fe144d6875",
   "metadata": {},
   "outputs": [
    {
     "data": {
      "text/plain": [
       "[1, 3, 2]"
      ]
     },
     "execution_count": 8,
     "metadata": {},
     "output_type": "execute_result"
    }
   ],
   "source": [
    "next_lexicographical_array([1,2,3])"
   ]
  },
  {
   "cell_type": "code",
   "execution_count": 9,
   "id": "a45dede0-8182-4f33-888d-896f057855b9",
   "metadata": {},
   "outputs": [
    {
     "data": {
      "text/plain": [
       "[1, 5, 2, 3, 6, 11, 9, 11]"
      ]
     },
     "execution_count": 9,
     "metadata": {},
     "output_type": "execute_result"
    }
   ],
   "source": [
    "next_lexicographical_array([1,5, 2, 3,6,9,11,11])"
   ]
  },
  {
   "cell_type": "code",
   "execution_count": 10,
   "id": "f6d27926-2cb5-4b2b-9a8e-b385a524ec92",
   "metadata": {},
   "outputs": [
    {
     "data": {
      "text/plain": [
       "[1, 2, 3]"
      ]
     },
     "execution_count": 10,
     "metadata": {},
     "output_type": "execute_result"
    }
   ],
   "source": [
    "next_lexicographical_array([3,2,1])"
   ]
  },
  {
   "cell_type": "markdown",
   "id": "72a240fa-ca8e-450a-8a19-27b73e870982",
   "metadata": {},
   "source": [
    "Question 4\n",
    "Given a sorted array of distinct integers and a target value, return the index if the\n",
    "target is found. If not, return the index where it would be if it were inserted in\n",
    "order.\n",
    "\n",
    "You must write an algorithm with O(log n) runtime complexity."
   ]
  },
  {
   "cell_type": "code",
   "execution_count": 11,
   "id": "7e1d2123-34e9-4670-a776-1b0929cef57f",
   "metadata": {},
   "outputs": [],
   "source": [
    "def find_target_index(arr,target):\n",
    "    n=len(arr)\n",
    "    start=0\n",
    "    end=len(arr)-1\n",
    "    while(start<=end):\n",
    "        mid=(start+end)//2\n",
    "        if arr[mid]==target:\n",
    "            return mid\n",
    "        elif arr[mid]<target:\n",
    "            start=mid+1\n",
    "        else:\n",
    "            end=mid-1\n",
    "    return start"
   ]
  },
  {
   "cell_type": "code",
   "execution_count": 12,
   "id": "0598ccde-7378-4c9f-b418-9969222213b4",
   "metadata": {},
   "outputs": [
    {
     "data": {
      "text/plain": [
       "2"
      ]
     },
     "execution_count": 12,
     "metadata": {},
     "output_type": "execute_result"
    }
   ],
   "source": [
    "find_target_index([1,4,5,7,11],5)"
   ]
  },
  {
   "cell_type": "code",
   "execution_count": 13,
   "id": "bd422248-87dc-4b26-971c-dbbc2d4a8752",
   "metadata": {},
   "outputs": [
    {
     "data": {
      "text/plain": [
       "1"
      ]
     },
     "execution_count": 13,
     "metadata": {},
     "output_type": "execute_result"
    }
   ],
   "source": [
    "find_target_index([1,4,5,7,11],2)"
   ]
  },
  {
   "cell_type": "markdown",
   "id": "2157fdeb-b933-43bf-8dd5-6fab70524728",
   "metadata": {},
   "source": [
    "Question 5\n",
    "You are given a large integer represented as an integer array digits, where each\n",
    "digits[i] is the ith digit of the integer. The digits are ordered from most significant\n",
    "to least significant in left-to-right order. The large integer does not contain any\n",
    "leading 0's.\n",
    "\n",
    "Increment the large integer by one and return the resulting array of digits.\n",
    "\n",
    "Example 1:\n",
    "- Input: digits = [1,2,3]\n",
    "- Output: [1,2,4]"
   ]
  },
  {
   "cell_type": "code",
   "execution_count": 14,
   "id": "7b9717f9-9d0e-4852-ba44-87f5e9a88752",
   "metadata": {},
   "outputs": [],
   "source": [
    "def incement_large_integer(arr):\n",
    "    n=len(arr)\n",
    "    carry=1\n",
    "\n",
    "    for i in range(n-1,-1,-1):\n",
    "        sum_num=arr[i]+carry\n",
    "        if sum_num==10:\n",
    "            carry=1\n",
    "            arr[i]=0\n",
    "        else:\n",
    "            arr[i]=sum_num\n",
    "            carry=0\n",
    "        if i==0 and carry==1:\n",
    "            arr.insert(0,carry)\n",
    "    return arr"
   ]
  },
  {
   "cell_type": "code",
   "execution_count": 15,
   "id": "aeec77ea-cd20-4690-a464-e9d997e9931d",
   "metadata": {},
   "outputs": [
    {
     "data": {
      "text/plain": [
       "[1, 2, 4]"
      ]
     },
     "execution_count": 15,
     "metadata": {},
     "output_type": "execute_result"
    }
   ],
   "source": [
    "incement_large_integer([1,2,3])"
   ]
  },
  {
   "cell_type": "code",
   "execution_count": 16,
   "id": "d51c624e-d88d-47a7-8a16-c4d667669468",
   "metadata": {},
   "outputs": [
    {
     "data": {
      "text/plain": [
       "[1, 0, 0, 0]"
      ]
     },
     "execution_count": 16,
     "metadata": {},
     "output_type": "execute_result"
    }
   ],
   "source": [
    "incement_large_integer([9,9,9])"
   ]
  },
  {
   "cell_type": "markdown",
   "id": "ea4e5c7c-3337-43af-9377-2a29508e2171",
   "metadata": {},
   "source": [
    "Question 6\n",
    "Given a non-empty array of integers nums, every element appears twice except\n",
    "for one. Find that single one.\n",
    "\n",
    "You must implement a solution with a linear runtime complexity and use only\n",
    "constant extra space.\n",
    "\n",
    "Example 1:\n",
    "- Input: nums = [2,2,1]\n",
    "- Output: 1"
   ]
  },
  {
   "cell_type": "code",
   "execution_count": 17,
   "id": "ea5b6bf2-0765-47ca-8dc4-ec483aea21d8",
   "metadata": {},
   "outputs": [],
   "source": [
    "def single_element(arr):\n",
    "    d1={}\n",
    "    for num in arr:\n",
    "        d1[num]=d1.get(num,0)+1\n",
    "    single_num=list(d1.keys())[list(d1.values()).index(min(d1.values()))]\n",
    "    return single_num"
   ]
  },
  {
   "cell_type": "code",
   "execution_count": 18,
   "id": "5759d819-7a86-4d5f-992f-db9d8314e7f3",
   "metadata": {},
   "outputs": [
    {
     "data": {
      "text/plain": [
       "1"
      ]
     },
     "execution_count": 18,
     "metadata": {},
     "output_type": "execute_result"
    }
   ],
   "source": [
    "single_element([2,2,1])"
   ]
  },
  {
   "cell_type": "code",
   "execution_count": 19,
   "id": "8134bfe0-a4a9-479b-9477-b41bc643b87e",
   "metadata": {},
   "outputs": [
    {
     "data": {
      "text/plain": [
       "6"
      ]
     },
     "execution_count": 19,
     "metadata": {},
     "output_type": "execute_result"
    }
   ],
   "source": [
    "single_element([3,3,4,5,6,5,4])"
   ]
  },
  {
   "cell_type": "markdown",
   "id": "9866b198-cc47-46cd-8f53-489749fbb8c4",
   "metadata": {},
   "source": [
    "Question 7\n",
    "You are given an inclusive range [lower, upper] and a sorted unique integer array\n",
    "nums, where all elements are within the inclusive range.\n",
    "\n",
    "A number x is considered missing if x is in the range [lower, upper] and x is not in\n",
    "nums.\n",
    "\n",
    "Return the shortest sorted list of ranges that exactly covers all the missing\n",
    "numbers. That is, no element of nums is included in any of the ranges, and each\n",
    "missing number is covered by one of the ranges.\n",
    "\n",
    "Example 1:\n",
    "- Input: nums = [0,1,3,50,75], lower = 0, upper = 99\n",
    "- Output: [[2,2],[4,49],[51,74],[76,99]]"
   ]
  },
  {
   "cell_type": "code",
   "execution_count": 20,
   "id": "2a103e06-4a47-4178-b90c-fc5b21e5aada",
   "metadata": {},
   "outputs": [],
   "source": [
    "def shortest_range_list(nums,lower,upper):\n",
    "    n=len(nums)\n",
    "    new_arr=[]\n",
    "    for i in range(1,n):\n",
    "        d=nums[i]-nums[i-1]\n",
    "        if d>1:\n",
    "            new_arr.append([nums[i-1]+1,nums[i]-1])\n",
    "    if upper-nums[i]>=1:\n",
    "        new_arr.append([nums[i]+1,upper])\n",
    "    return new_arr"
   ]
  },
  {
   "cell_type": "code",
   "execution_count": 21,
   "id": "4f7460b8-fdff-410a-951e-41b63cd738ae",
   "metadata": {},
   "outputs": [
    {
     "data": {
      "text/plain": [
       "[[2, 2], [4, 49], [51, 74], [76, 99]]"
      ]
     },
     "execution_count": 21,
     "metadata": {},
     "output_type": "execute_result"
    }
   ],
   "source": [
    "shortest_range_list([0,1,3,50,75],0,99)"
   ]
  },
  {
   "cell_type": "code",
   "execution_count": 22,
   "id": "cd00e457-40a8-4131-ba79-126f7f6b9dd8",
   "metadata": {},
   "outputs": [
    {
     "data": {
      "text/plain": [
       "[[2, 3], [5, 6], [8, 66], [68, 97], [99, 99]]"
      ]
     },
     "execution_count": 22,
     "metadata": {},
     "output_type": "execute_result"
    }
   ],
   "source": [
    "shortest_range_list([0,1,4,7,67,98],0,99)"
   ]
  },
  {
   "cell_type": "markdown",
   "id": "87c47573-d524-476e-9e10-96b29eb6d3e5",
   "metadata": {},
   "source": [
    "Question 8\n",
    "Given an array of meeting time intervals where intervals[i] = [starti, endi],\n",
    "determine if a person could attend all meetings.\n",
    "\n",
    "Example 1:\n",
    "- Input: intervals = [[0,30],[5,10],[15,20]]\n",
    "- Output: false"
   ]
  },
  {
   "cell_type": "code",
   "execution_count": 23,
   "id": "dd506f4c-8c25-4819-9f60-b848b7a4e42f",
   "metadata": {},
   "outputs": [],
   "source": [
    "def meeting_intervals(interval_arr):\n",
    "    interval_arr.sort()\n",
    "    for i in range(len(interval_arr)-1):\n",
    "        if interval_arr[i][1]>interval_arr[i+1][0]:\n",
    "            return False\n",
    "    return True"
   ]
  },
  {
   "cell_type": "code",
   "execution_count": 24,
   "id": "e7482067-12f0-4b4c-b017-2b65d4d35f3e",
   "metadata": {},
   "outputs": [
    {
     "data": {
      "text/plain": [
       "False"
      ]
     },
     "execution_count": 24,
     "metadata": {},
     "output_type": "execute_result"
    }
   ],
   "source": [
    "meeting_intervals([[0,30],[5,10],[15,20]])"
   ]
  },
  {
   "cell_type": "code",
   "execution_count": 25,
   "id": "b8766ca5-5aa4-4ce7-8e01-7f87560775a2",
   "metadata": {},
   "outputs": [
    {
     "data": {
      "text/plain": [
       "True"
      ]
     },
     "execution_count": 25,
     "metadata": {},
     "output_type": "execute_result"
    }
   ],
   "source": [
    "meeting_intervals([[10,15],[5,10],[15,20]])"
   ]
  },
  {
   "cell_type": "code",
   "execution_count": null,
   "id": "e08337c1-c4fc-4e9f-b31c-f7b0ddfaa7e1",
   "metadata": {},
   "outputs": [],
   "source": []
  }
 ],
 "metadata": {
  "kernelspec": {
   "display_name": "Python 3 (ipykernel)",
   "language": "python",
   "name": "python3"
  },
  "language_info": {
   "codemirror_mode": {
    "name": "ipython",
    "version": 3
   },
   "file_extension": ".py",
   "mimetype": "text/x-python",
   "name": "python",
   "nbconvert_exporter": "python",
   "pygments_lexer": "ipython3",
   "version": "3.10.8"
  }
 },
 "nbformat": 4,
 "nbformat_minor": 5
}
