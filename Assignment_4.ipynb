{
 "cells": [
  {
   "cell_type": "markdown",
   "id": "8ada75a6-837a-4a61-a285-fa63a184b69e",
   "metadata": {},
   "source": [
    "\n",
    "**Question 1**\n",
    "Given three integer arrays arr1, arr2 and arr3 **sorted** in **strictly increasing** order, return a sorted array of **only** the integers that appeared in **all** three arrays.\n",
    "\n",
    "**Example 1:**\n",
    "\n",
    "Input: arr1 = [1,2,3,4,5], arr2 = [1,2,5,7,9], arr3 = [1,3,4,5,8]\n",
    "\n",
    "Output: [1,5]\n",
    "\n",
    "**Explanation:** Only 1 and 5 appeared in the three arrays.\n",
    "\n"
   ]
  },
  {
   "cell_type": "code",
   "execution_count": 1,
   "id": "a28d3c4e-e909-48d6-b86a-907ab85094bf",
   "metadata": {},
   "outputs": [],
   "source": [
    "def common_subarray(arr1,arr2,arr3):\n",
    "    sub_array=[]\n",
    "    for i in range(len(arr1)):\n",
    "        for j in range(len(arr2)):\n",
    "            for k in range(len(arr3)):\n",
    "                if arr1[i]==arr2[j] and arr2[j]==arr3[k]:\n",
    "                    sub_array.append(arr1[i])\n",
    "    return sub_array"
   ]
  },
  {
   "cell_type": "code",
   "execution_count": 2,
   "id": "a14ce498-c3f8-4b6c-84fd-3a9843787c90",
   "metadata": {},
   "outputs": [
    {
     "data": {
      "text/plain": [
       "[1, 5, 9]"
      ]
     },
     "execution_count": 2,
     "metadata": {},
     "output_type": "execute_result"
    }
   ],
   "source": [
    "common_subarray(arr1 = [1,2,3,4,5,9], arr2 = [1,2,5,7,9], arr3 = [1,3,4,5,8,9])"
   ]
  },
  {
   "cell_type": "markdown",
   "id": "3fbf75d9-026c-4705-a34e-6e4ef5dd78b0",
   "metadata": {},
   "source": [
    "\n",
    " **Question 2**\n",
    "\n",
    "Given two **0-indexed** integer arrays nums1 and nums2, return *a list* answer *of size* 2 *where:*\n",
    "\n",
    "- answer[0] *is a list of all **distinct** integers in* nums1 *which are **not** present in* nums2*.*\n",
    "- answer[1] *is a list of all **distinct** integers in* nums2 *which are **not** present in* nums1.\n",
    "\n",
    "**Note** that the integers in the lists may be returned in **any** order.\n",
    "\n",
    "**Example 1:**\n",
    "\n",
    "**Input:** nums1 = [1,2,3], nums2 = [2,4,6]\n",
    "\n",
    "**Output:** [[1,3],[4,6]]\n",
    "\n"
   ]
  },
  {
   "cell_type": "code",
   "execution_count": 3,
   "id": "bf164620-57fc-4f85-9762-eb01ba39fac1",
   "metadata": {},
   "outputs": [],
   "source": [
    "def distinct_array(nums1,nums2):\n",
    "    distinct_arr=[]\n",
    "    n=len(nums1)\n",
    "    m=len(nums2)\n",
    "    i=0\n",
    "    j=0\n",
    "    while(i<n and j<m):\n",
    "        if nums1[i]  in nums2:\n",
    "            i=i+1\n",
    "        if nums2[j] in nums1:\n",
    "            j=j+1\n",
    "        if nums1[i]  not in nums2 and nums2[j] not in nums1:\n",
    "            distinct_arr.append([nums1[i],nums2[j]])\n",
    "            i=i+1\n",
    "            j=j+1\n",
    "            \n",
    "    return distinct_arr"
   ]
  },
  {
   "cell_type": "code",
   "execution_count": 4,
   "id": "427472ed-9ffe-4846-82b2-ced97434135e",
   "metadata": {},
   "outputs": [
    {
     "data": {
      "text/plain": [
       "[[1, 4], [7, 6], [9, 8]]"
      ]
     },
     "execution_count": 4,
     "metadata": {},
     "output_type": "execute_result"
    }
   ],
   "source": [
    "distinct_array([1,2,3,7,9],[2,4,6,8,3])"
   ]
  },
  {
   "cell_type": "markdown",
   "id": "2b79426e-9545-45d6-a01c-2d069c205062",
   "metadata": {},
   "source": [
    " **Question 3**\n",
    "Given a 2D integer array matrix, return *the **transpose** of* matrix.\n",
    "\n",
    "The **transpose** of a matrix is the matrix flipped over its main diagonal, switching the matrix's row and column indices.\n",
    "\n",
    "**Example 1:**\n",
    "\n",
    "Input: matrix = [[1,2,3],[4,5,6],[7,8,9]]\n",
    "\n",
    "Output: [[1,4,7],[2,5,8],[3,6,9]]\n"
   ]
  },
  {
   "cell_type": "code",
   "execution_count": 5,
   "id": "8053b563-ca58-4092-9387-6d3f63fc4101",
   "metadata": {},
   "outputs": [],
   "source": [
    "def transpose_matrix(matrix):\n",
    "    row_num=len(matrix)\n",
    "    col_num=len(matrix[0])\n",
    "    Trans_matrix=[[0 for  a in range(row_num)] for b in range(col_num)]\n",
    "    for i in range(row_num):\n",
    "        for j in range(col_num):\n",
    "            Trans_matrix[j][i]=matrix[i][j]\n",
    "    return Trans_matrix"
   ]
  },
  {
   "cell_type": "code",
   "execution_count": 6,
   "id": "265faf69-b7fe-42b8-ae89-2a4ece6e839c",
   "metadata": {},
   "outputs": [],
   "source": [
    "matrix=[[1,2,3],[5,6,7],[9,10,11]]"
   ]
  },
  {
   "cell_type": "code",
   "execution_count": 7,
   "id": "205e7895-9cf4-4184-b5a8-c55322631579",
   "metadata": {},
   "outputs": [
    {
     "data": {
      "text/plain": [
       "[[1, 5, 9], [2, 6, 10], [3, 7, 11]]"
      ]
     },
     "execution_count": 7,
     "metadata": {},
     "output_type": "execute_result"
    }
   ],
   "source": [
    "transpose_matrix(matrix)"
   ]
  },
  {
   "cell_type": "code",
   "execution_count": 8,
   "id": "ba265945-86f3-4d15-bd5d-38385baf7aa7",
   "metadata": {},
   "outputs": [],
   "source": [
    "matrix2=[[1,2,3,11],[4,5,6,12],[7,8,9,13]]"
   ]
  },
  {
   "cell_type": "code",
   "execution_count": 9,
   "id": "55e76d81-9c55-4320-a14f-8071d28fbd57",
   "metadata": {},
   "outputs": [
    {
     "data": {
      "text/plain": [
       "[[1, 4, 7], [2, 5, 8], [3, 6, 9], [11, 12, 13]]"
      ]
     },
     "execution_count": 9,
     "metadata": {},
     "output_type": "execute_result"
    }
   ],
   "source": [
    "transpose_matrix(matrix2)"
   ]
  },
  {
   "cell_type": "markdown",
   "id": "978ab21e-369d-4677-b2e0-3dc90350f201",
   "metadata": {},
   "source": [
    "\n",
    " **Question 4**\n",
    "Given an integer array nums of 2n integers, group these integers into n pairs (a1, b1), (a2, b2), ..., (an, bn) such that the sum of min(ai, bi) for all i is **maximized**. Return *the maximized sum*.\n",
    "\n",
    "**Example 1:**\n",
    "\n",
    "Input: nums = [1,4,3,2]\n",
    "\n",
    "Output: 4"
   ]
  },
  {
   "cell_type": "code",
   "execution_count": 10,
   "id": "7bbd2e93-6548-4b8d-8556-c3ec0863a366",
   "metadata": {},
   "outputs": [],
   "source": [
    "def maximized_sum_pairs(nums):\n",
    "    nums.sort()\n",
    "    i=0\n",
    "    n=len(nums)\n",
    "    sum_pairs=0\n",
    "    while(i<n-1):\n",
    "        sum_pairs+=min(nums[i],nums[i+1])\n",
    "        i=i+2\n",
    "    return sum_pairs\n",
    "        "
   ]
  },
  {
   "cell_type": "code",
   "execution_count": 11,
   "id": "075a11b2-48ae-4386-8072-3434f1ca8b8d",
   "metadata": {},
   "outputs": [
    {
     "data": {
      "text/plain": [
       "4"
      ]
     },
     "execution_count": 11,
     "metadata": {},
     "output_type": "execute_result"
    }
   ],
   "source": [
    "maximized_sum_pairs([1,4,3,2])"
   ]
  },
  {
   "cell_type": "code",
   "execution_count": 12,
   "id": "6b2a6eda-4554-49a1-aa94-aa9a4cb7f2ee",
   "metadata": {},
   "outputs": [
    {
     "data": {
      "text/plain": [
       "19"
      ]
     },
     "execution_count": 12,
     "metadata": {},
     "output_type": "execute_result"
    }
   ],
   "source": [
    "maximized_sum_pairs([6,8,12,4,1,15])"
   ]
  },
  {
   "cell_type": "markdown",
   "id": "1a1cc35b-92f1-4b26-8ddc-bc9998560e88",
   "metadata": {},
   "source": [
    " **Question 5**\n",
    "You have n coins and you want to build a staircase with these coins. The staircase consists of k rows where the ith row has exactly i coins. The last row of the staircase **may be** incomplete.\n",
    "\n",
    "Given the integer n, return *the number of **complete rows** of the staircase you will build*.\n",
    "\n",
    "**Example 1:**\n",
    "**Input:** n = 5\n",
    "\n",
    "**Output:** 2"
   ]
  },
  {
   "cell_type": "code",
   "execution_count": 13,
   "id": "fad00c97-721c-43cd-8c9d-05cc6bbfde13",
   "metadata": {},
   "outputs": [],
   "source": [
    "def coin_staircase(x):\n",
    "    result=0\n",
    "    n=1\n",
    "    while(result<=x-n):\n",
    "        result+=n\n",
    "        n=n+1\n",
    "    return n-1"
   ]
  },
  {
   "cell_type": "code",
   "execution_count": 14,
   "id": "02f722b5-ae67-4cda-bbc9-7103cbede9fb",
   "metadata": {},
   "outputs": [
    {
     "data": {
      "text/plain": [
       "3"
      ]
     },
     "execution_count": 14,
     "metadata": {},
     "output_type": "execute_result"
    }
   ],
   "source": [
    "coin_staircase(6)"
   ]
  },
  {
   "cell_type": "code",
   "execution_count": 15,
   "id": "fe749284-0cdd-4162-85e5-d4ce087cba70",
   "metadata": {},
   "outputs": [
    {
     "data": {
      "text/plain": [
       "4"
      ]
     },
     "execution_count": 15,
     "metadata": {},
     "output_type": "execute_result"
    }
   ],
   "source": [
    "coin_staircase(11)"
   ]
  },
  {
   "cell_type": "markdown",
   "id": "0a483a4b-689d-408c-b4cd-cbbdaf01ba78",
   "metadata": {},
   "source": [
    "**Question 6**\n",
    "Given an integer array nums sorted in **non-decreasing** order, return *an array of **the squares of each number** sorted in non-decreasing order*.\n",
    "\n",
    "**Example 1:**\n",
    "\n",
    "Input: nums = [-4,-1,0,3,10]\n",
    "\n",
    "Output: [0,1,9,16,100]"
   ]
  },
  {
   "cell_type": "code",
   "execution_count": 16,
   "id": "793f3414-d69f-4e29-b7c7-9c3bf663197e",
   "metadata": {},
   "outputs": [],
   "source": [
    "def square_of_number(arr):\n",
    "    new_arr=[x*x for x in arr]\n",
    "    new_arr.sort()\n",
    "    return new_arr"
   ]
  },
  {
   "cell_type": "code",
   "execution_count": 17,
   "id": "e9657fe1-62ec-4f23-a2da-c144f5bc712f",
   "metadata": {},
   "outputs": [
    {
     "data": {
      "text/plain": [
       "[0, 1, 9, 16, 100]"
      ]
     },
     "execution_count": 17,
     "metadata": {},
     "output_type": "execute_result"
    }
   ],
   "source": [
    "square_of_number([-4,-1,0,3,10])"
   ]
  },
  {
   "cell_type": "markdown",
   "id": "c78846bc-bab2-410b-b3e7-836e079647cc",
   "metadata": {},
   "source": [
    "**Question 7**\n",
    "You are given an m x n matrix M initialized with all 0's and an array of operations ops, where ops[i] = [ai, bi] means M[x][y] should be incremented by one for all 0 <= x < ai and 0 <= y < bi.\n",
    "\n",
    "Count and return *the number of maximum integers in the matrix after performing all the operations*"
   ]
  },
  {
   "cell_type": "code",
   "execution_count": 18,
   "id": "6b53c6d1-5c1c-4f83-81ce-d3823651a25d",
   "metadata": {},
   "outputs": [],
   "source": [
    "def maxCount(m, n, ops):\n",
    "    for op in ops:\n",
    "        m = min(m, op[0])\n",
    "        n = min(n, op[1])\n",
    "    \n",
    "    return m * n"
   ]
  },
  {
   "cell_type": "code",
   "execution_count": 19,
   "id": "1af4e8f5-ce24-4fba-8a8d-540f63903685",
   "metadata": {},
   "outputs": [
    {
     "data": {
      "text/plain": [
       "4"
      ]
     },
     "execution_count": 19,
     "metadata": {},
     "output_type": "execute_result"
    }
   ],
   "source": [
    "maxCount(3,3,[[2,2],[3,3]])"
   ]
  },
  {
   "cell_type": "markdown",
   "id": "585498bf-67c3-4410-9e30-63fcffc5fe0c",
   "metadata": {},
   "source": [
    "**Question 8**\n",
    "\n",
    "Given the array nums consisting of 2n elements in the form [x1,x2,...,xn,y1,y2,...,yn].\n",
    "\n",
    "*Return the array in the form* [x1,y1,x2,y2,...,xn,yn].\n",
    "\n",
    "**Example 1:**\n",
    "\n",
    "**Input:** nums = [2,5,1,3,4,7], n = 3\n",
    "\n",
    "**Output:** [2,3,5,4,1,7]"
   ]
  },
  {
   "cell_type": "code",
   "execution_count": 20,
   "id": "fcf4a52a-23cb-4738-8cda-279d577cf1a8",
   "metadata": {},
   "outputs": [],
   "source": [
    "def x_y_format(arr,n):\n",
    "    new_arr=[]\n",
    "    i=0\n",
    "    while(i<n):\n",
    "        new_arr.append(arr[i])\n",
    "        new_arr.append(arr[n+i])\n",
    "        i+=1\n",
    "        \n",
    "    return new_arr\n",
    "        "
   ]
  },
  {
   "cell_type": "code",
   "execution_count": 21,
   "id": "cb38efdd-d01a-4579-ab4a-dc56c62c2e4a",
   "metadata": {},
   "outputs": [
    {
     "data": {
      "text/plain": [
       "[2, 4, 5, 8, 1, 7, 3, 10]"
      ]
     },
     "execution_count": 21,
     "metadata": {},
     "output_type": "execute_result"
    }
   ],
   "source": [
    "x_y_format([2,5,1,3,4,8,7,10],4)"
   ]
  },
  {
   "cell_type": "code",
   "execution_count": null,
   "id": "d00ca37e-eab8-43d7-9add-22389f07ac1f",
   "metadata": {},
   "outputs": [],
   "source": []
  }
 ],
 "metadata": {
  "kernelspec": {
   "display_name": "Python 3 (ipykernel)",
   "language": "python",
   "name": "python3"
  },
  "language_info": {
   "codemirror_mode": {
    "name": "ipython",
    "version": 3
   },
   "file_extension": ".py",
   "mimetype": "text/x-python",
   "name": "python",
   "nbconvert_exporter": "python",
   "pygments_lexer": "ipython3",
   "version": "3.10.8"
  }
 },
 "nbformat": 4,
 "nbformat_minor": 5
}
