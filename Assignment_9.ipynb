{
 "cells": [
  {
   "cell_type": "markdown",
   "id": "e273b2d5-0d83-4566-b538-43aa4c1d95a2",
   "metadata": {},
   "source": [
    "Given a 1-indexed array of integers numbers that are already sorted in non-decreasing order, find two numbers such that they add up to a specific target number. Let these two numbers be numbers[index1] and numbers[index2] where 1 <= index1 < index2 < numbers.length.\n",
    "- Return the indices of the two numbers, index1, and index2, added by one as an integer array [index1, index2] of length 2.\n",
    "The tests are generated such that there is exactly one solution. You may not use the same element twice.\n",
    "Your solution must use only constant extra space.\n",
    "- Input: numbers = [2,7,11,15], target = 9\n",
    "- Output: [1,2]\n",
    "Explanation: The sum of 2 and 7 is 9. Therefore, index1 = 1, index2 = 2. We return [1, 2]."
   ]
  },
  {
   "cell_type": "code",
   "execution_count": 1,
   "id": "d96d2910-63ae-425a-9e90-470e49347448",
   "metadata": {},
   "outputs": [],
   "source": [
    "def Index_of_two_sum(nums:list,target):\n",
    "    for i in range(len(nums)):\n",
    "        n1=nums[i]\n",
    "        n2=target-n1\n",
    "        low=i+1\n",
    "        high=len(nums)-1\n",
    "        while(low<=high):\n",
    "            mid=low+(high-low)//2\n",
    "            if nums[mid]==n2:\n",
    "                return [i,mid]\n",
    "            elif nums[mid]<n2:\n",
    "                low=mid+1\n",
    "            else:\n",
    "                high=mid-1\n",
    "    return False "
   ]
  },
  {
   "cell_type": "code",
   "execution_count": 2,
   "id": "b5dee91a-a87e-43b4-8934-93bc56fdea92",
   "metadata": {},
   "outputs": [
    {
     "data": {
      "text/plain": [
       "[0, 4]"
      ]
     },
     "execution_count": 2,
     "metadata": {},
     "output_type": "execute_result"
    }
   ],
   "source": [
    "Index_of_two_sum([2,3,4,5,7],9)"
   ]
  },
  {
   "cell_type": "markdown",
   "id": "4808d3a1-c288-4324-bf9c-b02a420c2087",
   "metadata": {},
   "source": [
    "Given an array of integer nums sorted in non-decreasing order, find the starting and ending position of a given target value.\n",
    "If the target is not found in the array, return [-1, -1].\n",
    "You must write an algorithm with O(log n) runtime complexity\n",
    "- Input: nums = [5,7,7,8,8,10], target = 8\n",
    "- Output: [3,4]"
   ]
  },
  {
   "cell_type": "code",
   "execution_count": 3,
   "id": "62532ef0-88a0-4be1-a605-8db55ba735b7",
   "metadata": {},
   "outputs": [],
   "source": [
    "def start_end_position(nums:list,target:int):\n",
    "    low=0\n",
    "    high=len(nums)-1\n",
    "    while(low<=high):\n",
    "        mid=low+(high-low)//2\n",
    "        if nums[mid]==target:\n",
    "            start=mid\n",
    "            end=mid\n",
    "            while(nums[start]==target):\n",
    "                start=start-1\n",
    "                if start<0 :\n",
    "                    break\n",
    "            while(nums[end]==target) :\n",
    "                end=end+1\n",
    "                if end>len(nums)-1:\n",
    "                    break\n",
    "            return [start+1,end-1]  \n",
    "\n",
    "        elif nums[mid]>target:\n",
    "             high=mid-1\n",
    "        else:\n",
    "            low=mid+1\n",
    "    return [-1,-1]"
   ]
  },
  {
   "cell_type": "code",
   "execution_count": 4,
   "id": "9810019b-e229-4923-aba0-a45a227229db",
   "metadata": {},
   "outputs": [
    {
     "data": {
      "text/plain": [
       "[1, 2]"
      ]
     },
     "execution_count": 4,
     "metadata": {},
     "output_type": "execute_result"
    }
   ],
   "source": [
    "start_end_position([5,7,7,8,8,8,10],7)"
   ]
  },
  {
   "cell_type": "markdown",
   "id": "678217a3-66b4-4a13-8c4b-b754dc526a8a",
   "metadata": {},
   "source": [
    "A peak element is an element that is strictly greater than its neighbors.\n",
    "Given a 0-indexed integer array nums, find a peak element, and return its index. If the array contains multiple peaks, return the index to any of the peaks.\n",
    "You may imagine that nums[-1] = nums[n] = -∞. In other words, an element is always considered to be strictly greater than a neighbor that is outside the array.\n",
    "You must write an algorithm that runs in O(log n) time.\n",
    "- Input: nums = [1,2,3,1]\n",
    "- Output: 2\n",
    "Explanation: 3 is a peak element and your function should return the index number 2.\n"
   ]
  },
  {
   "cell_type": "code",
   "execution_count": 5,
   "id": "6bbaff04-b8d1-4859-b3ce-b7c98af53344",
   "metadata": {},
   "outputs": [],
   "source": [
    "def findPeakElement( nums: list[int]) -> int:\n",
    "        left, right = 0, len(nums) - 1\n",
    "        while left < right:\n",
    "            mid = left + (right - left) // 2\n",
    "\n",
    "            if nums[mid] < nums[mid + 1]:\n",
    "                left = mid + 1\n",
    "            else:\n",
    "                right = mid\n",
    "\n",
    "        return left\n",
    "        "
   ]
  },
  {
   "cell_type": "code",
   "execution_count": 6,
   "id": "cb9c5a5b-b35f-4f9c-ace7-833063159863",
   "metadata": {},
   "outputs": [
    {
     "data": {
      "text/plain": [
       "5"
      ]
     },
     "execution_count": 6,
     "metadata": {},
     "output_type": "execute_result"
    }
   ],
   "source": [
    "findPeakElement([1,2,3,4,5,6])"
   ]
  },
  {
   "cell_type": "code",
   "execution_count": 7,
   "id": "3cc772f7-778b-43fc-be19-1c246a47304e",
   "metadata": {},
   "outputs": [
    {
     "data": {
      "text/plain": [
       "2"
      ]
     },
     "execution_count": 7,
     "metadata": {},
     "output_type": "execute_result"
    }
   ],
   "source": [
    "findPeakElement([1,2,3,1])"
   ]
  },
  {
   "cell_type": "markdown",
   "id": "030676c9-4afa-4e9b-8a20-bf8017bfe0c2",
   "metadata": {},
   "source": [
    "Given a sorted array of distinct integers and a target value, return the index if the target is found. If not, return the index where it would be if it were inserted in order.\n",
    "+ You must write an algorithm with O(log n) runtime complexity.\n",
    "- Input: nums = [1,3,5,6], target = 5\n",
    "- Output: 2\n",
    "\n",
    "- Input: nums = [1,3,5,6], target = 7\n",
    "- Output: 4"
   ]
  },
  {
   "cell_type": "code",
   "execution_count": 8,
   "id": "634dac3b-c1e5-4dab-bac9-170c70e4992e",
   "metadata": {},
   "outputs": [],
   "source": [
    "def find_target(nums:list,target:int):\n",
    "    low=0\n",
    "    high=len(nums)-1\n",
    "    while(low<=high):\n",
    "        mid=low+(high-low)//2\n",
    "        if nums[mid]==target:\n",
    "            return mid\n",
    "        elif nums[mid]>target:\n",
    "            high=mid-1\n",
    "        else:\n",
    "            low=mid+1\n",
    "    return low"
   ]
  },
  {
   "cell_type": "code",
   "execution_count": 9,
   "id": "787658aa-a567-4839-92a9-2c1e02a8c5ef",
   "metadata": {},
   "outputs": [
    {
     "data": {
      "text/plain": [
       "3"
      ]
     },
     "execution_count": 9,
     "metadata": {},
     "output_type": "execute_result"
    }
   ],
   "source": [
    "find_target([1,3,5,7,9],7)"
   ]
  },
  {
   "cell_type": "markdown",
   "id": "86ffa811-0303-4311-b9e6-f9474c6bbcce",
   "metadata": {},
   "source": [
    "Find the majority element in the array. A majority element in an array A[] of size n is an element that appears more than n/2 times (and hence there is at most one such element). \n",
    "- Input: A[]={3, 3, 4, 2, 4, 4, 2, 4, 4}\n",
    "- Output: 4\n",
    "\n",
    "Explanation: The frequency of 4 is 5 which is greater than half of the size of the array size. "
   ]
  },
  {
   "cell_type": "code",
   "execution_count": 10,
   "id": "e8ad3053-3cf6-4b11-9fbf-9f80df1d0573",
   "metadata": {},
   "outputs": [],
   "source": [
    "def Majority_element(nums:list):\n",
    "    d1={}\n",
    "    for num in nums:\n",
    "        d1[num]=d1.get(num,0)+1\n",
    "    max_num=max(d1,key=lambda x:d1[x])\n",
    "    return max_num"
   ]
  },
  {
   "cell_type": "code",
   "execution_count": 11,
   "id": "59325897-86ce-4454-ae39-03545e379110",
   "metadata": {},
   "outputs": [
    {
     "data": {
      "text/plain": [
       "3"
      ]
     },
     "execution_count": 11,
     "metadata": {},
     "output_type": "execute_result"
    }
   ],
   "source": [
    "Majority_element([2,2,1,1,1,2,2,3,3,3,3,3])"
   ]
  },
  {
   "cell_type": "markdown",
   "id": "25e4ee82-7a36-4461-bbc4-340065ca85e0",
   "metadata": {},
   "source": [
    "You are a product manager and currently leading a team to develop a new product. Unfortunately, the latest version of your product fails the quality check. Since each version is developed based on the previous version, all the versions after a bad version are also bad.\n",
    "- Suppose you have n versions [1, 2, ..., n] and you want to find out the first bad one, which causes all the following ones to be bad.\n",
    "- You are given an API bool isBadVersion(version) which returns whether the version is bad. Implement a function to find the first bad version. You should minimize the number of calls to the API.\n",
    "- Input: n = 5, bad = 4\n",
    "- Output: 4"
   ]
  },
  {
   "cell_type": "code",
   "execution_count": 12,
   "id": "4f0c74d0-585c-446f-85c2-9b7073f9e893",
   "metadata": {},
   "outputs": [],
   "source": [
    "def first_bad_version(n:int):\n",
    "        low=0\n",
    "        high=n\n",
    "        while(low<=high):\n",
    "            mid=low+(high-low)//2\n",
    "            if isBadVersion(mid)==True and isBadVersion(mid-1)==False:\n",
    "                return mid\n",
    "            \n",
    "            if isBadVersion(mid)==True:\n",
    "                high=mid-1\n",
    "            if isBadVersion(mid)==False:\n",
    "                low=mid+1\n",
    "        return 1    "
   ]
  },
  {
   "cell_type": "code",
   "execution_count": 13,
   "id": "dad1fe37-2ab2-4849-93ff-eb82271805f7",
   "metadata": {},
   "outputs": [],
   "source": [
    "#Since the isBadVersion is already defined so if we run  first_bad_version(5) directly here it wil give error as 'isBadVersion is not defined ' but in leetcode it is running perfectly"
   ]
  },
  {
   "cell_type": "markdown",
   "id": "db510b60-4a7f-49d3-b605-8a8bfb638872",
   "metadata": {},
   "source": [
    "Given an array of integers, find the inversion of an array. Formally, two elements a[i] and a[j] form an inversion if a[i] > a[j] and i < j.\n",
    "\n",
    "N=5, arr[] = {2, 4, 1, 3, 5}\n",
    "- Output: 3\n",
    "\n",
    "Explanation: (2,1) (4,1) and (4,3) forms an inversion in an array\n"
   ]
  },
  {
   "cell_type": "code",
   "execution_count": 14,
   "id": "f31fa16c-3f7d-420a-bd89-0ac4c5c8ab8f",
   "metadata": {},
   "outputs": [],
   "source": [
    "def Count_inversion(arr:list):\n",
    "    cnt=0\n",
    "    N=len(arr)\n",
    "    for i in range(N-1):\n",
    "        for j in range(i+1,N):\n",
    "            if arr[i]>arr[j]:\n",
    "                cnt+=1\n",
    "        \n",
    "    return cnt           "
   ]
  },
  {
   "cell_type": "code",
   "execution_count": 15,
   "id": "fe98d9b1-a402-4ab1-b25d-b96025ddd5fb",
   "metadata": {},
   "outputs": [
    {
     "data": {
      "text/plain": [
       "3"
      ]
     },
     "execution_count": 15,
     "metadata": {},
     "output_type": "execute_result"
    }
   ],
   "source": [
    "Count_inversion([2,4,1,3,5])"
   ]
  },
  {
   "cell_type": "markdown",
   "id": "46529ca5-4516-42b2-add7-b3dbaf38ad08",
   "metadata": {},
   "source": [
    "Given three arrays sorted in non-decreasing order, print all common elements in these arrays.\n",
    "\n",
    "- ar1[] = {1, 5, 10, 20, 40, 80} \n",
    "- ar2[] = {6, 7, 20, 80, 100} \n",
    "- ar3[] = {3, 4, 15, 20, 30, 70, 80, 120} \n",
    "\n",
    "Output: 20, 80"
   ]
  },
  {
   "cell_type": "code",
   "execution_count": 16,
   "id": "14350077-da5e-4664-9f9a-8da5916d9c0b",
   "metadata": {},
   "outputs": [],
   "source": [
    "def common_elements(arr1:list,arr2:list,arr3:list):\n",
    "    new_arr=[]\n",
    "    final_arr=[]\n",
    "    for element in arr2:\n",
    "        if element in arr1:\n",
    "            new_arr.append(element)\n",
    "    for element in arr3:\n",
    "        if element in new_arr:\n",
    "            final_arr.append(element)\n",
    "    return final_arr"
   ]
  },
  {
   "cell_type": "code",
   "execution_count": 17,
   "id": "b6b0318d-782c-4a25-8630-e5b333a2af99",
   "metadata": {},
   "outputs": [
    {
     "data": {
      "text/plain": [
       "[20, 80]"
      ]
     },
     "execution_count": 17,
     "metadata": {},
     "output_type": "execute_result"
    }
   ],
   "source": [
    "common_elements([1, 5, 10, 20, 40, 80],[6, 7, 20, 80, 100],[3, 4, 15, 20, 30, 70, 80, 120])"
   ]
  },
  {
   "cell_type": "code",
   "execution_count": null,
   "id": "d47cf175-52a1-4768-bf9e-11198d107d01",
   "metadata": {},
   "outputs": [],
   "source": []
  }
 ],
 "metadata": {
  "kernelspec": {
   "display_name": "Python 3 (ipykernel)",
   "language": "python",
   "name": "python3"
  },
  "language_info": {
   "codemirror_mode": {
    "name": "ipython",
    "version": 3
   },
   "file_extension": ".py",
   "mimetype": "text/x-python",
   "name": "python",
   "nbconvert_exporter": "python",
   "pygments_lexer": "ipython3",
   "version": "3.10.8"
  }
 },
 "nbformat": 4,
 "nbformat_minor": 5
}
